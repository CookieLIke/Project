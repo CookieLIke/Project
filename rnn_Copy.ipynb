{
 "cells": [
  {
   "cell_type": "code",
   "execution_count": 2,
   "metadata": {
    "colab": {},
    "colab_type": "code",
    "id": "od-Vfj39KUTw"
   },
   "outputs": [],
   "source": [
    "import numpy as np\n",
    "import pandas as pd\n",
    "import csv\n",
    "import re\n",
    "\n",
    "import matplotlib.pyplot as plt\n",
    "%matplotlib inline\n",
    "\n",
    "import torch\n",
    "import torch.nn as nn\n",
    "from torch.utils.data import DataLoader, Dataset\n",
    "\n",
    "from tqdm import tqdm"
   ]
  },
  {
   "cell_type": "code",
   "execution_count": 3,
   "metadata": {
    "colab": {},
    "colab_type": "code",
    "id": "yfjkkHbsbMUn"
   },
   "outputs": [],
   "source": [
    "def preprocess(text):\n",
    "    text = text.lower()\n",
    "    text = ''.join(re.findall(r'[ а-я]', text))\n",
    "    return text.split()"
   ]
  },
  {
   "cell_type": "code",
   "execution_count": 4,
   "metadata": {
    "colab": {
     "base_uri": "https://localhost:8080/",
     "height": 142
    },
    "colab_type": "code",
    "id": "f-MI5NfmOlxV",
    "outputId": "f992cec1-b399-4f31-fd6c-d3c04e7517f7"
   },
   "outputs": [],
   "source": [
    "tweets = []\n",
    "    \n",
    "try:\n",
    "    reader = csv.reader(open('twitter.csv', 'r'), delimiter=';')\n",
    "    for line in reader:\n",
    "        line = preprocess(line[3])\n",
    "        if len(line) > 10:\n",
    "            tweets.append(line)\n",
    "except: # some bug with encoding in the end of file\n",
    "    pass\n",
    "\n",
    "tweets = tweets[:8500]"
   ]
  },
  {
   "cell_type": "code",
   "execution_count": 5,
   "metadata": {
    "colab": {
     "base_uri": "https://localhost:8080/",
     "height": 574
    },
    "colab_type": "code",
    "id": "TzxHnhQVN7BX",
    "outputId": "e476a0b7-59dc-4380-dc4b-b8493cb90f23"
   },
   "outputs": [],
   "source": [
    "tolstoy = []\n",
    "\n",
    "with open('tolst.txt', 'r', encoding=\"windows-1251\") as file:\n",
    "    for line in file:\n",
    "        line = preprocess(line)\n",
    "        if len(line) > 10:\n",
    "            tolstoy.append(line)"
   ]
  },
  {
   "cell_type": "code",
   "execution_count": 6,
   "metadata": {
    "colab": {
     "base_uri": "https://localhost:8080/",
     "height": 408
    },
    "colab_type": "code",
    "id": "zKdHauyIKguJ",
    "outputId": "31c517d1-e2fe-4adb-c28c-22e8bfe43786"
   },
   "outputs": [
    {
     "name": "stderr",
     "output_type": "stream",
     "text": [
      "\r",
      "  0%|          | 0/22 [00:00<?, ?it/s]"
     ]
    },
    {
     "name": "stdout",
     "output_type": "stream",
     "text": [
      "205644922\n"
     ]
    },
    {
     "name": "stderr",
     "output_type": "stream",
     "text": [
      "\r",
      "  5%|▍         | 1/22 [00:00<00:15,  1.35it/s]"
     ]
    },
    {
     "name": "stdout",
     "output_type": "stream",
     "text": [
      "205659712\n"
     ]
    },
    {
     "name": "stderr",
     "output_type": "stream",
     "text": [
      " 14%|█▎        | 3/22 [00:01<00:08,  2.12it/s]"
     ]
    },
    {
     "name": "stdout",
     "output_type": "stream",
     "text": [
      "205658629\n",
      "205654795\n"
     ]
    },
    {
     "name": "stderr",
     "output_type": "stream",
     "text": [
      " 23%|██▎       | 5/22 [00:01<00:05,  3.14it/s]"
     ]
    },
    {
     "name": "stdout",
     "output_type": "stream",
     "text": [
      "205662153\n",
      "205661302\n"
     ]
    },
    {
     "name": "stderr",
     "output_type": "stream",
     "text": [
      " 32%|███▏      | 7/22 [00:01<00:03,  4.14it/s]"
     ]
    },
    {
     "name": "stdout",
     "output_type": "stream",
     "text": [
      "205661473\n",
      "205650194\n"
     ]
    },
    {
     "name": "stderr",
     "output_type": "stream",
     "text": [
      " 41%|████      | 9/22 [00:03<00:06,  2.10it/s]"
     ]
    },
    {
     "name": "stdout",
     "output_type": "stream",
     "text": [
      "205661830\n",
      "205662338\n"
     ]
    },
    {
     "name": "stderr",
     "output_type": "stream",
     "text": [
      " 50%|█████     | 11/22 [00:03<00:03,  3.32it/s]"
     ]
    },
    {
     "name": "stdout",
     "output_type": "stream",
     "text": [
      "205659311\n",
      "205662011\n"
     ]
    },
    {
     "name": "stderr",
     "output_type": "stream",
     "text": [
      "\r",
      " 55%|█████▍    | 12/22 [00:04<00:02,  3.60it/s]"
     ]
    },
    {
     "name": "stdout",
     "output_type": "stream",
     "text": [
      "205655291\n"
     ]
    },
    {
     "name": "stderr",
     "output_type": "stream",
     "text": [
      "\r",
      " 59%|█████▉    | 13/22 [00:04<00:02,  3.77it/s]"
     ]
    },
    {
     "name": "stdout",
     "output_type": "stream",
     "text": [
      "205641956\n"
     ]
    },
    {
     "name": "stderr",
     "output_type": "stream",
     "text": [
      "\r",
      " 64%|██████▎   | 14/22 [00:05<00:04,  1.63it/s]"
     ]
    },
    {
     "name": "stdout",
     "output_type": "stream",
     "text": [
      "205657977\n"
     ]
    },
    {
     "name": "stderr",
     "output_type": "stream",
     "text": [
      "\r",
      " 68%|██████▊   | 15/22 [00:06<00:03,  1.78it/s]"
     ]
    },
    {
     "name": "stdout",
     "output_type": "stream",
     "text": [
      "205661558\n"
     ]
    },
    {
     "name": "stderr",
     "output_type": "stream",
     "text": [
      "\r",
      " 73%|███████▎  | 16/22 [00:06<00:02,  2.05it/s]"
     ]
    },
    {
     "name": "stdout",
     "output_type": "stream",
     "text": [
      "205650236\n"
     ]
    },
    {
     "name": "stderr",
     "output_type": "stream",
     "text": [
      "\r",
      " 77%|███████▋  | 17/22 [00:06<00:02,  2.14it/s]"
     ]
    },
    {
     "name": "stdout",
     "output_type": "stream",
     "text": [
      "205594858\n"
     ]
    },
    {
     "name": "stderr",
     "output_type": "stream",
     "text": [
      "\r",
      " 82%|████████▏ | 18/22 [00:09<00:04,  1.02s/it]"
     ]
    },
    {
     "name": "stdout",
     "output_type": "stream",
     "text": [
      "205660282\n"
     ]
    },
    {
     "name": "stderr",
     "output_type": "stream",
     "text": [
      "\r",
      " 86%|████████▋ | 19/22 [00:09<00:02,  1.18it/s]"
     ]
    },
    {
     "name": "stdout",
     "output_type": "stream",
     "text": [
      "205654018\n"
     ]
    },
    {
     "name": "stderr",
     "output_type": "stream",
     "text": [
      "\r",
      " 91%|█████████ | 20/22 [00:10<00:01,  1.08it/s]"
     ]
    },
    {
     "name": "stdout",
     "output_type": "stream",
     "text": [
      "205660512\n"
     ]
    },
    {
     "name": "stderr",
     "output_type": "stream",
     "text": [
      "\r",
      " 95%|█████████▌| 21/22 [00:11<00:00,  1.30it/s]"
     ]
    },
    {
     "name": "stdout",
     "output_type": "stream",
     "text": [
      "205659988\n"
     ]
    },
    {
     "name": "stderr",
     "output_type": "stream",
     "text": [
      "100%|██████████| 22/22 [00:11<00:00,  1.88it/s]\n"
     ]
    }
   ],
   "source": [
    "import urllib.request\n",
    "from bs4 import BeautifulSoup\n",
    "\n",
    "def get_page(url):\n",
    "    page = urllib.request.urlopen(url).read().decode('utf-8')\n",
    "    soup = BeautifulSoup(page, 'html.parser')\n",
    "    return soup\n",
    "\n",
    "def parse_2ch():\n",
    "    posts = get_page('https://2ch.hk/b/').select('.post_type_oppost a')\n",
    "    \n",
    "    links = set()\n",
    "    for post in posts:\n",
    "        idx = post.get('id')\n",
    "        if isinstance(idx, str):\n",
    "            links.add(idx)\n",
    "            \n",
    "    messages = []\n",
    "    for idx in tqdm(links):\n",
    "        print(idx)\n",
    "        raw_messages = get_page(f'https://2ch.hk/b/res/{idx}.html').select('.post__message')\n",
    "        for message in raw_messages:\n",
    "            message = preprocess(message.text)\n",
    "            if len(message) > 10:\n",
    "                messages.append(message)\n",
    "    \n",
    "    return messages\n",
    "\n",
    "dwach = parse_2ch()"
   ]
  },
  {
   "cell_type": "code",
   "execution_count": 7,
   "metadata": {
    "colab": {},
    "colab_type": "code",
    "id": "891GJWsCKUT4"
   },
   "outputs": [],
   "source": [
    "class Vocab:\n",
    "    def __init__(self, corpora, tokenizer, max_len=20, vocab_size=5000):\n",
    "        self.tokenizer = tokenizer\n",
    "        self.max_len = max_len\n",
    "        \n",
    "        counts = {}\n",
    "        \n",
    "        for sentence in corpora:\n",
    "            for token in sentence:\n",
    "                counts[token] = counts.get(token, 0) + 1\n",
    "        \n",
    "        l = sorted(counts.items(), key=lambda x: -x[1])[:vocab_size-2]\n",
    "        \n",
    "        print('least used token:', l[-1])\n",
    "        print('vocab size:', len(l), '(+2)')\n",
    "        \n",
    "        self.t2i = {\"<pad>\" : 0, \"<unk>\" : 1}\n",
    "        self.i2t = {0 : \"<pad>\", 1 : \"<unk>\"}\n",
    "              \n",
    "        for token, _ in l:\n",
    "            self.i2t[len(self.i2t)] = token\n",
    "            self.t2i[token] = len(self.t2i)\n",
    "    \n",
    "    def tokenize(self, sentence, pad=True):\n",
    "        if pad:\n",
    "            sentence = sentence[:self.max_len]\n",
    "            while len(sentence) < self.max_len:\n",
    "                sentence.append('<pad>')\n",
    "        \n",
    "        indices = []\n",
    "        for token in sentence:\n",
    "            if token in self.t2i:\n",
    "                indices.append(self.t2i[token])\n",
    "            else:\n",
    "                indices.append(1)\n",
    "        \n",
    "        return indices"
   ]
  },
  {
   "cell_type": "code",
   "execution_count": 8,
   "metadata": {
    "colab": {
     "base_uri": "https://localhost:8080/",
     "height": 102
    },
    "colab_type": "code",
    "id": "Wl3zeFSUKUT8",
    "outputId": "322cea2d-59e1-4326-a0aa-4ad2e8f3dbab"
   },
   "outputs": [
    {
     "name": "stdout",
     "output_type": "stream",
     "text": [
      "8500\n",
      "8620\n",
      "8808\n",
      "least used token: ('военном', 18)\n",
      "vocab size: 4998 (+2)\n"
     ]
    }
   ],
   "source": [
    "# me: mom can we have oversampling?\n",
    "# mom: but we have oversampling at home\n",
    "# oversampling at home:\n",
    "dataset_a = tweets\n",
    "dataset_b = tolstoy\n",
    "dataset_c = dwach+dwach+dwach+dwach+dwach+dwach+dwach+dwach \n",
    "\n",
    "print(len(dataset_a))\n",
    "print(len(dataset_b))\n",
    "print(len(dataset_c))\n",
    "\n",
    "vocab = Vocab(dataset_a + dataset_b + dataset_c, preprocess)"
   ]
  },
  {
   "cell_type": "code",
   "execution_count": 9,
   "metadata": {
    "colab": {},
    "colab_type": "code",
    "id": "0OKvCmcGKUT_"
   },
   "outputs": [],
   "source": [
    "class StyleDataset(Dataset):\n",
    "    def __init__(self, corpora, vocab):\n",
    "        self.vocab = vocab\n",
    "        self.samples = []\n",
    "        self.labels = []\n",
    "        \n",
    "        for i, dataset in enumerate(corpora):\n",
    "            self.samples += dataset\n",
    "            self.labels += [i] * len(dataset)\n",
    "    \n",
    "    def __len__(self):\n",
    "        return len(self.samples)\n",
    "    \n",
    "    def __getitem__(self, idx):\n",
    "        X = self.vocab.tokenize(self.samples[idx])\n",
    "        y = [self.labels[idx]] * len(X)\n",
    "        return torch.LongTensor(X), torch.LongTensor(y)"
   ]
  },
  {
   "cell_type": "code",
   "execution_count": 10,
   "metadata": {
    "colab": {
     "base_uri": "https://localhost:8080/",
     "height": 68
    },
    "colab_type": "code",
    "id": "aaXow-McKUUC",
    "outputId": "d1f0b074-1aa8-489a-a41e-fde5152c7277"
   },
   "outputs": [
    {
     "data": {
      "text/plain": [
       "(tensor([  20,   67,   46,    1,   35,  424, 2506,    4,   82,    4,    1,    0,\n",
       "            0,    0,    0,    0,    0,    0,    0,    0]),\n",
       " tensor([0, 0, 0, 0, 0, 0, 0, 0, 0, 0, 0, 0, 0, 0, 0, 0, 0, 0, 0, 0]))"
      ]
     },
     "execution_count": 10,
     "metadata": {},
     "output_type": "execute_result"
    }
   ],
   "source": [
    "dataset = StyleDataset([dataset_a, dataset_b, dataset_c], vocab)\n",
    "\n",
    "# todo: this should be done before oversampling\n",
    "train_dataset, test_dataset = torch.utils.data.random_split(dataset, [len(dataset)-512, 512])\n",
    "\n",
    "train = DataLoader(train_dataset, batch_size=64, shuffle=True)\n",
    "test = DataLoader(test_dataset, batch_size=64)\n",
    "\n",
    "dataset[5]"
   ]
  },
  {
   "cell_type": "code",
   "execution_count": 11,
   "metadata": {
    "colab": {},
    "colab_type": "code",
    "id": "o8tVAVfFKUUJ"
   },
   "outputs": [],
   "source": [
    "def fetch_embeddings(embeddings, vocab, embedding_dim=300):\n",
    "    weights = torch.randn(len(vocab.t2i), embedding_dim) / 10\n",
    "    \n",
    "    print('reading file', embeddings)\n",
    "    print('this may take a while...')\n",
    "    \n",
    "    with open(embeddings) as file:\n",
    "        for line in file:\n",
    "            data = line.split()\n",
    "            if len(data) == embedding_dim + 1:\n",
    "                token = data[0]\n",
    "                vector = torch.Tensor([float(x) for x in data[1:]])\n",
    "                if token in vocab.t2i:\n",
    "                    weights[vocab.t2i[token]] = vector\n",
    "    \n",
    "    return weights\n",
    "\n",
    "\n",
    "class StyleClassifier(nn.Module):\n",
    "    def __init__(\n",
    "        self,\n",
    "        embeddings,\n",
    "        embedding_dim=300,\n",
    "        num_classes=3,\n",
    "        hidden_dim=50,\n",
    "        num_layers=1,\n",
    "        rnn_dropout=0,\n",
    "        bidirectional=False):\n",
    "        \n",
    "        super().__init__()\n",
    "        \n",
    "        self.embed = nn.Embedding.from_pretrained(embeddings)\n",
    "        \n",
    "        self.rnn = nn.GRU(\n",
    "            embedding_dim,\n",
    "            hidden_dim, \n",
    "            num_layers=num_layers, \n",
    "            bidirectional=bidirectional, \n",
    "            dropout=rnn_dropout,\n",
    "            batch_first=True\n",
    "        )\n",
    "        \n",
    "        self.head = nn.Sequential(\n",
    "            nn.Dropout(0.5),\n",
    "            nn.Linear(hidden_dim, hidden_dim),\n",
    "            nn.ReLU(),\n",
    "            nn.Dropout(0.5),\n",
    "            nn.Linear(hidden_dim, num_classes),\n",
    "            nn.LogSoftmax(dim=2)\n",
    "        )\n",
    "        \n",
    "    def forward(self, X):\n",
    "        X = self.embed(X)\n",
    "        X, _ = self.rnn(X)\n",
    "        X = self.head(X)\n",
    "        return X"
   ]
  },
  {
   "cell_type": "code",
   "execution_count": null,
   "metadata": {
    "colab": {},
    "colab_type": "code",
    "id": "HE6aZSjUuPwh"
   },
   "outputs": [],
   "source": []
  },
  {
   "cell_type": "code",
   "execution_count": 12,
   "metadata": {
    "colab": {},
    "colab_type": "code",
    "id": "lNmAuJHftc58"
   },
   "outputs": [],
   "source": [
    "!touch empty.vec"
   ]
  },
  {
   "cell_type": "code",
   "execution_count": 13,
   "metadata": {
    "colab": {
     "base_uri": "https://localhost:8080/",
     "height": 51
    },
    "colab_type": "code",
    "id": "8_AbBsD7KUUM",
    "outputId": "321a2333-1731-473f-864b-7a20612fb7c0"
   },
   "outputs": [
    {
     "name": "stdout",
     "output_type": "stream",
     "text": [
      "reading file wiki.ru.vec\n",
      "this may take a while...\n"
     ]
    }
   ],
   "source": [
    "embeddings = fetch_embeddings('wiki.ru.vec', vocab, embedding_dim=300)\n",
    "model = StyleClassifier(embeddings)"
   ]
  },
  {
   "cell_type": "code",
   "execution_count": 14,
   "metadata": {
    "colab": {},
    "colab_type": "code",
    "id": "G-m08RFtKUUQ"
   },
   "outputs": [
    {
     "data": {
      "text/plain": [
       "tensor([[[0.2982, 0.3916, 0.3102],\n",
       "         [0.3151, 0.3480, 0.3369],\n",
       "         [0.3565, 0.3384, 0.3051],\n",
       "         [0.3740, 0.3463, 0.2797],\n",
       "         [0.3966, 0.3546, 0.2488],\n",
       "         [0.3538, 0.3670, 0.2791],\n",
       "         [0.3112, 0.4614, 0.2274],\n",
       "         [0.2849, 0.3408, 0.3742],\n",
       "         [0.3399, 0.3383, 0.3219],\n",
       "         [0.3240, 0.4087, 0.2674],\n",
       "         [0.3543, 0.3677, 0.2781],\n",
       "         [0.2293, 0.3939, 0.3768],\n",
       "         [0.2989, 0.3849, 0.3162],\n",
       "         [0.3618, 0.3207, 0.3175],\n",
       "         [0.3757, 0.3893, 0.2350],\n",
       "         [0.3321, 0.3326, 0.3353],\n",
       "         [0.3217, 0.3693, 0.3090],\n",
       "         [0.3131, 0.3598, 0.3271],\n",
       "         [0.3313, 0.3314, 0.3372],\n",
       "         [0.3219, 0.3611, 0.3170]]], grad_fn=<ExpBackward>)"
      ]
     },
     "execution_count": 14,
     "metadata": {},
     "output_type": "execute_result"
    }
   ],
   "source": [
    "test_batch = dataset[0][0].view(1, -1)\n",
    "model(test_batch).exp()"
   ]
  },
  {
   "cell_type": "code",
   "execution_count": 15,
   "metadata": {
    "colab": {},
    "colab_type": "code",
    "id": "ElGnnan7KUUU"
   },
   "outputs": [],
   "source": [
    "lr = 5e-2\n",
    "num_epochs = 10\n",
    "device = torch.device('cpu')\n",
    "\n",
    "#model = StyleClassifier(len(vocab.i2t), 'fasttext.vec')\n",
    "model = model.to(device)\n",
    "optimizer = torch.optim.Adam(model.parameters(), lr=lr)\n",
    "criterion = nn.NLLLoss()"
   ]
  },
  {
   "cell_type": "code",
   "execution_count": 16,
   "metadata": {
    "colab": {
     "base_uri": "https://localhost:8080/",
     "height": 527
    },
    "colab_type": "code",
    "id": "u2V5pB1MKUUc",
    "outputId": "7c78e1de-19c7-488e-92ac-51bbfae130cd"
   },
   "outputs": [
    {
     "name": "stderr",
     "output_type": "stream",
     "text": [
      "100%|██████████| 398/398 [00:21<00:00, 18.57it/s]\n",
      "100%|██████████| 8/8 [00:00<00:00, 62.24it/s]\n",
      "  0%|          | 1/398 [00:00<00:55,  7.15it/s]"
     ]
    },
    {
     "name": "stdout",
     "output_type": "stream",
     "text": [
      "test loss: 5.104762494564056\n"
     ]
    },
    {
     "name": "stderr",
     "output_type": "stream",
     "text": [
      "100%|██████████| 398/398 [00:20<00:00, 19.82it/s]\n",
      "100%|██████████| 8/8 [00:00<00:00, 48.61it/s]\n",
      "  1%|          | 2/398 [00:00<00:22, 17.58it/s]"
     ]
    },
    {
     "name": "stdout",
     "output_type": "stream",
     "text": [
      "test loss: 5.192559242248535\n"
     ]
    },
    {
     "name": "stderr",
     "output_type": "stream",
     "text": [
      "100%|██████████| 398/398 [00:20<00:00, 19.77it/s]\n",
      "100%|██████████| 8/8 [00:00<00:00, 64.50it/s]\n",
      "  1%|          | 2/398 [00:00<00:21, 18.73it/s]"
     ]
    },
    {
     "name": "stdout",
     "output_type": "stream",
     "text": [
      "test loss: 4.879211068153381\n"
     ]
    },
    {
     "name": "stderr",
     "output_type": "stream",
     "text": [
      "100%|██████████| 398/398 [00:20<00:00, 19.83it/s]\n",
      "100%|██████████| 8/8 [00:00<00:00, 62.85it/s]\n",
      "  1%|          | 3/398 [00:00<00:16, 23.57it/s]"
     ]
    },
    {
     "name": "stdout",
     "output_type": "stream",
     "text": [
      "test loss: 6.129417598247528\n"
     ]
    },
    {
     "name": "stderr",
     "output_type": "stream",
     "text": [
      "100%|██████████| 398/398 [00:20<00:00, 19.67it/s]\n",
      "100%|██████████| 8/8 [00:00<00:00, 56.66it/s]\n",
      "  1%|          | 2/398 [00:00<00:23, 16.66it/s]"
     ]
    },
    {
     "name": "stdout",
     "output_type": "stream",
     "text": [
      "test loss: 4.971712946891785\n"
     ]
    },
    {
     "name": "stderr",
     "output_type": "stream",
     "text": [
      "100%|██████████| 398/398 [00:20<00:00, 19.46it/s]\n",
      "100%|██████████| 8/8 [00:00<00:00, 49.38it/s]\n",
      "  1%|          | 2/398 [00:00<00:23, 16.57it/s]"
     ]
    },
    {
     "name": "stdout",
     "output_type": "stream",
     "text": [
      "test loss: 4.634714305400848\n"
     ]
    },
    {
     "name": "stderr",
     "output_type": "stream",
     "text": [
      "100%|██████████| 398/398 [00:21<00:00, 18.47it/s]\n",
      "100%|██████████| 8/8 [00:00<00:00, 58.32it/s]\n",
      "  1%|          | 2/398 [00:00<00:20, 19.02it/s]"
     ]
    },
    {
     "name": "stdout",
     "output_type": "stream",
     "text": [
      "test loss: 5.279074490070343\n"
     ]
    },
    {
     "name": "stderr",
     "output_type": "stream",
     "text": [
      "100%|██████████| 398/398 [00:20<00:00, 19.34it/s]\n",
      "100%|██████████| 8/8 [00:00<00:00, 73.17it/s]\n",
      "  1%|          | 2/398 [00:00<00:25, 15.78it/s]"
     ]
    },
    {
     "name": "stdout",
     "output_type": "stream",
     "text": [
      "test loss: 4.957925915718079\n"
     ]
    },
    {
     "name": "stderr",
     "output_type": "stream",
     "text": [
      "100%|██████████| 398/398 [00:20<00:00, 19.68it/s]\n",
      "100%|██████████| 8/8 [00:00<00:00, 70.49it/s]\n",
      "  1%|          | 3/398 [00:00<00:18, 20.92it/s]"
     ]
    },
    {
     "name": "stdout",
     "output_type": "stream",
     "text": [
      "test loss: 4.814432680606842\n"
     ]
    },
    {
     "name": "stderr",
     "output_type": "stream",
     "text": [
      "100%|██████████| 398/398 [00:21<00:00, 18.85it/s]\n",
      "100%|██████████| 8/8 [00:00<00:00, 50.21it/s]"
     ]
    },
    {
     "name": "stdout",
     "output_type": "stream",
     "text": [
      "test loss: 5.040948569774628\n"
     ]
    },
    {
     "name": "stderr",
     "output_type": "stream",
     "text": [
      "\n"
     ]
    }
   ],
   "source": [
    "train_losses = []\n",
    "test_losses = []\n",
    "\n",
    "for epoch in range(num_epochs):\n",
    "    \n",
    "    for X, y in tqdm(train):\n",
    "        X.to(device)\n",
    "        y.to(device)\n",
    "        \n",
    "        optimizer.zero_grad()\n",
    "        \n",
    "        preds = model(X)\n",
    "        \n",
    "        loss = criterion(preds.view(-1, 3), y.view(-1))\n",
    "        \n",
    "        loss.backward()\n",
    "        optimizer.step()\n",
    "        \n",
    "        train_losses.append(loss.item())\n",
    "    \n",
    "    test_loss = 0\n",
    "    for X, y in tqdm(test):\n",
    "        X.to(device)\n",
    "        y.to(device)\n",
    "        \n",
    "        preds = model(X)\n",
    "        loss = criterion(preds.view(-1, 3), y.view(-1))\n",
    "        \n",
    "        test_loss += loss.item()\n",
    "    \n",
    "    test_losses.append(test_loss)\n",
    "    print('test loss:', test_loss)"
   ]
  },
  {
   "cell_type": "code",
   "execution_count": 17,
   "metadata": {
    "colab": {
     "base_uri": "https://localhost:8080/",
     "height": 521
    },
    "colab_type": "code",
    "id": "_wP58MHrKUUf",
    "outputId": "4f02da3a-db7c-4639-f402-aa02d845cfe4"
   },
   "outputs": [
    {
     "data": {
      "image/png": "[encoded data removed]",
      "text/plain": [
       "<Figure size 432x288 with 1 Axes>"
      ]
     },
     "metadata": {},
     "output_type": "display_data"
    },
    {
     "data": {
      "image/png": "[encoded data removed]",
      "text/plain": [
       "<Figure size 432x288 with 1 Axes>"
      ]
     },
     "metadata": {},
     "output_type": "display_data"
    }
   ],
   "source": [
    "plt.plot(train_losses)\n",
    "plt.show()\n",
    "\n",
    "plt.plot(test_losses)\n",
    "plt.show()"
   ]
  },
  {
   "cell_type": "code",
   "execution_count": 18,
   "metadata": {
    "colab": {},
    "colab_type": "code",
    "id": "oz0rhlFFKUUo"
   },
   "outputs": [],
   "source": [
    "from IPython.core.display import display, HTML\n",
    "\n",
    "def print_colored(sequence, intensities, delimeter=' '):\n",
    "    html = delimeter.join([\n",
    "        # https://en.wikipedia.org/wiki/Subtractive_color\n",
    "        f'<span style=\"background: rgb({255*(1-x[1]-x[2])}, {255*(1-x[0]-x[2])}, {255*(1-x[0]-x[1])})\">{c}</span>'\n",
    "        for c, x in zip(sequence, intensities) \n",
    "    ])\n",
    "    display(HTML(html))"
   ]
  },
  {
   "cell_type": "code",
   "execution_count": 19,
   "metadata": {
    "colab": {
     "base_uri": "https://localhost:8080/",
     "height": 1000
    },
    "colab_type": "code",
    "id": "QQPrQkwVKUUs",
    "outputId": "d641e009-63c1-472e-b331-aa8d09cc4957"
   },
   "outputs": [
    {
     "data": {
      "text/html": [
       "<span style=\"background: rgb(255.00003051757812, 217.79278564453125, 243.5093536376953)\">сап</span> <span style=\"background: rgb(255.00003051757812, 217.79278564453125, 243.5093536376953)\">б</span> <span style=\"background: rgb(255.00003051757812, 217.79278564453125, 243.5093536376953)\">есть</span> <span style=\"background: rgb(255.00003051757812, 217.79278564453125, 243.5093536376953)\">одна</span> <span style=\"background: rgb(255.0, 215.4844970703125, 246.31365966796875)\">тян</span> <span style=\"background: rgb(255.00003051757812, 217.79278564453125, 243.5093536376953)\">двачую</span> <span style=\"background: rgb(255.0, 216.09495544433594, 246.36636352539062)\">анон</span>"
      ],
      "text/plain": [
       "<IPython.core.display.HTML object>"
      ]
     },
     "metadata": {},
     "output_type": "display_data"
    },
    {
     "data": {
      "text/html": [
       "<span style=\"background: rgb(255.00003051757812, 217.79278564453125, 243.5093536376953)\">князь</span> <span style=\"background: rgb(239.70663452148438, 199.87608337402344, 255.0)\">болконский</span> <span style=\"background: rgb(255.0, 216.4910430908203, 245.28578186035156)\">с</span> <span style=\"background: rgb(251.51345825195312, 223.3697967529297, 255.0)\">удивлением</span> <span style=\"background: rgb(254.99998474121094, 220.53607177734375, 244.02162170410156)\">увидел</span>"
      ],
      "text/plain": [
       "<IPython.core.display.HTML object>"
      ]
     },
     "metadata": {},
     "output_type": "display_data"
    },
    {
     "data": {
      "text/html": [
       "<span style=\"background: rgb(218.2172088623047, 156.1810760498047, 255.0)\">засмеялся</span> <span style=\"background: rgb(255.00003051757812, 217.79278564453125, 243.5093536376953)\">проиграл</span> <span style=\"background: rgb(255.00003051757812, 217.79278564453125, 243.5093536376953)\">тред</span> <span style=\"background: rgb(254.4290008544922, 210.672607421875, 255.0)\">не</span> <span style=\"background: rgb(239.6487579345703, 209.73609924316406, 255.0)\">нашел</span> <span style=\"background: rgb(254.99996948242188, 166.0629119873047, 183.7296905517578)\">создал</span>"
      ],
      "text/plain": [
       "<IPython.core.display.HTML object>"
      ]
     },
     "metadata": {},
     "output_type": "display_data"
    },
    {
     "data": {
      "text/html": [
       "<span style=\"background: rgb(254.99998474121094, 153.50936889648438, 172.27369689941406)\">хахаха</span> <span style=\"background: rgb(255.00003051757812, 217.79278564453125, 243.5093536376953)\">ну</span> <span style=\"background: rgb(254.99998474121094, 102.72273254394531, 105.81876373291016)\">ты</span> <span style=\"background: rgb(246.73416137695312, 198.72976684570312, 255.00003051757812)\">даешь</span>"
      ],
      "text/plain": [
       "<IPython.core.display.HTML object>"
      ]
     },
     "metadata": {},
     "output_type": "display_data"
    },
    {
     "data": {
      "text/html": [
       "<span style=\"background: rgb(255.00003051757812, 238.44212341308594, 247.0752410888672)\">омлирьтрьирттрисап</span> <span style=\"background: rgb(255.00003051757812, 226.48672485351562, 228.17050170898438)\">двач</span> <span style=\"background: rgb(255.0, 239.75244140625, 246.3625946044922)\">есть</span> <span style=\"background: rgb(254.55599975585938, 255.0, 230.6396026611328)\">однаапррвавапвпв</span> <span style=\"background: rgb(254.99998474121094, 223.63214111328125, 244.5847930908203)\">хэштег</span> <span style=\"background: rgb(255.0, 219.7371368408203, 243.66897583007812)\">тян</span> <span style=\"background: rgb(255.0, 204.2329559326172, 226.17410278320312)\">она</span> <span style=\"background: rgb(255.0, 228.01324462890625, 244.9096221923828)\">как</span> <span style=\"background: rgb(255.0, 215.06736755371094, 248.20814514160156)\">будто</span> <span style=\"background: rgb(203.65065002441406, 255.0, 188.13916015625)\">со</span> <span style=\"background: rgb(255.0, 223.63211059570312, 244.5847930908203)\">вниманием</span> <span style=\"background: rgb(255.0, 215.67185974121094, 244.49342346191406)\">слушала</span> <span style=\"background: rgb(255.0, 214.32211303710938, 246.8804168701172)\">рассказ</span> <span style=\"background: rgb(255.0, 244.58412170410156, 248.0551300048828)\">князя</span> <span style=\"background: rgb(255.0, 229.82730102539062, 220.5709228515625)\">василья</span>"
      ],
      "text/plain": [
       "<IPython.core.display.HTML object>"
      ]
     },
     "metadata": {},
     "output_type": "display_data"
    },
    {
     "data": {
      "text/html": [
       "<span style=\"background: rgb(255.0, 82.08161163330078, 84.73892211914062)\">хотела</span> <span style=\"background: rgb(255.00003051757812, 217.79278564453125, 243.5093536376953)\">наконец</span> <span style=\"background: rgb(255.00003051757812, 206.54788208007812, 226.486083984375)\">отдохнуть</span> <span style=\"background: rgb(255.0, 149.7147979736328, 163.06103515625)\">и</span> <span style=\"background: rgb(249.54180908203125, 202.19960021972656, 254.99998474121094)\">тут</span> <span style=\"background: rgb(255.0, 208.2892303466797, 250.3340606689453)\">слышу</span> <span style=\"background: rgb(255.0, 162.0111083984375, 175.011474609375)\">за</span> <span style=\"background: rgb(243.57052612304688, 255.0, 241.90292358398438)\">дверью</span> <span style=\"background: rgb(255.00003051757812, 217.79278564453125, 243.5093536376953)\">топ</span> <span style=\"background: rgb(255.00003051757812, 217.79278564453125, 243.5093536376953)\">топ</span> <span style=\"background: rgb(248.91448974609375, 255.0, 244.23162841796875)\">топ</span> <span style=\"background: rgb(239.6514434814453, 212.32896423339844, 255.0)\">и</span> <span style=\"background: rgb(255.0, 217.67852783203125, 243.69483947753906)\">тут</span> <span style=\"background: rgb(255.0, 215.0670928955078, 248.2086639404297)\">она</span> <span style=\"background: rgb(255.0, 179.0124053955078, 195.18551635742188)\">уже</span> <span style=\"background: rgb(255.0, 234.54714965820312, 244.76593017578125)\">на</span> <span style=\"background: rgb(255.00003051757812, 217.79278564453125, 243.5093536376953)\">пороге</span> <span style=\"background: rgb(254.99998474121094, 211.4745330810547, 253.10499572753906)\">в</span> <span style=\"background: rgb(242.2830810546875, 255.00003051757812, 247.10472106933594)\">моей</span> <span style=\"background: rgb(255.0, 167.65518188476562, 178.80787658691406)\">комнате</span> <span style=\"background: rgb(210.88429260253906, 255.0, 236.3634033203125)\">люблю</span> <span style=\"background: rgb(255.00003051757812, 217.79278564453125, 243.5093536376953)\">ее</span>"
      ],
      "text/plain": [
       "<IPython.core.display.HTML object>"
      ]
     },
     "metadata": {},
     "output_type": "display_data"
    },
    {
     "data": {
      "text/html": [
       "<span style=\"background: rgb(179.5308837890625, 255.00003051757812, 167.79107666015625)\">император</span> <span style=\"background: rgb(255.0, 243.89903259277344, 252.5230712890625)\">александр</span> <span style=\"background: rgb(255.0, 214.44180297851562, 249.37548828125)\">сказала</span> <span style=\"background: rgb(248.63954162597656, 255.0, 244.9459686279297)\">она</span> <span style=\"background: rgb(255.00003051757812, 216.13905334472656, 246.28933715820312)\">с</span> <span style=\"background: rgb(254.99998474121094, 230.50230407714844, 252.42393493652344)\">грустью</span> <span style=\"background: rgb(255.0, 228.73988342285156, 245.29336547851562)\">сопутствовавшей</span> <span style=\"background: rgb(255.0, 212.81277465820312, 250.84658813476562)\">всегда</span> <span style=\"background: rgb(255.0, 222.22483825683594, 243.8701629638672)\">ее</span> <span style=\"background: rgb(254.99996948242188, 190.5000762939453, 208.98602294921875)\">речам</span> <span style=\"background: rgb(255.00003051757812, 217.79278564453125, 243.5093536376953)\">об</span> <span style=\"background: rgb(255.00003051757812, 217.79278564453125, 243.5093536376953)\">императорской</span> <span style=\"background: rgb(255.00003051757812, 217.79278564453125, 243.5093536376953)\">фамилии</span> <span style=\"background: rgb(255.00003051757812, 217.79278564453125, 243.5093536376953)\">объявил</span> <span style=\"background: rgb(244.8245391845703, 254.8839111328125, 255.0)\">что</span> <span style=\"background: rgb(255.00003051757812, 211.17601013183594, 235.74449157714844)\">он</span> <span style=\"background: rgb(239.0739288330078, 203.1848907470703, 255.0)\">предоставит</span> <span style=\"background: rgb(255.00003051757812, 217.79278564453125, 243.5093536376953)\">самим</span> <span style=\"background: rgb(255.0, 212.0024871826172, 252.197021484375)\">французам</span> <span style=\"background: rgb(255.0, 214.32162475585938, 246.8819580078125)\">выбрать</span> <span style=\"background: rgb(113.64329528808594, 255.00003051757812, 116.4998779296875)\">образ</span> <span style=\"background: rgb(247.5707244873047, 255.00003051757812, 235.2176513671875)\">правления</span> <span style=\"background: rgb(255.0, 214.43699645996094, 239.18260192871094)\">и</span> <span style=\"background: rgb(202.6450958251953, 138.8639373779297, 255.00003051757812)\">я</span> <span style=\"background: rgb(255.00003051757812, 216.70115661621094, 244.20664978027344)\">думаю</span> <span style=\"background: rgb(255.0, 217.13819885253906, 244.5850830078125)\">нет</span> <span style=\"background: rgb(255.00003051757812, 217.79278564453125, 243.5093536376953)\">сомнения</span> <span style=\"background: rgb(255.00003051757812, 217.79278564453125, 243.5093536376953)\">что</span> <span style=\"background: rgb(255.00003051757812, 217.79278564453125, 243.5093536376953)\">вся</span> <span style=\"background: rgb(227.62286376953125, 175.5190887451172, 255.0)\">нация</span> <span style=\"background: rgb(255.00003051757812, 217.79278564453125, 243.5093536376953)\">освободившись</span> <span style=\"background: rgb(255.00003051757812, 201.8644561767578, 217.0739288330078)\">от</span> <span style=\"background: rgb(228.72520446777344, 254.99998474121094, 239.17727661132812)\">узурпатора</span> <span style=\"background: rgb(255.00003051757812, 217.79278564453125, 243.5093536376953)\">бросится</span> <span style=\"background: rgb(202.8793487548828, 254.99996948242188, 197.2025909423828)\">в</span> <span style=\"background: rgb(254.99998474121094, 216.04647827148438, 244.69386291503906)\">руки</span> <span style=\"background: rgb(255.00003051757812, 217.79278564453125, 243.5093536376953)\">законного</span> <span style=\"background: rgb(2.086900234222412, 255.00003051757812, 2.5378684997558594)\">короля</span> <span style=\"background: rgb(255.0, 208.2459716796875, 231.18385314941406)\">сказала</span> <span style=\"background: rgb(255.0, 214.32229614257812, 246.8805389404297)\">анна</span> <span style=\"background: rgb(255.00003051757812, 217.79278564453125, 243.5093536376953)\">павловна</span> <span style=\"background: rgb(255.00003051757812, 215.30213928222656, 245.12982177734375)\">стараясь</span> <span style=\"background: rgb(255.00003051757812, 217.79278564453125, 243.5093536376953)\">быть</span> <span style=\"background: rgb(255.0, 243.75001525878906, 247.8925323486328)\">любезной</span> <span style=\"background: rgb(255.0, 202.5380401611328, 225.9162139892578)\">с</span> <span style=\"background: rgb(255.0, 211.17919921875, 235.7482147216797)\">эмигрантом</span> <span style=\"background: rgb(254.99996948242188, 208.40890502929688, 230.8971710205078)\">и</span> <span style=\"background: rgb(255.0, 213.67141723632812, 250.8647918701172)\">роялистом</span>"
      ],
      "text/plain": [
       "<IPython.core.display.HTML object>"
      ]
     },
     "metadata": {},
     "output_type": "display_data"
    },
    {
     "data": {
      "text/html": [
       "<span style=\"background: rgb(203.26678466796875, 138.7591552734375, 255.0)\">все</span> <span style=\"background: rgb(113.54068756103516, 255.0, 117.14544677734375)\">что</span> <span style=\"background: rgb(255.00003051757812, 217.79278564453125, 243.5093536376953)\">я</span> <span style=\"background: rgb(255.00003051757812, 217.79278564453125, 243.5093536376953)\">перечислил</span> <span style=\"background: rgb(255.0, 216.75457763671875, 245.23023986816406)\">для</span> <span style=\"background: rgb(255.00003051757812, 217.79278564453125, 243.5093536376953)\">селюка</span> <span style=\"background: rgb(255.00003051757812, 217.79278564453125, 243.5093536376953)\">вроде</span> <span style=\"background: rgb(255.0, 186.64659118652344, 203.74378967285156)\">тебя</span> <span style=\"background: rgb(251.19509887695312, 206.23992919921875, 255.0)\">считается</span> <span style=\"background: rgb(255.0, 177.8955078125, 192.6326446533203)\">чемто</span> <span style=\"background: rgb(255.0, 199.7810821533203, 220.01687622070312)\">нереальным</span>"
      ],
      "text/plain": [
       "<IPython.core.display.HTML object>"
      ]
     },
     "metadata": {},
     "output_type": "display_data"
    },
    {
     "data": {
      "text/html": [
       "<span style=\"background: rgb(255.0, 170.692626953125, 196.30117797851562)\">у</span> <span style=\"background: rgb(255.00003051757812, 217.79278564453125, 243.5093536376953)\">тебя</span> <span style=\"background: rgb(254.99996948242188, 220.12908935546875, 243.7008819580078)\">есть</span> <span style=\"background: rgb(255.00003051757812, 217.79278564453125, 243.5093536376953)\">ухажр</span> <span style=\"background: rgb(255.0, 214.38377380371094, 249.48561096191406)\">нет</span> <span style=\"background: rgb(255.0, 199.88946533203125, 228.60186767578125)\">мои</span> <span style=\"background: rgb(255.00003051757812, 195.99002075195312, 215.81590270996094)\">уши</span> <span style=\"background: rgb(248.85943603515625, 255.0, 245.06207275390625)\">не</span> <span style=\"background: rgb(238.2505340576172, 244.8005828857422, 254.99998474121094)\">кто</span> <span style=\"background: rgb(255.0, 214.43963623046875, 249.3795166015625)\">не</span> <span style=\"background: rgb(255.00003051757812, 217.79278564453125, 243.5093536376953)\">жрт</span> <span style=\"background: rgb(254.99998474121094, 215.06643676757812, 248.2097930908203)\">прежде</span> <span style=\"background: rgb(255.00003051757812, 217.79278564453125, 243.5093536376953)\">всего</span> <span style=\"background: rgb(255.00003051757812, 36.549705505371094, 38.01371383666992)\">скажите</span> <span style=\"background: rgb(255.00003051757812, 217.79278564453125, 243.5093536376953)\">как</span> <span style=\"background: rgb(213.57992553710938, 254.99998474121094, 216.02069091796875)\">ваше</span> <span style=\"background: rgb(254.99996948242188, 215.83236694335938, 248.02076721191406)\">здоровье</span> <span style=\"background: rgb(255.0, 195.0571746826172, 215.8513946533203)\">милый</span> <span style=\"background: rgb(210.45849609375, 254.99998474121094, 245.03330993652344)\">друг</span> <span style=\"background: rgb(254.99996948242188, 213.987060546875, 250.2472381591797)\">успокойте</span> <span style=\"background: rgb(255.00003051757812, 217.79278564453125, 243.5093536376953)\">меня</span> <span style=\"background: rgb(254.99998474121094, 216.49415588378906, 241.74755859375)\">сказал</span> <span style=\"background: rgb(254.99998474121094, 214.02249145507812, 249.96961975097656)\">он</span> <span style=\"background: rgb(254.99996948242188, 204.60479736328125, 254.5684356689453)\">не</span> <span style=\"background: rgb(255.00003051757812, 217.79278564453125, 243.5093536376953)\">изменяя</span> <span style=\"background: rgb(254.99998474121094, 208.40968322753906, 230.89816284179688)\">голоса</span> <span style=\"background: rgb(255.00003051757812, 217.79278564453125, 243.5093536376953)\">и</span> <span style=\"background: rgb(255.00003051757812, 217.79278564453125, 243.5093536376953)\">тоном</span> <span style=\"background: rgb(255.00003051757812, 217.79278564453125, 243.5093536376953)\">в</span> <span style=\"background: rgb(254.99996948242188, 209.40293884277344, 232.738037109375)\">котором</span> <span style=\"background: rgb(193.70892333984375, 255.0, 208.06236267089844)\">изза</span> <span style=\"background: rgb(255.00003051757812, 217.79278564453125, 243.5093536376953)\">приличия</span> <span style=\"background: rgb(255.00003051757812, 217.79278564453125, 243.5093536376953)\">и</span> <span style=\"background: rgb(255.0, 228.7822265625, 245.31732177734375)\">участия</span> <span style=\"background: rgb(255.0, 213.2251739501953, 246.565673828125)\">просвечивало</span> <span style=\"background: rgb(255.00003051757812, 217.79278564453125, 243.5093536376953)\">равнодушие</span> <span style=\"background: rgb(255.0, 215.67483520507812, 244.49205017089844)\">и</span> <span style=\"background: rgb(255.0, 214.93008422851562, 248.461181640625)\">даже</span> <span style=\"background: rgb(255.0, 125.13136291503906, 149.5112762451172)\">насмешка</span> <span style=\"background: rgb(255.0, 213.2227325439453, 246.56741333007812)\">и</span> <span style=\"background: rgb(249.3716278076172, 222.39112854003906, 255.0)\">золтан</span> <span style=\"background: rgb(255.00003051757812, 217.79278564453125, 243.5093536376953)\">е</span> <span style=\"background: rgb(254.99996948242188, 208.9058837890625, 231.5584259033203)\">трахнет</span> <span style=\"background: rgb(255.0, 216.0956268310547, 246.365234375)\">а</span> <span style=\"background: rgb(255.00003051757812, 217.79278564453125, 243.5093536376953)\">за</span> <span style=\"background: rgb(255.0, 220.45057678222656, 246.5884552001953)\">ещ</span> <span style=\"background: rgb(255.00003051757812, 118.43795776367188, 141.7198028564453)\">и</span> <span style=\"background: rgb(116.9221420288086, 255.00003051757812, 112.83160400390625)\">лютик</span> <span style=\"background: rgb(249.81658935546875, 202.6917266845703, 255.0)\">спот</span> <span style=\"background: rgb(242.74131774902344, 204.6466522216797, 254.99998474121094)\">под</span> <span style=\"background: rgb(255.0, 220.5386505126953, 244.02210998535156)\">это</span> <span style=\"background: rgb(255.00003051757812, 217.79278564453125, 243.5093536376953)\">дело</span> <span style=\"background: rgb(255.0, 236.2781982421875, 244.49000549316406)\">идт</span>"
      ],
      "text/plain": [
       "<IPython.core.display.HTML object>"
      ]
     },
     "metadata": {},
     "output_type": "display_data"
    }
   ],
   "source": [
    "samples = [\n",
    "    'Сап б, есть одна тян. Двачую анон',\n",
    "    'князь болконский с удивлением увидел',\n",
    "    'засмеялся проиграл тред не нашел создал',\n",
    "    'хахаха ну ты даешь',\n",
    "    'омлирьтрьирттри'\n",
    "    'Сап двач, есть однаапррвавапвпв хэштег тян, она как будто со вниманием слушала рассказ князя Василья',\n",
    "    ' '.join(dataset_a[111]), # Твиттер, должен быть красным\n",
    "    ' '.join(dataset_b[111]), # Война и Мир, должна быть зелёнойхз\n",
    "    ' '.join(dataset_c[333]), # Двач, должен быть синим\n",
    "    ' '.join(dataset_a[5] + dataset_b[5] + dataset_c[5])\n",
    "]\n",
    "\n",
    "model = model.cpu()\n",
    "\n",
    "t = 1 # температура, для лучшей визуализации\n",
    "\n",
    "for sample in samples:\n",
    "    sentence = preprocess(sample)\n",
    "    X = torch.LongTensor(vocab.tokenize(sample, pad=False)).view(-1, 1)\n",
    "    scores = model(X).view(-1, 3).mul(t).softmax(dim=1)\n",
    "    maxes, _ = torch.max(scores, dim=1)\n",
    "    scores -= ((1-maxes)/2).view(-1, 1) # так будет ровно один \"полный\" цвет\n",
    "    #print(scores)\n",
    "    print_colored(sentence, scores)"
   ]
  },
  {
   "cell_type": "code",
   "execution_count": null,
   "metadata": {
    "colab": {},
    "colab_type": "code",
    "id": "N9mHKg8TT6W8"
   },
   "outputs": [],
   "source": []
  },
  {
   "cell_type": "code",
   "execution_count": null,
   "metadata": {},
   "outputs": [],
   "source": []
  },
  {
   "cell_type": "code",
   "execution_count": null,
   "metadata": {},
   "outputs": [],
   "source": []
  }
 ],
 "metadata": {
  "accelerator": "GPU",
  "colab": {
   "collapsed_sections": [],
   "name": "rnn.ipynb",
   "provenance": []
  },
  "kernelspec": {
   "display_name": "Python 3",
   "language": "python",
   "name": "python3"
  },
  "language_info": {
   "codemirror_mode": {
    "name": "ipython",
    "version": 3
   },
   "file_extension": ".py",
   "mimetype": "text/x-python",
   "name": "python",
   "nbconvert_exporter": "python",
   "pygments_lexer": "ipython3",
   "version": "3.6.8"
  }
 },
 "nbformat": 4,
 "nbformat_minor": 1
}
