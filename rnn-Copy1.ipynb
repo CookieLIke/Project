{
 "cells": [
  {
   "cell_type": "code",
   "execution_count": 1,
   "metadata": {
    "colab": {},
    "colab_type": "code",
    "id": "od-Vfj39KUTw"
   },
   "outputs": [],
   "source": [
    "import numpy as np\n",
    "import pandas as pd\n",
    "import csv\n",
    "import re\n",
    "\n",
    "import matplotlib.pyplot as plt\n",
    "%matplotlib inline\n",
    "\n",
    "import torch\n",
    "import torch.nn as nn\n",
    "from torch.utils.data import DataLoader, Dataset\n",
    "\n",
    "from tqdm import tqdm"
   ]
  },
  {
   "cell_type": "code",
   "execution_count": 2,
   "metadata": {
    "colab": {},
    "colab_type": "code",
    "id": "yfjkkHbsbMUn"
   },
   "outputs": [],
   "source": [
    "def preprocess(text):\n",
    "    text = text.lower()\n",
    "    text = ''.join(re.findall(r'[ а-я]', text))\n",
    "    return text.split()"
   ]
  },
  {
   "cell_type": "code",
   "execution_count": 3,
   "metadata": {
    "colab": {
     "base_uri": "https://localhost:8080/",
     "height": 142
    },
    "colab_type": "code",
    "id": "f-MI5NfmOlxV",
    "outputId": "f992cec1-b399-4f31-fd6c-d3c04e7517f7"
   },
   "outputs": [],
   "source": [
    "tweets = []\n",
    "    \n",
    "try:\n",
    "    reader = csv.reader(open('twitter.csv', 'r'), delimiter=';')\n",
    "    for line in reader:\n",
    "        line = preprocess(line[3])\n",
    "        if len(line) > 10:\n",
    "            tweets.append(line)\n",
    "except: # some bug with encoding in the end of file\n",
    "    pass"
   ]
  },
  {
   "cell_type": "code",
   "execution_count": 4,
   "metadata": {
    "colab": {
     "base_uri": "https://localhost:8080/",
     "height": 574
    },
    "colab_type": "code",
    "id": "TzxHnhQVN7BX",
    "outputId": "e476a0b7-59dc-4380-dc4b-b8493cb90f23"
   },
   "outputs": [],
   "source": [
    "bibl = []\n",
    "\n",
    "with open('bibl.txt', 'r', encoding=\"windows-1251\") as file:\n",
    "    for line in file:\n",
    "        line = preprocess(line)\n",
    "        if len(line) > 10:\n",
    "            bibl.append(line)"
   ]
  },
  {
   "cell_type": "code",
   "execution_count": 5,
   "metadata": {
    "colab": {
     "base_uri": "https://localhost:8080/",
     "height": 408
    },
    "colab_type": "code",
    "id": "zKdHauyIKguJ",
    "outputId": "31c517d1-e2fe-4adb-c28c-22e8bfe43786"
   },
   "outputs": [],
   "source": [
    "tolstoy = []\n",
    "\n",
    "with open('tolst.txt', 'r', encoding=\"windows-1251\") as file:\n",
    "    for line in file:\n",
    "        line = preprocess(line)\n",
    "        if len(line) > 10:\n",
    "            tolstoy.append(line)"
   ]
  },
  {
   "cell_type": "code",
   "execution_count": 6,
   "metadata": {
    "colab": {},
    "colab_type": "code",
    "id": "891GJWsCKUT4"
   },
   "outputs": [],
   "source": [
    "class Vocab:\n",
    "    def __init__(self, corpora, tokenizer, max_len=20, vocab_size=5000):\n",
    "        self.tokenizer = tokenizer\n",
    "        self.max_len = max_len\n",
    "        \n",
    "        counts = {}\n",
    "        \n",
    "        for sentence in corpora:\n",
    "            for token in sentence:\n",
    "                counts[token] = counts.get(token, 0) + 1\n",
    "        \n",
    "        l = sorted(counts.items(), key=lambda x: -x[1])[:vocab_size-2]\n",
    "        \n",
    "        print('least used token:', l[-1])\n",
    "        print('vocab size:', len(l), '(+2)')\n",
    "        \n",
    "        self.t2i = {\"<pad>\" : 0, \"<unk>\" : 1}\n",
    "        self.i2t = {0 : \"<pad>\", 1 : \"<unk>\"}\n",
    "              \n",
    "        for token, _ in l:\n",
    "            self.i2t[len(self.i2t)] = token\n",
    "            self.t2i[token] = len(self.t2i)\n",
    "    \n",
    "    def tokenize(self, sentence, pad=True):\n",
    "        if pad:\n",
    "            sentence = sentence[:self.max_len]\n",
    "            while len(sentence) < self.max_len:\n",
    "                sentence.append('<pad>')\n",
    "        \n",
    "        indices = []\n",
    "        for token in sentence:\n",
    "            if token in self.t2i:\n",
    "                indices.append(self.t2i[token])\n",
    "            else:\n",
    "                indices.append(1)\n",
    "        \n",
    "        return indices"
   ]
  },
  {
   "cell_type": "code",
   "execution_count": 32,
   "metadata": {
    "colab": {
     "base_uri": "https://localhost:8080/",
     "height": 102
    },
    "colab_type": "code",
    "id": "Wl3zeFSUKUT8",
    "outputId": "322cea2d-59e1-4326-a0aa-4ad2e8f3dbab"
   },
   "outputs": [
    {
     "name": "stdout",
     "output_type": "stream",
     "text": [
      "39506\n",
      "34480\n",
      "30733\n",
      "least used token: ('очнулся', 54)\n",
      "vocab size: 4998 (+2)\n"
     ]
    }
   ],
   "source": [
    "# me: mom can we have oversampling?\n",
    "# mom: but we have oversampling at home\n",
    "# oversampling at home:\n",
    "dataset_a = tweets+tweets\n",
    "dataset_b = tolstoy+tolstoy+tolstoy+tolstoy\n",
    "dataset_c = bibl\n",
    "\n",
    "print(len(dataset_a))\n",
    "print(len(dataset_b))\n",
    "print(len(dataset_c))\n",
    "\n",
    "vocab = Vocab(dataset_a + dataset_b + dataset_c, preprocess)"
   ]
  },
  {
   "cell_type": "code",
   "execution_count": 33,
   "metadata": {
    "colab": {},
    "colab_type": "code",
    "id": "0OKvCmcGKUT_"
   },
   "outputs": [],
   "source": [
    "class StyleDataset(Dataset):\n",
    "    def __init__(self, corpora, vocab):\n",
    "        self.vocab = vocab\n",
    "        self.samples = []\n",
    "        self.labels = []\n",
    "        \n",
    "        for i, dataset in enumerate(corpora):\n",
    "            self.samples += dataset\n",
    "            self.labels += [i] * len(dataset)\n",
    "    \n",
    "    def __len__(self):\n",
    "        return len(self.samples)\n",
    "    \n",
    "    def __getitem__(self, idx):\n",
    "        X = self.vocab.tokenize(self.samples[idx])\n",
    "        y = [self.labels[idx]] * len(X)\n",
    "        return torch.LongTensor(X), torch.LongTensor(y)"
   ]
  },
  {
   "cell_type": "code",
   "execution_count": 34,
   "metadata": {
    "colab": {
     "base_uri": "https://localhost:8080/",
     "height": 68
    },
    "colab_type": "code",
    "id": "aaXow-McKUUC",
    "outputId": "d1f0b074-1aa8-489a-a41e-fde5152c7277"
   },
   "outputs": [
    {
     "data": {
      "text/plain": [
       "(tensor([  22,   64,   60,    1,   66,  240, 1844,    4,   76,    4,    1,    0,\n",
       "            0,    0,    0,    0,    0,    0,    0,    0]),\n",
       " tensor([0, 0, 0, 0, 0, 0, 0, 0, 0, 0, 0, 0, 0, 0, 0, 0, 0, 0, 0, 0]))"
      ]
     },
     "execution_count": 34,
     "metadata": {},
     "output_type": "execute_result"
    }
   ],
   "source": [
    "dataset = StyleDataset([dataset_a, dataset_b, dataset_c], vocab)\n",
    "\n",
    "# todo: this should be done before oversampling\n",
    "train_dataset, test_dataset = torch.utils.data.random_split(dataset, [len(dataset)-512, 512])\n",
    "\n",
    "train = DataLoader(train_dataset, batch_size=64, shuffle=True)\n",
    "test = DataLoader(test_dataset, batch_size=64)\n",
    "\n",
    "dataset[5]"
   ]
  },
  {
   "cell_type": "code",
   "execution_count": 35,
   "metadata": {
    "colab": {},
    "colab_type": "code",
    "id": "o8tVAVfFKUUJ"
   },
   "outputs": [],
   "source": [
    "def fetch_embeddings(embeddings, vocab, embedding_dim=300):\n",
    "    weights = torch.randn(len(vocab.t2i), embedding_dim) / 10\n",
    "    \n",
    "    print('reading file', embeddings)\n",
    "    print('this may take a while...')\n",
    "    \n",
    "    with open(embeddings) as file:\n",
    "        for line in file:\n",
    "            data = line.split()\n",
    "            if len(data) == embedding_dim + 1:\n",
    "                token = data[0]\n",
    "                vector = torch.Tensor([float(x) for x in data[1:]])\n",
    "                if token in vocab.t2i:\n",
    "                    weights[vocab.t2i[token]] = vector\n",
    "    \n",
    "    return weights\n",
    "\n",
    "\n",
    "class StyleClassifier(nn.Module):\n",
    "    def __init__(\n",
    "        self,\n",
    "        embeddings,\n",
    "        embedding_dim=300,\n",
    "        num_classes=3,\n",
    "        hidden_dim=50,\n",
    "        num_layers=1,\n",
    "        rnn_dropout=0,\n",
    "        bidirectional=False):\n",
    "        \n",
    "        super().__init__()\n",
    "        \n",
    "        self.embed = nn.Embedding.from_pretrained(embeddings)\n",
    "        \n",
    "        self.rnn = nn.GRU(\n",
    "            embedding_dim,\n",
    "            hidden_dim, \n",
    "            num_layers=num_layers, \n",
    "            bidirectional=bidirectional, \n",
    "            dropout=rnn_dropout,\n",
    "            batch_first=True\n",
    "        )\n",
    "        \n",
    "        self.head = nn.Sequential(\n",
    "            nn.Dropout(0.5),\n",
    "            nn.Linear(hidden_dim, hidden_dim),\n",
    "            nn.ReLU(),\n",
    "            nn.Dropout(0.5),\n",
    "            nn.Linear(hidden_dim, num_classes),\n",
    "            nn.LogSoftmax(dim=2)\n",
    "        )\n",
    "        \n",
    "    def forward(self, X):\n",
    "        X = self.embed(X)\n",
    "        X, _ = self.rnn(X)\n",
    "        X = self.head(X)\n",
    "        return X"
   ]
  },
  {
   "cell_type": "code",
   "execution_count": null,
   "metadata": {
    "colab": {},
    "colab_type": "code",
    "id": "HE6aZSjUuPwh"
   },
   "outputs": [],
   "source": []
  },
  {
   "cell_type": "code",
   "execution_count": 36,
   "metadata": {
    "colab": {},
    "colab_type": "code",
    "id": "lNmAuJHftc58"
   },
   "outputs": [],
   "source": [
    "!touch empty.vec"
   ]
  },
  {
   "cell_type": "code",
   "execution_count": 37,
   "metadata": {
    "colab": {
     "base_uri": "https://localhost:8080/",
     "height": 51
    },
    "colab_type": "code",
    "id": "8_AbBsD7KUUM",
    "outputId": "321a2333-1731-473f-864b-7a20612fb7c0"
   },
   "outputs": [
    {
     "name": "stdout",
     "output_type": "stream",
     "text": [
      "reading file wiki.ru.vec\n",
      "this may take a while...\n"
     ]
    }
   ],
   "source": [
    "embeddings = fetch_embeddings('wiki.ru.vec', vocab, embedding_dim=300)\n",
    "model = StyleClassifier(embeddings)"
   ]
  },
  {
   "cell_type": "code",
   "execution_count": 38,
   "metadata": {
    "colab": {},
    "colab_type": "code",
    "id": "G-m08RFtKUUQ"
   },
   "outputs": [
    {
     "data": {
      "text/plain": [
       "tensor([[[0.3021, 0.4042, 0.2937],\n",
       "         [0.3086, 0.3449, 0.3464],\n",
       "         [0.3351, 0.3389, 0.3260],\n",
       "         [0.3465, 0.3635, 0.2900],\n",
       "         [0.3233, 0.3535, 0.3233],\n",
       "         [0.2828, 0.3858, 0.3314],\n",
       "         [0.3405, 0.2965, 0.3630],\n",
       "         [0.3860, 0.3346, 0.2795],\n",
       "         [0.3371, 0.3375, 0.3254],\n",
       "         [0.3562, 0.3350, 0.3088],\n",
       "         [0.3265, 0.3963, 0.2772],\n",
       "         [0.3285, 0.4285, 0.2430],\n",
       "         [0.3427, 0.3934, 0.2639],\n",
       "         [0.3121, 0.4145, 0.2734],\n",
       "         [0.3126, 0.3830, 0.3043],\n",
       "         [0.3269, 0.3821, 0.2910],\n",
       "         [0.3308, 0.3742, 0.2950],\n",
       "         [0.3213, 0.3821, 0.2967],\n",
       "         [0.3269, 0.3494, 0.3238],\n",
       "         [0.3255, 0.3828, 0.2918]]], grad_fn=<ExpBackward>)"
      ]
     },
     "execution_count": 38,
     "metadata": {},
     "output_type": "execute_result"
    }
   ],
   "source": [
    "test_batch = dataset[0][0].view(1, -1)\n",
    "model(test_batch).exp()"
   ]
  },
  {
   "cell_type": "code",
   "execution_count": 39,
   "metadata": {
    "colab": {},
    "colab_type": "code",
    "id": "ElGnnan7KUUU"
   },
   "outputs": [],
   "source": [
    "lr = 5e-2\n",
    "num_epochs = 10\n",
    "device = torch.device('cpu')\n",
    "\n",
    "#model = StyleClassifier(len(vocab.i2t), 'fasttext.vec')\n",
    "model = model.to(device)\n",
    "optimizer = torch.optim.Adam(model.parameters(), lr=lr)\n",
    "criterion = nn.NLLLoss()"
   ]
  },
  {
   "cell_type": "code",
   "execution_count": 40,
   "metadata": {
    "colab": {
     "base_uri": "https://localhost:8080/",
     "height": 527
    },
    "colab_type": "code",
    "id": "u2V5pB1MKUUc",
    "outputId": "7c78e1de-19c7-488e-92ac-51bbfae130cd"
   },
   "outputs": [
    {
     "name": "stderr",
     "output_type": "stream",
     "text": [
      "100%|██████████| 1629/1629 [00:37<00:00, 43.52it/s]\n",
      "100%|██████████| 8/8 [00:00<00:00, 78.66it/s]\n",
      "  0%|          | 3/1629 [00:00<00:55, 29.09it/s]"
     ]
    },
    {
     "name": "stdout",
     "output_type": "stream",
     "text": [
      "test loss: 4.373262286186218\n"
     ]
    },
    {
     "name": "stderr",
     "output_type": "stream",
     "text": [
      "100%|██████████| 1629/1629 [00:39<00:00, 41.03it/s]\n",
      "100%|██████████| 8/8 [00:00<00:00, 85.30it/s]\n",
      "  0%|          | 5/1629 [00:00<00:38, 42.69it/s]"
     ]
    },
    {
     "name": "stdout",
     "output_type": "stream",
     "text": [
      "test loss: 4.33011394739151\n"
     ]
    },
    {
     "name": "stderr",
     "output_type": "stream",
     "text": [
      "100%|██████████| 1629/1629 [00:37<00:00, 43.55it/s]\n",
      "100%|██████████| 8/8 [00:00<00:00, 88.75it/s]\n",
      "  0%|          | 3/1629 [00:00<00:55, 29.20it/s]"
     ]
    },
    {
     "name": "stdout",
     "output_type": "stream",
     "text": [
      "test loss: 5.043442130088806\n"
     ]
    },
    {
     "name": "stderr",
     "output_type": "stream",
     "text": [
      "100%|██████████| 1629/1629 [00:41<00:00, 39.29it/s]\n",
      "100%|██████████| 8/8 [00:00<00:00, 94.36it/s]\n",
      "  0%|          | 4/1629 [00:00<00:46, 34.76it/s]"
     ]
    },
    {
     "name": "stdout",
     "output_type": "stream",
     "text": [
      "test loss: 5.075984477996826\n"
     ]
    },
    {
     "name": "stderr",
     "output_type": "stream",
     "text": [
      "100%|██████████| 1629/1629 [00:42<00:00, 38.73it/s]\n",
      "100%|██████████| 8/8 [00:00<00:00, 93.68it/s]\n",
      "  0%|          | 4/1629 [00:00<00:42, 38.22it/s]"
     ]
    },
    {
     "name": "stdout",
     "output_type": "stream",
     "text": [
      "test loss: 5.506213545799255\n"
     ]
    },
    {
     "name": "stderr",
     "output_type": "stream",
     "text": [
      "100%|██████████| 1629/1629 [00:42<00:00, 38.65it/s]\n",
      "100%|██████████| 8/8 [00:00<00:00, 81.91it/s]\n",
      "  0%|          | 4/1629 [00:00<00:49, 33.03it/s]"
     ]
    },
    {
     "name": "stdout",
     "output_type": "stream",
     "text": [
      "test loss: 5.543834090232849\n"
     ]
    },
    {
     "name": "stderr",
     "output_type": "stream",
     "text": [
      "100%|██████████| 1629/1629 [00:45<00:00, 35.72it/s]\n",
      "100%|██████████| 8/8 [00:00<00:00, 109.92it/s]\n",
      "  0%|          | 5/1629 [00:00<00:37, 42.74it/s]"
     ]
    },
    {
     "name": "stdout",
     "output_type": "stream",
     "text": [
      "test loss: 5.107075333595276\n"
     ]
    },
    {
     "name": "stderr",
     "output_type": "stream",
     "text": [
      "100%|██████████| 1629/1629 [00:52<00:00, 31.24it/s]\n",
      "100%|██████████| 8/8 [00:00<00:00, 110.11it/s]\n",
      "  0%|          | 4/1629 [00:00<00:46, 34.88it/s]"
     ]
    },
    {
     "name": "stdout",
     "output_type": "stream",
     "text": [
      "test loss: 5.090076506137848\n"
     ]
    },
    {
     "name": "stderr",
     "output_type": "stream",
     "text": [
      "100%|██████████| 1629/1629 [00:45<00:00, 35.60it/s]\n",
      "100%|██████████| 8/8 [00:00<00:00, 89.04it/s]\n",
      "  0%|          | 4/1629 [00:00<00:46, 34.81it/s]"
     ]
    },
    {
     "name": "stdout",
     "output_type": "stream",
     "text": [
      "test loss: 4.906137466430664\n"
     ]
    },
    {
     "name": "stderr",
     "output_type": "stream",
     "text": [
      "100%|██████████| 1629/1629 [00:44<00:00, 36.99it/s]\n",
      "100%|██████████| 8/8 [00:00<00:00, 90.61it/s]"
     ]
    },
    {
     "name": "stdout",
     "output_type": "stream",
     "text": [
      "test loss: 5.1415969133377075\n"
     ]
    },
    {
     "name": "stderr",
     "output_type": "stream",
     "text": [
      "\n"
     ]
    }
   ],
   "source": [
    "train_losses = []\n",
    "test_losses = []\n",
    "\n",
    "for epoch in range(num_epochs):\n",
    "    \n",
    "    for X, y in tqdm(train):\n",
    "        X.to(device)\n",
    "        y.to(device)\n",
    "        \n",
    "        optimizer.zero_grad()\n",
    "        \n",
    "        preds = model(X)\n",
    "        \n",
    "        loss = criterion(preds.view(-1, 3), y.view(-1))\n",
    "        \n",
    "        loss.backward()\n",
    "        optimizer.step()\n",
    "        \n",
    "        train_losses.append(loss.item())\n",
    "    \n",
    "    test_loss = 0\n",
    "    for X, y in tqdm(test):\n",
    "        X.to(device)\n",
    "        y.to(device)\n",
    "        \n",
    "        preds = model(X)\n",
    "        loss = criterion(preds.view(-1, 3), y.view(-1))\n",
    "        \n",
    "        test_loss += loss.item()\n",
    "    \n",
    "    test_losses.append(test_loss)\n",
    "    print('test loss:', test_loss)"
   ]
  },
  {
   "cell_type": "code",
   "execution_count": 41,
   "metadata": {
    "colab": {
     "base_uri": "https://localhost:8080/",
     "height": 521
    },
    "colab_type": "code",
    "id": "_wP58MHrKUUf",
    "outputId": "4f02da3a-db7c-4639-f402-aa02d845cfe4"
   },
   "outputs": [
    {
     "data": {
      "image/png": "[encoded data removed]",
      "text/plain": [
       "<Figure size 432x288 with 1 Axes>"
      ]
     },
     "metadata": {},
     "output_type": "display_data"
    },
    {
     "data": {
      "image/png": "[encoded data removed]",
      "text/plain": [
       "<Figure size 432x288 with 1 Axes>"
      ]
     },
     "metadata": {},
     "output_type": "display_data"
    }
   ],
   "source": [
    "plt.plot(train_losses)\n",
    "plt.show()\n",
    "\n",
    "plt.plot(test_losses)\n",
    "plt.show()"
   ]
  },
  {
   "cell_type": "code",
   "execution_count": 42,
   "metadata": {
    "colab": {},
    "colab_type": "code",
    "id": "oz0rhlFFKUUo"
   },
   "outputs": [],
   "source": [
    "from IPython.core.display import display, HTML\n",
    "\n",
    "def print_colored(sequence, intensities, delimeter=' '):\n",
    "    html = delimeter.join([\n",
    "        # https://en.wikipedia.org/wiki/Subtractive_color\n",
    "        f'<span style=\"background: rgb({255*(1-x[1]-x[2])}, {255*(1-x[0]-x[2])}, {255*(1-x[0]-x[1])})\">{c}</span>'\n",
    "        for c, x in zip(sequence, intensities) \n",
    "    ])\n",
    "    display(HTML(html))"
   ]
  },
  {
   "cell_type": "code",
   "execution_count": 43,
   "metadata": {
    "colab": {
     "base_uri": "https://localhost:8080/",
     "height": 1000
    },
    "colab_type": "code",
    "id": "QQPrQkwVKUUs",
    "outputId": "d641e009-63c1-472e-b331-aa8d09cc4957"
   },
   "outputs": [
    {
     "data": {
      "text/html": [
       "<span style=\"background: rgb(255.0, 161.7983856201172, 161.71524047851562)\">сап</span> <span style=\"background: rgb(254.99998474121094, 239.91134643554688, 176.7143096923828)\">б</span> <span style=\"background: rgb(255.0, 206.11248779296875, 189.5052490234375)\">есть</span> <span style=\"background: rgb(255.0, 206.11248779296875, 189.5052490234375)\">одна</span> <span style=\"background: rgb(255.0, 209.71067810058594, 193.77435302734375)\">тян</span> <span style=\"background: rgb(255.0, 206.11248779296875, 189.5052490234375)\">двачую</span> <span style=\"background: rgb(255.0, 206.11248779296875, 189.5052490234375)\">однаапррвавапвпв</span> <span style=\"background: rgb(177.26914978027344, 173.87571716308594, 255.0)\">анон</span>"
      ],
      "text/plain": [
       "<IPython.core.display.HTML object>"
      ]
     },
     "metadata": {},
     "output_type": "display_data"
    },
    {
     "data": {
      "text/html": [
       "<span style=\"background: rgb(255.0, 206.11248779296875, 189.5052490234375)\">князь</span> <span style=\"background: rgb(255.0, 206.11248779296875, 189.5052490234375)\">болконский</span> <span style=\"background: rgb(255.0, 200.5620574951172, 183.5712432861328)\">с</span> <span style=\"background: rgb(255.0, 206.11248779296875, 189.5052490234375)\">удивлением</span> <span style=\"background: rgb(255.0, 206.11248779296875, 189.5052490234375)\">увидел</span>"
      ],
      "text/plain": [
       "<IPython.core.display.HTML object>"
      ]
     },
     "metadata": {},
     "output_type": "display_data"
    },
    {
     "data": {
      "text/html": [
       "<span style=\"background: rgb(219.5926513671875, 255.00003051757812, 194.01931762695312)\">засмеялся</span> <span style=\"background: rgb(255.0, 160.27513122558594, 142.0054168701172)\">проиграл</span> <span style=\"background: rgb(254.99998474121094, 223.7006072998047, 166.986572265625)\">тред</span> <span style=\"background: rgb(255.0, 206.11248779296875, 189.5052490234375)\">не</span> <span style=\"background: rgb(255.0, 214.5780029296875, 199.6229705810547)\">нашел</span> <span style=\"background: rgb(255.0, 247.40879821777344, 218.8941192626953)\">создал</span>"
      ],
      "text/plain": [
       "<IPython.core.display.HTML object>"
      ]
     },
     "metadata": {},
     "output_type": "display_data"
    },
    {
     "data": {
      "text/html": [
       "<span style=\"background: rgb(254.99998474121094, 66.35456085205078, 59.32768249511719)\">хахаха</span> <span style=\"background: rgb(143.87356567382812, 188.0982208251953, 254.99998474121094)\">ну</span> <span style=\"background: rgb(255.00003051757812, 216.03463745117188, 207.5416717529297)\">ты</span> <span style=\"background: rgb(255.0, 220.3134307861328, 139.87301635742188)\">даешь</span>"
      ],
      "text/plain": [
       "<IPython.core.display.HTML object>"
      ]
     },
     "metadata": {},
     "output_type": "display_data"
    },
    {
     "data": {
      "text/html": [
       "<span style=\"background: rgb(255.0, 124.41930389404297, 120.16825103759766)\">сап</span> <span style=\"background: rgb(255.0, 206.11248779296875, 189.5052490234375)\">двач</span> <span style=\"background: rgb(255.0, 206.11248779296875, 189.5052490234375)\">есть</span> <span style=\"background: rgb(255.0, 164.66725158691406, 167.1375274658203)\">однаапррвавапвпв</span> <span style=\"background: rgb(251.08033752441406, 240.4430389404297, 255.0)\">хэштег</span> <span style=\"background: rgb(255.0, 227.7615203857422, 232.81964111328125)\">тян</span> <span style=\"background: rgb(255.0, 144.47027587890625, 124.90554809570312)\">она</span> <span style=\"background: rgb(255.0, 219.8832550048828, 192.591796875)\">как</span> <span style=\"background: rgb(255.0, 206.11248779296875, 189.5052490234375)\">будто</span> <span style=\"background: rgb(255.0, 198.65687561035156, 183.88206481933594)\">со</span> <span style=\"background: rgb(164.38998413085938, 196.3660888671875, 255.0)\">вниманием</span> <span style=\"background: rgb(255.0, 218.27490234375, 153.59825134277344)\">слушала</span> <span style=\"background: rgb(255.00003051757812, 207.83123779296875, 180.2434844970703)\">рассказ</span> <span style=\"background: rgb(255.0, 206.11248779296875, 189.5052490234375)\">князя</span> <span style=\"background: rgb(255.0, 206.11248779296875, 189.5052490234375)\">василья</span>"
      ],
      "text/plain": [
       "<IPython.core.display.HTML object>"
      ]
     },
     "metadata": {},
     "output_type": "display_data"
    },
    {
     "data": {
      "text/html": [
       "<span style=\"background: rgb(255.0, 175.40493774414062, 157.3253936767578)\">хотела</span> <span style=\"background: rgb(255.0, 231.57443237304688, 221.07064819335938)\">наконец</span> <span style=\"background: rgb(171.89102172851562, 254.99998474121094, 193.71865844726562)\">отдохнуть</span> <span style=\"background: rgb(157.31837463378906, 186.01121520996094, 254.99998474121094)\">и</span> <span style=\"background: rgb(255.0, 221.1639862060547, 205.6861114501953)\">тут</span> <span style=\"background: rgb(254.99998474121094, 205.16705322265625, 188.4905242919922)\">слышу</span> <span style=\"background: rgb(255.0, 206.11248779296875, 189.5052490234375)\">за</span> <span style=\"background: rgb(255.00003051757812, 201.78756713867188, 183.84738159179688)\">дверью</span> <span style=\"background: rgb(255.0, 232.16653442382812, 156.48487854003906)\">топ</span> <span style=\"background: rgb(255.0, 207.3411407470703, 182.57235717773438)\">топ</span> <span style=\"background: rgb(255.0, 206.11248779296875, 189.5052490234375)\">топ</span> <span style=\"background: rgb(239.6906280517578, 228.2793731689453, 254.99996948242188)\">и</span> <span style=\"background: rgb(255.0, 236.27928161621094, 230.12161254882812)\">тут</span> <span style=\"background: rgb(255.0, 206.11248779296875, 189.5052490234375)\">она</span> <span style=\"background: rgb(255.0, 206.11248779296875, 189.5052490234375)\">уже</span> <span style=\"background: rgb(254.99998474121094, 195.96359252929688, 181.83261108398438)\">на</span> <span style=\"background: rgb(211.71719360351562, 255.0, 232.4291229248047)\">пороге</span> <span style=\"background: rgb(255.0, 197.945068359375, 198.14117431640625)\">в</span> <span style=\"background: rgb(255.0, 206.11248779296875, 189.5052490234375)\">моей</span> <span style=\"background: rgb(255.0, 154.54827880859375, 136.29052734375)\">комнате</span> <span style=\"background: rgb(254.99996948242188, 215.62359619140625, 191.22218322753906)\">люблю</span> <span style=\"background: rgb(255.0, 123.86040496826172, 124.5483627319336)\">ее</span>"
      ],
      "text/plain": [
       "<IPython.core.display.HTML object>"
      ]
     },
     "metadata": {},
     "output_type": "display_data"
    },
    {
     "data": {
      "text/html": [
       "<span style=\"background: rgb(198.40293884277344, 254.99998474121094, 227.67779541015625)\">император</span> <span style=\"background: rgb(254.99998474121094, 210.4537811279297, 174.4888458251953)\">александр</span> <span style=\"background: rgb(255.0, 222.2978515625, 188.68821716308594)\">сказала</span> <span style=\"background: rgb(216.5842742919922, 223.57711791992188, 255.0)\">она</span> <span style=\"background: rgb(255.0, 206.11248779296875, 189.5052490234375)\">с</span> <span style=\"background: rgb(255.0, 195.53541564941406, 175.8514862060547)\">грустью</span> <span style=\"background: rgb(210.8094024658203, 254.38743591308594, 255.00003051757812)\">сопутствовавшей</span> <span style=\"background: rgb(255.0, 210.80526733398438, 195.08213806152344)\">всегда</span> <span style=\"background: rgb(254.99996948242188, 208.04698181152344, 193.72508239746094)\">ее</span> <span style=\"background: rgb(255.0, 206.11248779296875, 189.5052490234375)\">речам</span> <span style=\"background: rgb(255.0, 168.9394073486328, 155.8206787109375)\">об</span> <span style=\"background: rgb(255.00003051757812, 198.58319091796875, 179.72305297851562)\">императорской</span> <span style=\"background: rgb(206.82308959960938, 201.05343627929688, 254.99998474121094)\">фамилии</span> <span style=\"background: rgb(255.0, 230.0540313720703, 189.22642517089844)\">объявил</span> <span style=\"background: rgb(255.0, 209.51951599121094, 193.13278198242188)\">что</span> <span style=\"background: rgb(255.0, 206.11248779296875, 189.5052490234375)\">он</span> <span style=\"background: rgb(255.0, 240.11187744140625, 226.6880340576172)\">предоставит</span> <span style=\"background: rgb(255.0, 206.11248779296875, 189.5052490234375)\">самим</span> <span style=\"background: rgb(255.0, 232.20550537109375, 219.29295349121094)\">французам</span> <span style=\"background: rgb(255.0, 226.33815002441406, 214.13258361816406)\">выбрать</span> <span style=\"background: rgb(255.0, 163.8852081298828, 152.86026000976562)\">образ</span> <span style=\"background: rgb(255.0, 224.3227081298828, 209.1352081298828)\">правления</span> <span style=\"background: rgb(255.0, 206.11248779296875, 189.5052490234375)\">и</span> <span style=\"background: rgb(255.0, 230.65370178222656, 252.15757751464844)\">я</span> <span style=\"background: rgb(255.0, 195.60076904296875, 181.55580139160156)\">думаю</span> <span style=\"background: rgb(255.0, 206.11248779296875, 189.5052490234375)\">нет</span> <span style=\"background: rgb(255.0, 204.37246704101562, 180.0890655517578)\">сомнения</span> <span style=\"background: rgb(255.0, 206.11248779296875, 189.5052490234375)\">что</span> <span style=\"background: rgb(255.0, 235.7540283203125, 237.74609375)\">вся</span> <span style=\"background: rgb(255.00003051757812, 226.805908203125, 248.7831573486328)\">нация</span> <span style=\"background: rgb(254.99996948242188, 199.16648864746094, 180.4696502685547)\">освободившись</span> <span style=\"background: rgb(254.99998474121094, 221.96450805664062, 208.67068481445312)\">от</span> <span style=\"background: rgb(255.0, 206.11248779296875, 189.5052490234375)\">узурпатора</span> <span style=\"background: rgb(254.99998474121094, 178.96218872070312, 173.12277221679688)\">бросится</span> <span style=\"background: rgb(255.0, 210.99546813964844, 168.73504638671875)\">в</span> <span style=\"background: rgb(255.0, 206.11248779296875, 189.5052490234375)\">руки</span> <span style=\"background: rgb(255.0, 159.484619140625, 145.96673583984375)\">законного</span> <span style=\"background: rgb(192.44833374023438, 255.0, 127.18132781982422)\">короля</span> <span style=\"background: rgb(255.0, 246.56101989746094, 239.8646240234375)\">сказала</span> <span style=\"background: rgb(255.0, 199.56332397460938, 180.97862243652344)\">анна</span> <span style=\"background: rgb(255.0, 206.11248779296875, 189.5052490234375)\">павловна</span> <span style=\"background: rgb(255.0, 108.69210052490234, 93.17908477783203)\">стараясь</span> <span style=\"background: rgb(255.00003051757812, 206.3279266357422, 189.5437469482422)\">быть</span> <span style=\"background: rgb(252.9416961669922, 238.76951599121094, 255.0)\">любезной</span> <span style=\"background: rgb(255.0, 174.33193969726562, 165.0285186767578)\">с</span> <span style=\"background: rgb(254.99998474121094, 173.03033447265625, 163.99801635742188)\">эмигрантом</span> <span style=\"background: rgb(255.0, 220.5274658203125, 190.6622772216797)\">и</span> <span style=\"background: rgb(255.0, 201.22450256347656, 180.01446533203125)\">роялистом</span>"
      ],
      "text/plain": [
       "<IPython.core.display.HTML object>"
      ]
     },
     "metadata": {},
     "output_type": "display_data"
    },
    {
     "data": {
      "text/html": [
       "<span style=\"background: rgb(255.0, 246.1891632080078, 188.8511962890625)\">непременно</span> <span style=\"background: rgb(188.27816772460938, 237.57479858398438, 255.00003051757812)\">да</span> <span style=\"background: rgb(255.0, 206.11248779296875, 189.5052490234375)\">будет</span> <span style=\"background: rgb(255.0, 232.17381286621094, 217.7955322265625)\">обрезан</span> <span style=\"background: rgb(217.96939086914062, 205.34507751464844, 255.0)\">рожднный</span> <span style=\"background: rgb(255.0, 215.7511749267578, 219.32894897460938)\">в</span> <span style=\"background: rgb(90.27385711669922, 128.8949737548828, 255.0)\">доме</span> <span style=\"background: rgb(255.0, 205.23634338378906, 197.5289306640625)\">твом</span> <span style=\"background: rgb(231.48077392578125, 255.00003051757812, 179.80352783203125)\">и</span> <span style=\"background: rgb(240.3216552734375, 255.0, 176.84925842285156)\">купленный</span> <span style=\"background: rgb(255.0, 206.11248779296875, 189.5052490234375)\">за</span> <span style=\"background: rgb(255.0, 206.11248779296875, 189.5052490234375)\">серебро</span> <span style=\"background: rgb(255.0, 192.27194213867188, 177.9035186767578)\">тво</span> <span style=\"background: rgb(255.00003051757812, 184.6842498779297, 166.3273162841797)\">и</span> <span style=\"background: rgb(255.0, 179.9402313232422, 169.03810119628906)\">будет</span> <span style=\"background: rgb(255.0, 214.52256774902344, 160.10243225097656)\">завет</span> <span style=\"background: rgb(255.0, 169.90341186523438, 157.21768188476562)\">мой</span> <span style=\"background: rgb(215.09873962402344, 217.2814483642578, 255.0)\">на</span> <span style=\"background: rgb(255.0, 211.46363830566406, 196.59552001953125)\">теле</span> <span style=\"background: rgb(254.99998474121094, 200.0556640625, 183.0325927734375)\">вашем</span> <span style=\"background: rgb(255.0, 215.53070068359375, 208.4066162109375)\">заветом</span> <span style=\"background: rgb(254.99998474121094, 163.29550170898438, 156.22119140625)\">вечным</span>"
      ],
      "text/plain": [
       "<IPython.core.display.HTML object>"
      ]
     },
     "metadata": {},
     "output_type": "display_data"
    },
    {
     "data": {
      "text/html": [
       "<span style=\"background: rgb(255.00003051757812, 222.876220703125, 192.55551147460938)\">както</span> <span style=\"background: rgb(255.0, 206.11248779296875, 189.5052490234375)\">я</span> <span style=\"background: rgb(255.0, 231.3716583251953, 217.0352325439453)\">забыла</span> <span style=\"background: rgb(254.99998474121094, 209.0362091064453, 175.25381469726562)\">что</span> <span style=\"background: rgb(255.0, 206.11248779296875, 189.5052490234375)\">вчера</span> <span style=\"background: rgb(215.8440704345703, 255.00003051757812, 194.4367218017578)\">приехал</span> <span style=\"background: rgb(255.0, 206.11248779296875, 189.5052490234375)\">из</span> <span style=\"background: rgb(255.0, 206.11248779296875, 189.5052490234375)\">деревни</span> <span style=\"background: rgb(255.0, 206.11248779296875, 189.5052490234375)\">наш</span> <span style=\"background: rgb(255.0, 172.7448272705078, 120.1899642944336)\">котэня</span> <span style=\"background: rgb(254.99998474121094, 235.9921112060547, 195.01351928710938)\">и</span> <span style=\"background: rgb(255.0, 201.2596435546875, 186.6076202392578)\">испугалась</span> <span style=\"background: rgb(254.99996948242188, 212.2896270751953, 191.8547821044922)\">когда</span> <span style=\"background: rgb(243.79562377929688, 255.0, 177.21826171875)\">он</span> <span style=\"background: rgb(255.0, 186.48538208007812, 167.703369140625)\">утром</span> <span style=\"background: rgb(255.00003051757812, 254.20530700683594, 242.8590087890625)\">пришел</span> <span style=\"background: rgb(255.0, 206.11248779296875, 189.5052490234375)\">ко</span> <span style=\"background: rgb(255.0, 227.71702575683594, 187.1317138671875)\">мне</span> <span style=\"background: rgb(255.0, 206.11248779296875, 189.5052490234375)\">общаться</span> <span style=\"background: rgb(255.0, 206.11248779296875, 189.5052490234375)\">доброе</span> <span style=\"background: rgb(225.05630493164062, 217.2832489013672, 255.0)\">у</span> <span style=\"background: rgb(203.2105712890625, 252.68817138671875, 255.0)\">как</span> <span style=\"background: rgb(255.0, 206.11248779296875, 189.5052490234375)\">можно</span> <span style=\"background: rgb(254.99998474121094, 208.61090087890625, 176.91067504882812)\">быть</span> <span style=\"background: rgb(254.99998474121094, 198.79217529296875, 183.9847412109375)\">здоровой</span> <span style=\"background: rgb(255.0, 183.22784423828125, 164.60179138183594)\">когда</span> <span style=\"background: rgb(253.8262176513672, 255.0, 236.14297485351562)\">нравственно</span> <span style=\"background: rgb(194.11245727539062, 212.9266815185547, 255.0)\">страдаешь</span> <span style=\"background: rgb(68.23605346679688, 115.97393798828125, 255.0)\">разве</span> <span style=\"background: rgb(255.0, 83.8170394897461, 50.619937896728516)\">можно</span> <span style=\"background: rgb(255.0, 206.11248779296875, 189.5052490234375)\">имея</span> <span style=\"background: rgb(190.54478454589844, 208.47113037109375, 255.0)\">чувство</span> <span style=\"background: rgb(255.0, 206.11248779296875, 189.5052490234375)\">оставаться</span> <span style=\"background: rgb(255.0, 225.5606231689453, 213.15562438964844)\">спокойною</span> <span style=\"background: rgb(255.0, 210.37416076660156, 212.0224151611328)\">в</span> <span style=\"background: rgb(255.0, 206.11248779296875, 189.5052490234375)\">наше</span> <span style=\"background: rgb(255.00003051757812, 223.3201904296875, 192.6377716064453)\">время</span> <span style=\"background: rgb(141.3549346923828, 178.21142578125, 255.0)\">сказала</span> <span style=\"background: rgb(255.0, 206.11248779296875, 189.5052490234375)\">анна</span> <span style=\"background: rgb(255.0, 206.11248779296875, 189.5052490234375)\">павловна</span> <span style=\"background: rgb(255.0, 206.11248779296875, 189.5052490234375)\">вы</span> <span style=\"background: rgb(242.66558837890625, 255.0, 246.11264038085938)\">весь</span> <span style=\"background: rgb(247.70709228515625, 218.27320861816406, 255.0)\">вечер</span> <span style=\"background: rgb(255.0, 206.66917419433594, 190.16949462890625)\">у</span> <span style=\"background: rgb(255.0, 206.11248779296875, 189.5052490234375)\">меня</span> <span style=\"background: rgb(255.0, 192.44427490234375, 179.14028930664062)\">надеюсь</span> <span style=\"background: rgb(255.0, 187.7827911376953, 175.53915405273438)\">и</span> <span style=\"background: rgb(255.0, 206.11248779296875, 189.5052490234375)\">сказал</span> <span style=\"background: rgb(255.0, 212.90817260742188, 192.08718872070312)\">бог</span> <span style=\"background: rgb(254.99996948242188, 233.2125701904297, 226.88360595703125)\">да</span> <span style=\"background: rgb(254.99998474121094, 248.26416015625, 178.201171875)\">собертся</span> <span style=\"background: rgb(220.34120178222656, 255.0, 251.8638916015625)\">вода</span> <span style=\"background: rgb(255.0, 226.37612915039062, 214.18038940429688)\">которая</span> <span style=\"background: rgb(254.99998474121094, 183.08995056152344, 165.2360076904297)\">под</span> <span style=\"background: rgb(255.0, 187.19847106933594, 175.09706115722656)\">небом</span> <span style=\"background: rgb(227.04669189453125, 205.17105102539062, 255.0)\">в</span> <span style=\"background: rgb(255.0, 198.5349884033203, 179.66140747070312)\">одно</span> <span style=\"background: rgb(129.86431884765625, 144.43495178222656, 254.99998474121094)\">место</span> <span style=\"background: rgb(254.99998474121094, 180.64561462402344, 166.08628845214844)\">и</span> <span style=\"background: rgb(255.0, 206.11248779296875, 189.5052490234375)\">да</span> <span style=\"background: rgb(254.99998474121094, 239.67906188964844, 228.8009490966797)\">явится</span> <span style=\"background: rgb(255.0, 206.11248779296875, 189.5052490234375)\">суша</span> <span style=\"background: rgb(255.0, 206.11248779296875, 189.5052490234375)\">и</span> <span style=\"background: rgb(255.0, 227.68551635742188, 212.8289794921875)\">стало</span> <span style=\"background: rgb(254.99998474121094, 189.85113525390625, 170.84202575683594)\">так</span>"
      ],
      "text/plain": [
       "<IPython.core.display.HTML object>"
      ]
     },
     "metadata": {},
     "output_type": "display_data"
    }
   ],
   "source": [
    "samples = [\n",
    "    'Сап б, есть одна тян. Двачую однаапррвавапвпв анон',\n",
    "    'князь болконский с удивлением увидел',\n",
    "    'засмеялся проиграл тред не нашел создал',\n",
    "    'хахаха ну ты даешь',\n",
    "    'Сап двач, есть однаапррвавапвпв хэштег тян, она как будто со вниманием слушала рассказ князя Василья',\n",
    "    ' '.join(dataset_a[111]), # Твиттер, должен быть красным\n",
    "    ' '.join(dataset_b[111]), # bible, должна быть зелёной\n",
    "    ' '.join(dataset_c[333]), # Tolstoy, должен быть синим\n",
    "    ' '.join(dataset_a[6] + dataset_b[6] + dataset_c[6])\n",
    "]\n",
    "\n",
    "model = model.cpu()\n",
    "\n",
    "t = 1 # температура, для лучшей визуализации\n",
    "\n",
    "for sample in samples:\n",
    "    sentence = preprocess(sample)\n",
    "    X = torch.LongTensor(vocab.tokenize(sample, pad=False)).view(-1, 1)\n",
    "    scores = model(X).view(-1, 3).mul(t).softmax(dim=1)\n",
    "    maxes, _ = torch.max(scores, dim=1)\n",
    "    scores -= ((1-maxes)/2).view(-1, 1) # так будет ровно один \"полный\" цвет\n",
    "    #print(scores)\n",
    "    print_colored(sentence, scores)"
   ]
  },
  {
   "cell_type": "code",
   "execution_count": null,
   "metadata": {
    "colab": {},
    "colab_type": "code",
    "id": "N9mHKg8TT6W8"
   },
   "outputs": [],
   "source": []
  },
  {
   "cell_type": "code",
   "execution_count": null,
   "metadata": {},
   "outputs": [],
   "source": []
  }
 ],
 "metadata": {
  "accelerator": "GPU",
  "colab": {
   "collapsed_sections": [],
   "name": "rnn.ipynb",
   "provenance": []
  },
  "kernelspec": {
   "display_name": "Python 3",
   "language": "python",
   "name": "python3"
  },
  "language_info": {
   "codemirror_mode": {
    "name": "ipython",
    "version": 3
   },
   "file_extension": ".py",
   "mimetype": "text/x-python",
   "name": "python",
   "nbconvert_exporter": "python",
   "pygments_lexer": "ipython3",
   "version": "3.6.8"
  }
 },
 "nbformat": 4,
 "nbformat_minor": 1
}
