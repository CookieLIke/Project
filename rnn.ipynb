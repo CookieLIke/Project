{
  "nbformat": 4,
  "nbformat_minor": 0,
  "metadata": {
    "colab": {
      "name": "rnn.ipynb",
      "provenance": [],
      "collapsed_sections": []
    },
    "language_info": {
      "codemirror_mode": {
        "name": "ipython",
        "version": 3
      },
      "file_extension": ".py",
      "mimetype": "text/x-python",
      "name": "python",
      "nbconvert_exporter": "python",
      "pygments_lexer": "ipython3",
      "version": "3.7.3"
    },
    "kernelspec": {
      "name": "python3",
      "display_name": "Python 3"
    },
    "accelerator": "GPU"
  },
  "cells": [
    {
      "cell_type": "code",
      "metadata": {
        "id": "od-Vfj39KUTw",
        "colab_type": "code",
        "colab": {}
      },
      "source": [
        "import numpy as np\n",
        "import pandas as pd\n",
        "import csv\n",
        "import re\n",
        "\n",
        "import matplotlib.pyplot as plt\n",
        "%matplotlib inline\n",
        "\n",
        "import torch\n",
        "import torch.nn as nn\n",
        "from torch.utils.data import DataLoader, Dataset\n",
        "\n",
        "from tqdm import tqdm"
      ],
      "execution_count": 0,
      "outputs": []
    },
    {
      "cell_type": "code",
      "metadata": {
        "id": "yfjkkHbsbMUn",
        "colab_type": "code",
        "colab": {}
      },
      "source": [
        "def preprocess(text):\n",
        "    text = text.lower()\n",
        "    text = ''.join(re.findall(r'[ а-я]', text))\n",
        "    return text.split()"
      ],
      "execution_count": 0,
      "outputs": []
    },
    {
      "cell_type": "code",
      "metadata": {
        "id": "f-MI5NfmOlxV",
        "colab_type": "code",
        "outputId": "f992cec1-b399-4f31-fd6c-d3c04e7517f7",
        "colab": {
          "base_uri": "https://localhost:8080/",
          "height": 142
        }
      },
      "source": [
        "!wget -O twitter.csv https://uc50020370813238463df9d35e95.dl.dropboxusercontent.com/cd/0/get/AjfSu2b_x8ZcTuTnG6iVRzB9oGghFHdSGRDoYTvbkYZvzzqC9Mba1Ws-OUyM161AHw1RXT7bMbkTM5Sz25q1crgc96XT16jcAExTWAoRXfDDSw/file?_download_id=788121070783183678205644949107825940683652681256154673210469668&_notify_domain=www.dropbox.com&dl=1\n",
        "\n",
        "tweets = []\n",
        "    \n",
        "try:\n",
        "    reader = csv.reader(open('twitter.csv', 'r'), delimiter=';')\n",
        "    for line in reader:\n",
        "        line = preprocess(line[3])\n",
        "        if len(line) > 10:\n",
        "            tweets.append(line)\n",
        "except: # some bug with encoding in the end of file\n",
        "    pass\n",
        "\n",
        "tweets = tweets[:5000]"
      ],
      "execution_count": 0,
      "outputs": [
        {
          "output_type": "stream",
          "text": [
            "--2019-08-24 11:45:24--  https://uc50020370813238463df9d35e95.dl.dropboxusercontent.com/cd/0/get/AjfSu2b_x8ZcTuTnG6iVRzB9oGghFHdSGRDoYTvbkYZvzzqC9Mba1Ws-OUyM161AHw1RXT7bMbkTM5Sz25q1crgc96XT16jcAExTWAoRXfDDSw/file?_download_id=788121070783183678205644949107825940683652681256154673210469668\n",
            "Resolving uc50020370813238463df9d35e95.dl.dropboxusercontent.com (uc50020370813238463df9d35e95.dl.dropboxusercontent.com)... 162.125.9.6, 2620:100:601f:6::a27d:906\n",
            "Connecting to uc50020370813238463df9d35e95.dl.dropboxusercontent.com (uc50020370813238463df9d35e95.dl.dropboxusercontent.com)|162.125.9.6|:443... connected.\n",
            "HTTP request sent, awaiting response... 404 Not Found\n",
            "2019-08-24 11:45:24 ERROR 404: Not Found.\n",
            "\n"
          ],
          "name": "stdout"
        }
      ]
    },
    {
      "cell_type": "code",
      "metadata": {
        "id": "TzxHnhQVN7BX",
        "colab_type": "code",
        "outputId": "e476a0b7-59dc-4380-dc4b-b8493cb90f23",
        "colab": {
          "base_uri": "https://localhost:8080/",
          "height": 574
        }
      },
      "source": [
        "!wget -O tolstoy.zip https://royallib.com/get/txt/tolstoy_lev/voyna_i_mir_tom_1.zip\n",
        "!unzip tolstoy.zip\n",
        "!mv \"Толстой Лев. Война и мир. Том 1 - royallib.ru.txt\" tolstoy.txt\n",
        "\n",
        "tolstoy = []\n",
        "\n",
        "with open('tolstoy.txt', 'r', encoding=\"windows-1251\") as file:\n",
        "    for line in file:\n",
        "        line = preprocess(line)\n",
        "        if len(line) > 10:\n",
        "            tolstoy.append(line)"
      ],
      "execution_count": 0,
      "outputs": [
        {
          "output_type": "stream",
          "text": [
            "--2019-08-24 11:45:32--  https://royallib.com/get/txt/tolstoy_lev/voyna_i_mir_tom_1.zip\n",
            "Resolving royallib.com (royallib.com)... 62.210.206.157\n",
            "Connecting to royallib.com (royallib.com)|62.210.206.157|:443... connected.\n",
            "HTTP request sent, awaiting response... 200 OK\n",
            "Length: unspecified [text/html]\n",
            "Saving to: ‘tolstoy.zip’\n",
            "\n",
            "tolstoy.zip             [ <=>                ]      14  --.-KB/s    in 0s      \n",
            "\n",
            "2019-08-24 11:45:33 (2.97 MB/s) - ‘tolstoy.zip’ saved [14]\n",
            "\n",
            "Archive:  tolstoy.zip\n",
            "  End-of-central-directory signature not found.  Either this file is not\n",
            "  a zipfile, or it constitutes one disk of a multi-part archive.  In the\n",
            "  latter case the central directory and zipfile comment will be found on\n",
            "  the last disk(s) of this archive.\n",
            "unzip:  cannot find zipfile directory in one of tolstoy.zip or\n",
            "        tolstoy.zip.zip, and cannot find tolstoy.zip.ZIP, period.\n",
            "mv: cannot stat 'Толстой Лев. Война и мир. Том 1 - royallib.ru.txt': No such file or directory\n"
          ],
          "name": "stdout"
        },
        {
          "output_type": "error",
          "ename": "FileNotFoundError",
          "evalue": "ignored",
          "traceback": [
            "\u001b[0;31m---------------------------------------------------------------------------\u001b[0m",
            "\u001b[0;31mFileNotFoundError\u001b[0m                         Traceback (most recent call last)",
            "\u001b[0;32m<ipython-input-3-7a253fc0c2d7>\u001b[0m in \u001b[0;36m<module>\u001b[0;34m()\u001b[0m\n\u001b[1;32m      5\u001b[0m \u001b[0mtolstoy\u001b[0m \u001b[0;34m=\u001b[0m \u001b[0;34m[\u001b[0m\u001b[0;34m]\u001b[0m\u001b[0;34m\u001b[0m\u001b[0;34m\u001b[0m\u001b[0m\n\u001b[1;32m      6\u001b[0m \u001b[0;34m\u001b[0m\u001b[0m\n\u001b[0;32m----> 7\u001b[0;31m \u001b[0;32mwith\u001b[0m \u001b[0mopen\u001b[0m\u001b[0;34m(\u001b[0m\u001b[0;34m'tolstoy.txt'\u001b[0m\u001b[0;34m,\u001b[0m \u001b[0;34m'r'\u001b[0m\u001b[0;34m,\u001b[0m \u001b[0mencoding\u001b[0m\u001b[0;34m=\u001b[0m\u001b[0;34m\"windows-1251\"\u001b[0m\u001b[0;34m)\u001b[0m \u001b[0;32mas\u001b[0m \u001b[0mfile\u001b[0m\u001b[0;34m:\u001b[0m\u001b[0;34m\u001b[0m\u001b[0;34m\u001b[0m\u001b[0m\n\u001b[0m\u001b[1;32m      8\u001b[0m     \u001b[0;32mfor\u001b[0m \u001b[0mline\u001b[0m \u001b[0;32min\u001b[0m \u001b[0mfile\u001b[0m\u001b[0;34m:\u001b[0m\u001b[0;34m\u001b[0m\u001b[0;34m\u001b[0m\u001b[0m\n\u001b[1;32m      9\u001b[0m         \u001b[0mline\u001b[0m \u001b[0;34m=\u001b[0m \u001b[0mpreprocess\u001b[0m\u001b[0;34m(\u001b[0m\u001b[0mline\u001b[0m\u001b[0;34m)\u001b[0m\u001b[0;34m\u001b[0m\u001b[0;34m\u001b[0m\u001b[0m\n",
            "\u001b[0;31mFileNotFoundError\u001b[0m: [Errno 2] No such file or directory: 'tolstoy.txt'"
          ]
        }
      ]
    },
    {
      "cell_type": "code",
      "metadata": {
        "id": "zKdHauyIKguJ",
        "colab_type": "code",
        "outputId": "31c517d1-e2fe-4adb-c28c-22e8bfe43786",
        "colab": {
          "base_uri": "https://localhost:8080/",
          "height": 408
        }
      },
      "source": [
        "import urllib.request\n",
        "from bs4 import BeautifulSoup\n",
        "\n",
        "def get_page(url):\n",
        "    page = urllib.request.urlopen(url).read().decode('utf-8')\n",
        "    soup = BeautifulSoup(page, 'html.parser')\n",
        "    return soup\n",
        "\n",
        "def parse_2ch():\n",
        "    posts = get_page('https://2ch.hk/b/').select('.post_type_oppost a')\n",
        "    \n",
        "    links = set()\n",
        "    for post in posts:\n",
        "        idx = post.get('id')\n",
        "        if isinstance(idx, str):\n",
        "            links.add(idx)\n",
        "            \n",
        "    messages = [] не\n",
        "    for idx in tqdm(links):\n",
        "        print(idx)\n",
        "        raw_messages = get_page(f'https://2ch.hk/b/res/{idx}.html').select('.post__message')\n",
        "        for message in raw_messages:\n",
        "            message = preprocess(message.text)\n",
        "            if len(message) > 10:\n",
        "                messages.append(message)\n",
        "    \n",
        "    return messages\n",
        "\n",
        "dwach = parse_2ch()"
      ],
      "execution_count": 0,
      "outputs": [
        {
          "output_type": "stream",
          "text": [
            "\r  0%|          | 0/22 [00:00<?, ?it/s]"
          ],
          "name": "stderr"
        },
        {
          "output_type": "stream",
          "text": [
            "198816393\n"
          ],
          "name": "stdout"
        },
        {
          "output_type": "stream",
          "text": [
            "\r  5%|▍         | 1/22 [00:01<00:26,  1.27s/it]"
          ],
          "name": "stderr"
        },
        {
          "output_type": "stream",
          "text": [
            "198818719\n"
          ],
          "name": "stdout"
        },
        {
          "output_type": "stream",
          "text": [
            "\r  9%|▉         | 2/22 [00:03<00:30,  1.53s/it]"
          ],
          "name": "stderr"
        },
        {
          "output_type": "stream",
          "text": [
            "198812550\n"
          ],
          "name": "stdout"
        },
        {
          "output_type": "stream",
          "text": [
            "\r 14%|█▎        | 3/22 [00:04<00:26,  1.39s/it]"
          ],
          "name": "stderr"
        },
        {
          "output_type": "stream",
          "text": [
            "198817348\n"
          ],
          "name": "stdout"
        },
        {
          "output_type": "stream",
          "text": [
            "\r 18%|█▊        | 4/22 [00:05<00:24,  1.34s/it]"
          ],
          "name": "stderr"
        },
        {
          "output_type": "stream",
          "text": [
            "198808038\n"
          ],
          "name": "stdout"
        },
        {
          "output_type": "stream",
          "text": [
            "\r 23%|██▎       | 5/22 [00:06<00:21,  1.25s/it]"
          ],
          "name": "stderr"
        },
        {
          "output_type": "stream",
          "text": [
            "198796013\n"
          ],
          "name": "stdout"
        },
        {
          "output_type": "stream",
          "text": [
            "\r 27%|██▋       | 6/22 [00:09<00:25,  1.61s/it]"
          ],
          "name": "stderr"
        },
        {
          "output_type": "stream",
          "text": [
            "198818834\n"
          ],
          "name": "stdout"
        },
        {
          "output_type": "stream",
          "text": [
            "\r 32%|███▏      | 7/22 [00:10<00:21,  1.45s/it]"
          ],
          "name": "stderr"
        },
        {
          "output_type": "stream",
          "text": [
            "198820812\n"
          ],
          "name": "stdout"
        },
        {
          "output_type": "stream",
          "text": [
            "\r 36%|███▋      | 8/22 [00:11<00:18,  1.32s/it]"
          ],
          "name": "stderr"
        },
        {
          "output_type": "stream",
          "text": [
            "198790254\n"
          ],
          "name": "stdout"
        },
        {
          "output_type": "stream",
          "text": [
            "\r 41%|████      | 9/22 [00:12<00:18,  1.39s/it]"
          ],
          "name": "stderr"
        },
        {
          "output_type": "stream",
          "text": [
            "198816207\n"
          ],
          "name": "stdout"
        },
        {
          "output_type": "stream",
          "text": [
            "\r 45%|████▌     | 10/22 [00:14<00:18,  1.50s/it]"
          ],
          "name": "stderr"
        },
        {
          "output_type": "stream",
          "text": [
            "198758640\n"
          ],
          "name": "stdout"
        },
        {
          "output_type": "stream",
          "text": [
            "\r 50%|█████     | 11/22 [00:16<00:16,  1.50s/it]"
          ],
          "name": "stderr"
        },
        {
          "output_type": "stream",
          "text": [
            "198808921\n"
          ],
          "name": "stdout"
        },
        {
          "output_type": "stream",
          "text": [
            "\r 55%|█████▍    | 12/22 [00:17<00:13,  1.36s/it]"
          ],
          "name": "stderr"
        },
        {
          "output_type": "stream",
          "text": [
            "198820513\n"
          ],
          "name": "stdout"
        },
        {
          "output_type": "stream",
          "text": [
            "\r 59%|█████▉    | 13/22 [00:18<00:11,  1.27s/it]"
          ],
          "name": "stderr"
        },
        {
          "output_type": "stream",
          "text": [
            "198812723\n"
          ],
          "name": "stdout"
        },
        {
          "output_type": "stream",
          "text": [
            "\r 64%|██████▎   | 14/22 [00:19<00:10,  1.28s/it]"
          ],
          "name": "stderr"
        },
        {
          "output_type": "stream",
          "text": [
            "198802024\n"
          ],
          "name": "stdout"
        },
        {
          "output_type": "stream",
          "text": [
            "\r 68%|██████▊   | 15/22 [00:20<00:09,  1.30s/it]"
          ],
          "name": "stderr"
        },
        {
          "output_type": "stream",
          "text": [
            "198820052\n"
          ],
          "name": "stdout"
        },
        {
          "output_type": "stream",
          "text": [
            "\r 73%|███████▎  | 16/22 [00:21<00:07,  1.26s/it]"
          ],
          "name": "stderr"
        },
        {
          "output_type": "stream",
          "text": [
            "198802952\n"
          ],
          "name": "stdout"
        },
        {
          "output_type": "stream",
          "text": [
            "\r 77%|███████▋  | 17/22 [00:23<00:07,  1.42s/it]"
          ],
          "name": "stderr"
        },
        {
          "output_type": "stream",
          "text": [
            "198811156\n"
          ],
          "name": "stdout"
        },
        {
          "output_type": "stream",
          "text": [
            "\r 82%|████████▏ | 18/22 [00:24<00:05,  1.31s/it]"
          ],
          "name": "stderr"
        },
        {
          "output_type": "stream",
          "text": [
            "198819175\n"
          ],
          "name": "stdout"
        },
        {
          "output_type": "stream",
          "text": [
            "\r 86%|████████▋ | 19/22 [00:25<00:03,  1.23s/it]"
          ],
          "name": "stderr"
        },
        {
          "output_type": "stream",
          "text": [
            "198819701\n"
          ],
          "name": "stdout"
        },
        {
          "output_type": "stream",
          "text": [
            "\r 91%|█████████ | 20/22 [00:27<00:02,  1.29s/it]"
          ],
          "name": "stderr"
        },
        {
          "output_type": "stream",
          "text": [
            "198816835\n"
          ],
          "name": "stdout"
        },
        {
          "output_type": "stream",
          "text": [
            "\r 95%|█████████▌| 21/22 [00:28<00:01,  1.23s/it]"
          ],
          "name": "stderr"
        },
        {
          "output_type": "stream",
          "text": [
            "198820913\n"
          ],
          "name": "stdout"
        },
        {
          "output_type": "stream",
          "text": [
            "\r100%|██████████| 22/22 [00:29<00:00,  1.16s/it]\n"
          ],
          "name": "stderr"
        }
      ]
    },
    {
      "cell_type": "code",
      "metadata": {
        "id": "891GJWsCKUT4",
        "colab_type": "code",
        "colab": {}
      },
      "source": [
        "class Vocab:\n",
        "    def __init__(self, corpora, tokenizer, max_len=20, vocab_size=5000):\n",
        "        self.tokenizer = tokenizer\n",
        "        self.max_len = max_len\n",
        "        \n",
        "        counts = {}\n",
        "        \n",
        "        for sentence in corpora:\n",
        "            for token in sentence:\n",
        "                counts[token] = counts.get(token, 0) + 1\n",
        "        \n",
        "        l = sorted(counts.items(), key=lambda x: -x[1])[:vocab_size-2]\n",
        "        \n",
        "        print('least used token:', l[-1])\n",
        "        print('vocab size:', len(l), '(+2)')\n",
        "        \n",
        "        self.t2i = {\"<pad>\" : 0, \"<unk>\" : 1}\n",
        "        self.i2t = {0 : \"<pad>\", 1 : \"<unk>\"}\n",
        "              \n",
        "        for token, _ in l:\n",
        "            self.i2t[len(self.i2t)] = token\n",
        "            self.t2i[token] = len(self.t2i)\n",
        "    \n",
        "    def tokenize(self, sentence, pad=True):\n",
        "        if pad:\n",
        "            sentence = sentence[:self.max_len]\n",
        "            while len(sentence) < self.max_len:\n",
        "                sentence.append('<pad>')\n",
        "        \n",
        "        indices = []\n",
        "        for token in sentence:\n",
        "            if token in self.t2i:\n",
        "                indices.append(self.t2i[token])\n",
        "            else:\n",
        "                indices.append(1)\n",
        "        \n",
        "        return indices"
      ],
      "execution_count": 0,
      "outputs": []
    },
    {
      "cell_type": "code",
      "metadata": {
        "id": "Wl3zeFSUKUT8",
        "colab_type": "code",
        "outputId": "322cea2d-59e1-4326-a0aa-4ad2e8f3dbab",
        "colab": {
          "base_uri": "https://localhost:8080/",
          "height": 102
        }
      },
      "source": [
        "# me: mom can we have oversampling?\n",
        "# mom: but we have oversampling at home\n",
        "# oversampling at home:\n",
        "\n",
        "dataset_a = tweets\n",
        "dataset_b = tolstoy + tolstoy\n",
        "dataset_c = dwach + dwach + dwach + dwach\n",
        "\n",
        "print(len(dataset_a))\n",
        "print(len(dataset_b))\n",
        "print(len(dataset_c))\n",
        "\n",
        "vocab = Vocab(dataset_a + dataset_b + dataset_c, preprocess)"
      ],
      "execution_count": 0,
      "outputs": [
        {
          "output_type": "stream",
          "text": [
            "5000\n",
            "4386\n",
            "4240\n",
            "least used token: ('купите', 8)\n",
            "vocab size: 4998 (+2)\n"
          ],
          "name": "stdout"
        }
      ]
    },
    {
      "cell_type": "code",
      "metadata": {
        "id": "0OKvCmcGKUT_",
        "colab_type": "code",
        "colab": {}
      },
      "source": [
        "class StyleDataset(Dataset):\n",
        "    def __init__(self, corpora, vocab):\n",
        "        self.vocab = vocab\n",
        "        self.samples = []\n",
        "        self.labels = []\n",
        "        \n",
        "        for i, dataset in enumerate(corpora):\n",
        "            self.samples += dataset\n",
        "            self.labels += [i] * len(dataset)\n",
        "    \n",
        "    def __len__(self):\n",
        "        return len(self.samples)\n",
        "    \n",
        "    def __getitem__(self, idx):\n",
        "        X = self.vocab.tokenize(self.samples[idx])\n",
        "        y = [self.labels[idx]] * len(X)\n",
        "        return torch.LongTensor(X), torch.LongTensor(y)"
      ],
      "execution_count": 0,
      "outputs": []
    },
    {
      "cell_type": "code",
      "metadata": {
        "id": "aaXow-McKUUC",
        "colab_type": "code",
        "outputId": "d1f0b074-1aa8-489a-a41e-fde5152c7277",
        "colab": {
          "base_uri": "https://localhost:8080/",
          "height": 68
        }
      },
      "source": [
        "dataset = StyleDataset([dataset_a, dataset_b, dataset_c], vocab)\n",
        "\n",
        "# todo: this should be done before oversampling\n",
        "train_dataset, test_dataset = torch.utils.data.random_split(dataset, [len(dataset)-512, 512])\n",
        "\n",
        "train = DataLoader(train_dataset, batch_size=64, shuffle=True)\n",
        "test = DataLoader(test_dataset, batch_size=64)\n",
        "\n",
        "dataset[5]"
      ],
      "execution_count": 0,
      "outputs": [
        {
          "output_type": "execute_result",
          "data": {
            "text/plain": [
              "(tensor([  15,   56,   52,    1,   49,  416, 1064,    4,   86,    4,    1,    0,\n",
              "            0,    0,    0,    0,    0,    0,    0,    0]),\n",
              " tensor([0, 0, 0, 0, 0, 0, 0, 0, 0, 0, 0, 0, 0, 0, 0, 0, 0, 0, 0, 0]))"
            ]
          },
          "metadata": {
            "tags": []
          },
          "execution_count": 112
        }
      ]
    },
    {
      "cell_type": "code",
      "metadata": {
        "id": "o8tVAVfFKUUJ",
        "colab_type": "code",
        "colab": {}
      },
      "source": [
        "def fetch_embeddings(embeddings, vocab, embedding_dim=300):\n",
        "    weights = torch.randn(len(vocab.t2i), embedding_dim) / 10\n",
        "    \n",
        "    print('reading file', embeddings)\n",
        "    print('this may take a while...')\n",
        "    \n",
        "    with open(embeddings) as file:\n",
        "        for line in file:\n",
        "            data = line.split()\n",
        "            if len(data) == embedding_dim + 1:\n",
        "                token = data[0]\n",
        "                vector = torch.Tensor([float(x) for x in data[1:]])\n",
        "                if token in vocab.t2i:\n",
        "                    weights[vocab.t2i[token]] = vector\n",
        "    \n",
        "    return weights\n",
        "\n",
        "\n",
        "class StyleClassifier(nn.Module):\n",
        "    def __init__(\n",
        "        self,\n",
        "        embeddings,\n",
        "        embedding_dim=300,\n",
        "        num_classes=3,\n",
        "        hidden_dim=50,\n",
        "        num_layers=1,\n",
        "        rnn_dropout=0,\n",
        "        bidirectional=False):\n",
        "        \n",
        "        super().__init__()\n",
        "        \n",
        "        self.embed = nn.Embedding.from_pretrained(embeddings)\n",
        "        \n",
        "        self.rnn = nn.GRU(\n",
        "            embedding_dim,\n",
        "            hidden_dim, \n",
        "            num_layers=num_layers, \n",
        "            bidirectional=bidirectional, \n",
        "            dropout=rnn_dropout,\n",
        "            batch_first=True\n",
        "        )\n",
        "        \n",
        "        self.head = nn.Sequential(\n",
        "            nn.Dropout(0.5),\n",
        "            nn.Linear(hidden_dim, hidden_dim),\n",
        "            nn.ReLU(),\n",
        "            nn.Dropout(0.5),\n",
        "            nn.Linear(hidden_dim, num_classes),\n",
        "            nn.LogSoftmax(dim=2)\n",
        "        )\n",
        "        \n",
        "    def forward(self, X):\n",
        "        X = self.embed(X)\n",
        "        X, _ = self.rnn(X)\n",
        "        X = self.head(X)\n",
        "        return X"
      ],
      "execution_count": 0,
      "outputs": []
    },
    {
      "cell_type": "code",
      "metadata": {
        "id": "HE6aZSjUuPwh",
        "colab_type": "code",
        "colab": {}
      },
      "source": [
        "!wget https://dl.fbaipublicfiles.com/fasttext/vectors-wiki/wiki.ru.vec"
      ],
      "execution_count": 0,
      "outputs": []
    },
    {
      "cell_type": "code",
      "metadata": {
        "id": "lNmAuJHftc58",
        "colab_type": "code",
        "colab": {}
      },
      "source": [
        "!touch empty.vec"
      ],
      "execution_count": 0,
      "outputs": []
    },
    {
      "cell_type": "code",
      "metadata": {
        "id": "8_AbBsD7KUUM",
        "colab_type": "code",
        "outputId": "321a2333-1731-473f-864b-7a20612fb7c0",
        "colab": {
          "base_uri": "https://localhost:8080/",
          "height": 51
        }
      },
      "source": [
        "embeddings = fetch_embeddings('wiki.ru.vec', vocab, embedding_dim=300)\n",
        "model = StyleClassifier(embeddings)"
      ],
      "execution_count": 0,
      "outputs": [
        {
          "output_type": "stream",
          "text": [
            "reading file wiki.ru.vec\n",
            "this may take a while...\n"
          ],
          "name": "stdout"
        }
      ]
    },
    {
      "cell_type": "code",
      "metadata": {
        "id": "G-m08RFtKUUQ",
        "colab_type": "code",
        "colab": {}
      },
      "source": [
        "test_batch = dataset[0][0].view(1, -1)\n",
        "model(test_batch).exp()"
      ],
      "execution_count": 0,
      "outputs": []
    },
    {
      "cell_type": "code",
      "metadata": {
        "id": "ElGnnan7KUUU",
        "colab_type": "code",
        "colab": {}
      },
      "source": [
        "lr = 5e-2\n",
        "num_epochs = 10\n",
        "device = torch.device('cpu')\n",
        "\n",
        "#model = StyleClassifier(len(vocab.i2t), 'fasttext.vec')\n",
        "model = model.to(device)\n",
        "optimizer = torch.optim.Adam(model.parameters(), lr=lr)\n",
        "criterion = nn.NLLLoss()"
      ],
      "execution_count": 0,
      "outputs": []
    },
    {
      "cell_type": "code",
      "metadata": {
        "id": "u2V5pB1MKUUc",
        "colab_type": "code",
        "outputId": "7c78e1de-19c7-488e-92ac-51bbfae130cd",
        "colab": {
          "base_uri": "https://localhost:8080/",
          "height": 527
        }
      },
      "source": [
        "train_losses = []\n",
        "test_losses = []\n",
        "\n",
        "for epoch in range(num_epochs):\n",
        "    \n",
        "    for X, y in tqdm(train):\n",
        "        X.to(device)\n",
        "        y.to(device)\n",
        "        \n",
        "        optimizer.zero_grad()\n",
        "        \n",
        "        preds = model(X)\n",
        "        \n",
        "        loss = criterion(preds.view(-1, 3), y.view(-1))\n",
        "        \n",
        "        loss.backward()\n",
        "        optimizer.step()\n",
        "        \n",
        "        train_losses.append(loss.item())\n",
        "    \n",
        "    test_loss = 0\n",
        "    for X, y in tqdm(test):\n",
        "        X.to(device)\n",
        "        y.to(device)\n",
        "        \n",
        "        preds = model(X)\n",
        "        loss = criterion(preds.view(-1, 3), y.view(-1))\n",
        "        \n",
        "        test_loss += loss.item()\n",
        "    \n",
        "    test_losses.append(test_loss)\n",
        "    print('test loss:', test_loss)"
      ],
      "execution_count": 0,
      "outputs": [
        {
          "output_type": "stream",
          "text": [
            "100%|██████████| 205/205 [00:03<00:00, 54.05it/s]\n",
            "100%|██████████| 8/8 [00:00<00:00, 127.37it/s]\n",
            "  3%|▎         | 6/205 [00:00<00:03, 56.48it/s]"
          ],
          "name": "stderr"
        },
        {
          "output_type": "stream",
          "text": [
            "test loss: 7.133387565612793\n"
          ],
          "name": "stdout"
        },
        {
          "output_type": "stream",
          "text": [
            "100%|██████████| 205/205 [00:03<00:00, 56.27it/s]\n",
            "100%|██████████| 8/8 [00:00<00:00, 126.42it/s]\n",
            "  3%|▎         | 6/205 [00:00<00:03, 55.36it/s]"
          ],
          "name": "stderr"
        },
        {
          "output_type": "stream",
          "text": [
            "test loss: 6.880126178264618\n"
          ],
          "name": "stdout"
        },
        {
          "output_type": "stream",
          "text": [
            "100%|██████████| 205/205 [00:03<00:00, 56.85it/s]\n",
            "100%|██████████| 8/8 [00:00<00:00, 123.09it/s]\n",
            "  3%|▎         | 6/205 [00:00<00:03, 59.38it/s]"
          ],
          "name": "stderr"
        },
        {
          "output_type": "stream",
          "text": [
            "test loss: 7.078477621078491\n"
          ],
          "name": "stdout"
        },
        {
          "output_type": "stream",
          "text": [
            "100%|██████████| 205/205 [00:03<00:00, 56.93it/s]\n",
            "100%|██████████| 8/8 [00:00<00:00, 123.71it/s]\n",
            "  3%|▎         | 6/205 [00:00<00:03, 55.75it/s]"
          ],
          "name": "stderr"
        },
        {
          "output_type": "stream",
          "text": [
            "test loss: 7.423617303371429\n"
          ],
          "name": "stdout"
        },
        {
          "output_type": "stream",
          "text": [
            "100%|██████████| 205/205 [00:03<00:00, 56.64it/s]\n",
            "100%|██████████| 8/8 [00:00<00:00, 105.63it/s]\n",
            "  2%|▏         | 5/205 [00:00<00:04, 47.48it/s]"
          ],
          "name": "stderr"
        },
        {
          "output_type": "stream",
          "text": [
            "test loss: 6.754110515117645\n"
          ],
          "name": "stdout"
        },
        {
          "output_type": "stream",
          "text": [
            "100%|██████████| 205/205 [00:03<00:00, 56.95it/s]\n",
            "100%|██████████| 8/8 [00:00<00:00, 127.41it/s]\n",
            "  3%|▎         | 6/205 [00:00<00:03, 59.28it/s]"
          ],
          "name": "stderr"
        },
        {
          "output_type": "stream",
          "text": [
            "test loss: 9.674750685691833\n"
          ],
          "name": "stdout"
        },
        {
          "output_type": "stream",
          "text": [
            "100%|██████████| 205/205 [00:03<00:00, 56.94it/s]\n",
            "100%|██████████| 8/8 [00:00<00:00, 129.87it/s]\n",
            "  3%|▎         | 6/205 [00:00<00:03, 57.08it/s]"
          ],
          "name": "stderr"
        },
        {
          "output_type": "stream",
          "text": [
            "test loss: 8.494768857955933\n"
          ],
          "name": "stdout"
        },
        {
          "output_type": "stream",
          "text": [
            "100%|██████████| 205/205 [00:03<00:00, 56.15it/s]\n",
            "100%|██████████| 8/8 [00:00<00:00, 127.54it/s]\n",
            "  3%|▎         | 6/205 [00:00<00:03, 57.76it/s]"
          ],
          "name": "stderr"
        },
        {
          "output_type": "stream",
          "text": [
            "test loss: 8.512402176856995\n"
          ],
          "name": "stdout"
        },
        {
          "output_type": "stream",
          "text": [
            "100%|██████████| 205/205 [00:03<00:00, 56.86it/s]\n",
            "100%|██████████| 8/8 [00:00<00:00, 126.06it/s]\n",
            "  3%|▎         | 6/205 [00:00<00:03, 56.66it/s]"
          ],
          "name": "stderr"
        },
        {
          "output_type": "stream",
          "text": [
            "test loss: 8.356951236724854\n"
          ],
          "name": "stdout"
        },
        {
          "output_type": "stream",
          "text": [
            "100%|██████████| 205/205 [00:03<00:00, 57.43it/s]\n",
            "100%|██████████| 8/8 [00:00<00:00, 128.16it/s]"
          ],
          "name": "stderr"
        },
        {
          "output_type": "stream",
          "text": [
            "test loss: 8.018276393413544\n"
          ],
          "name": "stdout"
        },
        {
          "output_type": "stream",
          "text": [
            "\n"
          ],
          "name": "stderr"
        }
      ]
    },
    {
      "cell_type": "code",
      "metadata": {
        "id": "_wP58MHrKUUf",
        "colab_type": "code",
        "outputId": "4f02da3a-db7c-4639-f402-aa02d845cfe4",
        "colab": {
          "base_uri": "https://localhost:8080/",
          "height": 521
        }
      },
      "source": [
        "plt.plot(train_losses)\n",
        "plt.show()\n",
        "\n",
        "plt.plot(test_losses)\n",
        "plt.show()"
      ],
      "execution_count": 0,
      "outputs": [
        {
          "output_type": "display_data",
          "data": {
            "image/png": "[encoded data removed]",
            "text/plain": [
              "<Figure size 432x288 with 1 Axes>"
            ]
          },
          "metadata": {
            "tags": []
          }
        },
        {
          "output_type": "display_data",
          "data": {
            "image/png": "[encoded data removed]",
            "text/plain": [
              "<Figure size 432x288 with 1 Axes>"
            ]
          },
          "metadata": {
            "tags": []
          }
        }
      ]
    },
    {
      "cell_type": "code",
      "metadata": {
        "id": "oz0rhlFFKUUo",
        "colab_type": "code",
        "colab": {}
      },
      "source": [
        "from IPython.core.display import display, HTML\n",
        "\n",
        "def print_colored(sequence, intensities, delimeter=' '):\n",
        "    html = delimeter.join([\n",
        "        # https://en.wikipedia.org/wiki/Subtractive_color\n",
        "        f'<span style=\"background: rgb({255*(1-x[1]-x[2])}, {255*(1-x[0]-x[2])}, {255*(1-x[0]-x[1])})\">{c}</span>'\n",
        "        for c, x in zip(sequence, intensities) \n",
        "    ])\n",
        "    display(HTML(html))"
      ],
      "execution_count": 0,
      "outputs": []
    },
    {
      "cell_type": "code",
      "metadata": {
        "id": "QQPrQkwVKUUs",
        "colab_type": "code",
        "outputId": "d641e009-63c1-472e-b331-aa8d09cc4957",
        "colab": {
          "base_uri": "https://localhost:8080/",
          "height": 1000
        }
      },
      "source": [
        "samples = [\n",
        "    'Сап б, есть одна тян. Двачую анон',\n",
        "    'князь болконский с удивлением увидел',\n",
        "    'засмеялся проиграл тред не нашел создал',\n",
        "    'хахаха ну ты даешь',\n",
        "    'Сап двач, есть одна хэштег тян, она как будто со вниманием слушала рассказ князя Василья',\n",
        "    ' '.join(dataset_a[111]), # Твиттер, должен быть красным\n",
        "    ' '.join(dataset_b[111]), # Война и Мир, должна быть зелёнойхз\n",
        "    ' '.join(dataset_c[333]), # Двач, должен быть синим\n",
        "    ' '.join(dataset_a[5] + dataset_b[5] + dataset_c[5])\n",
        "]\n",
        "\n",
        "model = model.cpu()\n",
        "\n",
        "t = 1 # температура, для лучшей визуализации\n",
        "\n",
        "for sample in samples:\n",
        "    sentence = preprocess(sample)\n",
        "    X = torch.LongTensor(vocab.tokenize(sample, pad=False)).view(-1, 1)\n",
        "    scores = model(X).view(-1, 3).mul(t).softmax(dim=1)\n",
        "    maxes, _ = torch.max(scores, dim=1)\n",
        "    scores -= ((1-maxes)/2).view(-1, 1) # так будет ровно один \"полный\" цвет\n",
        "    print(scores)\n",
        "    print_colored(sentence, scores)"
      ],
      "execution_count": 0,
      "outputs": [
        {
          "output_type": "stream",
          "text": [
            "tensor([[ 0.0940, -0.0940,  0.1198],\n",
            "        [ 0.0351, -0.0351,  0.0529],\n",
            "        [ 0.0237, -0.0237,  0.0499],\n",
            "        [ 0.0402, -0.0402,  0.1847],\n",
            "        [ 0.0365, -0.0315,  0.0315],\n",
            "        [ 0.1051, -0.1051,  0.1755],\n",
            "        [ 0.2059, -0.0772,  0.0772],\n",
            "        [ 0.1237, -0.0177,  0.0177],\n",
            "        [ 0.0360, -0.0360,  0.0822],\n",
            "        [-0.0205,  0.0205,  0.0497],\n",
            "        [ 0.0970, -0.0429,  0.0428],\n",
            "        [ 0.0950, -0.0950,  0.1127],\n",
            "        [ 0.0264,  0.0751, -0.0264],\n",
            "        [ 0.0453, -0.0453,  0.0895],\n",
            "        [ 0.0158, -0.0158,  0.7854],\n",
            "        [ 0.0698, -0.0237,  0.0237],\n",
            "        [ 0.0505, -0.0348,  0.0348],\n",
            "        [-0.0205,  0.0205,  0.0541],\n",
            "        [ 0.2657,  0.0067, -0.0067],\n",
            "        [ 0.0164, -0.0145,  0.0145],\n",
            "        [ 0.2042, -0.0780,  0.0780],\n",
            "        [ 0.0280, -0.0280,  0.1090],\n",
            "        [ 0.0986, -0.0986,  0.1825],\n",
            "        [ 0.0501, -0.0352,  0.0352],\n",
            "        [ 0.0348, -0.0348,  0.0889],\n",
            "        [ 0.0259, -0.0259,  0.0846],\n",
            "        [ 0.0159, -0.0159,  0.0210],\n",
            "        [ 0.0377, -0.0377,  0.1286],\n",
            "        [ 0.0278, -0.0278,  0.1049],\n",
            "        [ 0.0469, -0.0469,  0.0870],\n",
            "        [ 0.0132, -0.0132,  0.7731],\n",
            "        [ 0.0356,  0.1035, -0.0356],\n",
            "        [ 0.0217, -0.0217,  0.7773]], grad_fn=<SubBackward0>)\n"
          ],
          "name": "stdout"
        },
        {
          "output_type": "display_data",
          "data": {
            "text/html": [
              "<span style=\"background: rgb(248.41415405273438, 200.4847412109375, 255.0)\">сап</span> <span style=\"background: rgb(250.45150756835938, 232.5507049560547, 255.0)\">б</span> <span style=\"background: rgb(248.31761169433594, 236.236572265625, 255.0)\">есть</span> <span style=\"background: rgb(218.1652069091797, 197.66177368164062, 255.0)\">одна</span> <span style=\"background: rgb(254.99996948242188, 237.6559600830078, 253.7259063720703)\">тян</span> <span style=\"background: rgb(237.0465850830078, 183.46578979492188, 254.99998474121094)\">двачую</span> <span style=\"background: rgb(255.0, 182.80653381347656, 222.184814453125)\">анон</span>"
            ],
            "text/plain": [
              "<IPython.core.display.HTML object>"
            ]
          },
          "metadata": {
            "tags": []
          }
        },
        {
          "output_type": "stream",
          "text": [
            "tensor([[ 0.0274, -0.0274,  0.1644],\n",
            "        [ 0.0249, -0.0249,  0.7810],\n",
            "        [ 0.3912, -0.0122,  0.0122],\n",
            "        [ 0.0124, -0.0124,  0.0454],\n",
            "        [ 0.0480, -0.0480,  0.1084],\n",
            "        [ 0.0447, -0.0447,  0.1734],\n",
            "        [ 0.0208, -0.0208,  0.0331],\n",
            "        [ 0.0322, -0.0138,  0.0138],\n",
            "        [ 0.0349, -0.0349,  0.0432],\n",
            "        [ 0.0232, -0.0232,  0.2033],\n",
            "        [ 0.0157,  0.0673, -0.0157],\n",
            "        [ 0.0256, -0.0256,  0.7806],\n",
            "        [ 0.0387, -0.0387,  0.0475],\n",
            "        [ 0.0227, -0.0227,  0.1876],\n",
            "        [ 0.0317, -0.0219,  0.0219],\n",
            "        [ 0.0849, -0.0086,  0.0086],\n",
            "        [ 0.0921, -0.0921,  0.1193],\n",
            "        [ 0.0327, -0.0327,  0.0452],\n",
            "        [ 0.0633, -0.0633,  0.0832],\n",
            "        [ 0.0633, -0.0633,  0.0695],\n",
            "        [ 0.0149, -0.0149,  0.0580],\n",
            "        [ 0.0368, -0.0326,  0.0326],\n",
            "        [ 0.0151, -0.0151,  0.0197],\n",
            "        [ 0.0399, -0.0399,  0.0771],\n",
            "        [ 0.0391, -0.0272,  0.0272],\n",
            "        [ 0.0119, -0.0119,  0.7791],\n",
            "        [ 0.0376, -0.0376,  0.0437],\n",
            "        [ 0.1307, -0.0389,  0.0389],\n",
            "        [ 0.0591, -0.0314,  0.0314],\n",
            "        [ 0.0368, -0.0336,  0.0336],\n",
            "        [ 0.0379, -0.0336,  0.0336],\n",
            "        [ 0.0501, -0.0501,  0.0783],\n",
            "        [ 0.0341, -0.0341,  0.0461],\n",
            "        [ 0.0269, -0.0269,  0.0736],\n",
            "        [ 0.0874, -0.0318,  0.0318],\n",
            "        [ 0.0440, -0.0401,  0.0401]], grad_fn=<SubBackward0>)\n"
          ],
          "name": "stdout"
        },
        {
          "output_type": "display_data",
          "data": {
            "text/html": [
              "<span style=\"background: rgb(220.06576538085938, 206.08090209960938, 255.0)\">князь</span> <span style=\"background: rgb(62.20558166503906, 49.49814987182617, 255.0)\">болконский</span> <span style=\"background: rgb(255.0, 152.13548278808594, 158.3521270751953)\">с</span> <span style=\"background: rgb(246.57923889160156, 240.2434844970703, 255.0)\">удивлением</span> <span style=\"background: rgb(239.5963897705078, 215.13876342773438, 255.0)\">увидел</span>"
            ],
            "text/plain": [
              "<IPython.core.display.HTML object>"
            ]
          },
          "metadata": {
            "tags": []
          }
        },
        {
          "output_type": "stream",
          "text": [
            "tensor([[ 3.5406e-02, -3.5406e-02,  8.5430e-02],\n",
            "        [ 4.3110e-02, -4.3110e-02,  7.0201e-02],\n",
            "        [ 3.9594e-02, -3.2237e-02,  3.2237e-02],\n",
            "        [ 9.6402e-04, -9.6402e-04,  3.3254e-01],\n",
            "        [ 5.3367e-02, -2.7486e-02,  2.7486e-02],\n",
            "        [ 6.2881e-02, -2.4527e-03,  2.4526e-03],\n",
            "        [ 3.8629e-02, -3.8629e-02,  7.0930e-02],\n",
            "        [ 3.9537e-02, -3.9537e-02,  5.0434e-02],\n",
            "        [ 3.5233e-01, -4.1315e-02,  4.1314e-02],\n",
            "        [ 3.3343e-02, -3.3343e-02,  3.5479e-02],\n",
            "        [ 2.9008e-02, -2.9008e-02,  3.0047e-02],\n",
            "        [ 3.1838e-02, -3.1838e-02,  3.3108e-02],\n",
            "        [ 2.1107e-02,  1.0558e-01, -2.1107e-02],\n",
            "        [ 3.2864e-02, -3.2864e-02,  4.0771e-02],\n",
            "        [ 5.3195e-02, -2.1415e-02,  2.1415e-02],\n",
            "        [ 2.4859e-02, -2.4859e-02,  3.3771e-02],\n",
            "        [ 5.8494e-02, -5.5080e-02,  5.5080e-02],\n",
            "        [ 4.5949e-02, -3.4700e-02,  3.4700e-02],\n",
            "        [ 7.6679e-02, -7.6679e-02,  9.2099e-02],\n",
            "        [ 5.8400e-02, -4.0973e-02,  4.0973e-02],\n",
            "        [ 3.0261e-02, -3.0261e-02,  5.2944e-02],\n",
            "        [ 1.0414e-01,  1.1565e-02, -1.1565e-02],\n",
            "        [ 4.0107e-02, -4.0107e-02,  4.1519e-02],\n",
            "        [ 9.1536e-02, -4.3764e-02,  4.3764e-02],\n",
            "        [ 2.0039e-02, -2.0039e-02,  7.8679e-01],\n",
            "        [ 7.0842e-02, -1.5942e-02,  1.5942e-02],\n",
            "        [ 1.9808e-01, -8.0772e-02,  8.0772e-02],\n",
            "        [-3.0744e-02,  9.9367e-02,  3.0745e-02],\n",
            "        [ 3.5436e-02, -3.5436e-02,  5.6201e-02],\n",
            "        [-1.0183e-01,  1.2654e-01,  1.0183e-01],\n",
            "        [ 1.1832e-01, -2.6613e-05,  2.6613e-05],\n",
            "        [ 4.1867e-02, -3.9998e-02,  3.9998e-02],\n",
            "        [ 4.6545e-02, -4.6545e-02,  1.1585e-01],\n",
            "        [-1.4274e-02,  1.4274e-02,  7.4738e-02],\n",
            "        [ 3.5009e-02,  1.0103e-01, -3.5009e-02],\n",
            "        [ 2.8728e-02, -2.8728e-02,  9.6482e-02],\n",
            "        [ 3.3654e-02, -3.3654e-02,  5.5018e-02],\n",
            "        [ 4.8823e-02, -3.1050e-02,  3.1050e-02],\n",
            "        [ 4.4055e-02, -3.5881e-02,  3.5881e-02]], grad_fn=<SubBackward0>)\n"
          ],
          "name": "stdout"
        },
        {
          "output_type": "display_data",
          "data": {
            "text/html": [
              "<span style=\"background: rgb(242.24365234375, 224.18678283691406, 255.0)\">засмеялся</span> <span style=\"background: rgb(248.0917205810547, 226.1055908203125, 254.99996948242188)\">проиграл</span> <span style=\"background: rgb(255.0, 236.68301391601562, 253.1239013671875)\">тред</span> <span style=\"background: rgb(170.44757080078125, 169.95591735839844, 255.0)\">не</span> <span style=\"background: rgb(255.0, 234.38246154785156, 248.40054321289062)\">нашел</span> <span style=\"background: rgb(255.0, 238.3399658203125, 239.59080505371094)\">создал</span>"
            ],
            "text/plain": [
              "<IPython.core.display.HTML object>"
            ]
          },
          "metadata": {
            "tags": []
          }
        },
        {
          "output_type": "stream",
          "text": [
            "tensor([[ 0.0546, -0.0221,  0.0221],\n",
            "        [ 0.0447, -0.0131,  0.0131],\n",
            "        [ 0.0909, -0.0214,  0.0214],\n",
            "        [ 0.0511, -0.0511,  0.0687],\n",
            "        [ 0.0284, -0.0284,  0.0372],\n",
            "        [ 0.0419, -0.0419,  0.0642],\n",
            "        [ 0.0612, -0.0612,  0.0891],\n",
            "        [ 0.0224, -0.0224,  0.7826],\n",
            "        [ 0.0670, -0.0670,  0.0773],\n",
            "        [ 0.1245, -0.1245,  0.1627],\n",
            "        [ 0.0557, -0.0557,  0.0564],\n",
            "        [ 0.0415, -0.0415,  0.0434],\n",
            "        [ 0.0951, -0.0951,  0.1095],\n",
            "        [ 0.0302, -0.0302,  0.0765],\n",
            "        [ 0.0481, -0.0481,  0.0793],\n",
            "        [ 0.0488, -0.0391,  0.0391],\n",
            "        [-0.0264,  0.0264,  0.0995],\n",
            "        [ 0.0386, -0.0386,  0.1832]], grad_fn=<SubBackward0>)\n"
          ],
          "name": "stdout"
        },
        {
          "output_type": "display_data",
          "data": {
            "text/html": [
              "<span style=\"background: rgb(255.0, 235.43447875976562, 246.7302703857422)\">хахаха</span> <span style=\"background: rgb(254.99996948242188, 240.2633514404297, 246.92477416992188)\">ну</span> <span style=\"background: rgb(254.99998474121094, 226.36204528808594, 237.2698516845703)\">ты</span> <span style=\"background: rgb(250.50677490234375, 224.46096801757812, 254.99998474121094)\">даешь</span>"
            ],
            "text/plain": [
              "<IPython.core.display.HTML object>"
            ]
          },
          "metadata": {
            "tags": []
          }
        },
        {
          "output_type": "stream",
          "text": [
            "tensor([[ 1.7580e-01, -1.1286e-01,  1.1286e-01],\n",
            "        [ 3.5343e-02, -3.0343e-02,  3.0343e-02],\n",
            "        [ 2.4906e-02, -2.1605e-02,  2.1605e-02],\n",
            "        [ 9.6736e-02, -9.6736e-02,  1.8984e-01],\n",
            "        [ 2.9441e-02, -2.9441e-02,  1.0267e-01],\n",
            "        [-4.8163e-03,  4.8162e-03,  3.9186e-02],\n",
            "        [ 5.5971e-02, -2.8361e-02,  2.8361e-02],\n",
            "        [ 7.7671e-03, -7.7671e-03,  1.0626e-01],\n",
            "        [ 4.1337e-02, -4.1337e-02,  1.7805e-01],\n",
            "        [ 1.0912e-01, -1.0912e-01,  1.2060e-01],\n",
            "        [ 5.7418e-02, -1.9356e-02,  1.9356e-02],\n",
            "        [-8.4821e-03,  8.4821e-03,  4.4796e-02],\n",
            "        [-2.3485e-03,  2.3485e-03,  8.4669e-02],\n",
            "        [ 1.3048e-01, -1.3048e-01,  1.5161e-01],\n",
            "        [ 1.2689e-01, -1.2689e-01,  1.6010e-01],\n",
            "        [ 2.5060e-02,  1.0413e-01, -2.5060e-02],\n",
            "        [ 2.3252e-02, -2.3252e-02,  7.0995e-02],\n",
            "        [-1.5439e-02,  2.0997e-02,  1.5439e-02],\n",
            "        [ 4.6752e-02, -4.6752e-02,  8.0241e-02],\n",
            "        [ 3.6653e-02, -3.6653e-02,  1.8696e-01],\n",
            "        [ 4.5148e-02, -3.9105e-02,  3.9105e-02],\n",
            "        [ 1.6637e-02, -1.6637e-02,  8.3937e-02],\n",
            "        [-3.3713e-02,  9.6499e-02,  3.3713e-02],\n",
            "        [ 6.2819e-02, -3.6998e-02,  3.6998e-02],\n",
            "        [ 8.4249e-02,  3.0310e-02, -3.0310e-02],\n",
            "        [ 3.7994e-02, -3.7994e-02,  5.2379e-02],\n",
            "        [ 3.3265e-02, -3.3265e-02,  9.9494e-02],\n",
            "        [ 4.8933e-02, -4.5333e-02,  4.5333e-02],\n",
            "        [ 2.4889e-01, -8.3824e-02,  8.3824e-02],\n",
            "        [ 1.6775e-02, -1.6775e-02,  7.8112e-01],\n",
            "        [ 3.1701e-02, -3.1701e-02,  9.9081e-02],\n",
            "        [ 4.5179e-02, -4.5179e-02,  1.7455e-01],\n",
            "        [ 5.4287e-02,  4.8969e-03, -4.8969e-03],\n",
            "        [-2.5020e-02,  7.2771e-02,  2.5020e-02],\n",
            "        [ 6.6158e-02, -3.5323e-02,  3.5323e-02],\n",
            "        [ 1.3334e-01, -1.0986e-01,  1.0986e-01],\n",
            "        [ 2.5548e-02, -2.5548e-02,  8.5018e-02],\n",
            "        [ 4.5615e-02, -2.6941e-02,  2.6941e-02],\n",
            "        [ 2.7061e-02, -2.7061e-02,  7.4810e-02],\n",
            "        [ 1.1010e-01, -1.1010e-01,  1.1328e-01],\n",
            "        [ 3.2305e-02, -3.0960e-02,  3.0960e-02],\n",
            "        [ 6.0866e-02, -3.5055e-02,  3.5055e-02],\n",
            "        [ 2.2944e-02, -2.2944e-02,  3.5054e-02],\n",
            "        [-3.1992e-03,  3.1992e-03,  1.0132e-01],\n",
            "        [ 5.8697e-03,  7.2281e-02, -5.8698e-03],\n",
            "        [ 1.2186e-01, -1.1178e-01,  1.1178e-01],\n",
            "        [-2.7294e-02,  3.0269e-02,  2.7294e-02],\n",
            "        [ 3.8780e-02, -2.8194e-02,  2.8194e-02],\n",
            "        [ 1.7710e-01, -1.1150e-01,  1.1150e-01],\n",
            "        [ 6.0751e-02, -2.3802e-02,  2.3802e-02],\n",
            "        [ 2.5212e-02, -2.3742e-02,  2.3742e-02],\n",
            "        [ 3.6545e-02, -3.5292e-02,  3.5292e-02],\n",
            "        [ 6.1780e-05, -6.1825e-05,  3.2203e-01],\n",
            "        [ 5.0704e-02, -1.4480e-02,  1.4480e-02],\n",
            "        [ 7.4105e-03, -7.4105e-03,  7.8160e-01],\n",
            "        [ 3.1376e-02, -2.0083e-02,  2.0083e-02],\n",
            "        [ 5.5661e-02,  1.8172e-02, -1.8172e-02],\n",
            "        [-1.6038e-02,  1.6038e-02,  2.0750e-01],\n",
            "        [ 1.4354e-01, -7.6888e-02,  7.6888e-02],\n",
            "        [ 2.0723e-02, -6.6454e-03,  6.6455e-03],\n",
            "        [ 4.5811e-02, -4.5811e-02,  6.7888e-02],\n",
            "        [ 1.9077e-02, -1.9077e-02,  3.3266e-02],\n",
            "        [-2.5753e-02,  2.5753e-02,  2.0669e-01],\n",
            "        [ 4.3534e-02, -1.5799e-02,  1.5799e-02],\n",
            "        [ 3.8113e-02, -3.8113e-02,  7.1820e-02],\n",
            "        [ 5.7581e-02, -1.7192e-02,  1.7192e-02],\n",
            "        [ 6.8474e-02, -6.8474e-02,  1.6815e-01],\n",
            "        [ 1.3771e-02, -1.3771e-02,  2.4180e-02],\n",
            "        [ 5.2500e-02, -5.2500e-02,  8.0405e-02],\n",
            "        [ 1.5890e-02, -1.5890e-02,  1.9407e-02],\n",
            "        [ 5.7861e-02, -5.7861e-02,  6.1070e-02],\n",
            "        [ 3.7939e-02, -3.7940e-02,  1.4507e-01],\n",
            "        [ 4.4071e-02, -4.4071e-02,  7.5399e-02],\n",
            "        [ 3.2911e-02, -3.2911e-02,  5.8623e-02],\n",
            "        [ 4.2857e-02, -4.2857e-02,  1.8085e-01],\n",
            "        [ 3.6971e-02, -3.6971e-02,  9.9003e-02],\n",
            "        [ 2.5195e-02, -2.5195e-02,  7.8001e-01],\n",
            "        [ 3.7663e-01, -4.4734e-02,  4.4734e-02],\n",
            "        [ 3.7996e-02, -3.7488e-02,  3.7488e-02],\n",
            "        [ 1.1461e-01, -3.4343e-02,  3.4343e-02],\n",
            "        [ 1.9944e-01, -8.0915e-02,  8.0915e-02],\n",
            "        [ 5.6608e-02, -5.6608e-02,  9.2985e-02],\n",
            "        [ 6.2369e-02, -6.2369e-02,  7.9306e-02],\n",
            "        [ 5.7510e-02, -3.2578e-02,  3.2578e-02],\n",
            "        [ 3.7890e-02, -3.7890e-02,  4.8569e-02],\n",
            "        [ 3.5531e-02, -3.5531e-02,  4.3420e-02],\n",
            "        [ 1.6740e-01, -1.1326e-01,  1.1326e-01],\n",
            "        [ 5.1019e-02, -2.9944e-02,  2.9944e-02]], grad_fn=<SubBackward0>)\n"
          ],
          "name": "stdout"
        },
        {
          "output_type": "display_data",
          "data": {
            "text/html": [
              "<span style=\"background: rgb(255.0, 181.39175415039062, 238.9502716064453)\">сап</span> <span style=\"background: rgb(254.99998474121094, 238.25027465820312, 253.72500610351562)\">двач</span> <span style=\"background: rgb(255.00003051757812, 243.1396484375, 254.15829467773438)\">есть</span> <span style=\"background: rgb(231.2577667236328, 181.9221954345703, 255.0)\">одна</span> <span style=\"background: rgb(236.3263397216797, 221.31130981445312, 255.0)\">хэштег</span> <span style=\"background: rgb(243.77935791015625, 246.23562622070312, 255.0)\">тян</span> <span style=\"background: rgb(255.0, 233.49537658691406, 247.95925903320312)\">она</span> <span style=\"background: rgb(229.88343811035156, 225.9221954345703, 255.0)\">как</span> <span style=\"background: rgb(220.1387481689453, 199.05673217773438, 255.00003051757812)\">будто</span> <span style=\"background: rgb(252.072265625, 196.42306518554688, 255.0)\">со</span> <span style=\"background: rgb(255.00003051757812, 235.4225616455078, 245.29428100585938)\">вниманием</span> <span style=\"background: rgb(241.41400146484375, 245.7398681640625, 255.0)\">слушала</span> <span style=\"background: rgb(232.8105010986328, 234.00819396972656, 255.0)\">рассказ</span> <span style=\"background: rgb(249.611083984375, 183.06581115722656, 255.0)\">князя</span> <span style=\"background: rgb(246.53131103515625, 181.8167724609375, 255.0)\">василья</span>"
            ],
            "text/plain": [
              "<IPython.core.display.HTML object>"
            ]
          },
          "metadata": {
            "tags": []
          }
        },
        {
          "output_type": "stream",
          "text": [
            "tensor([[-2.7904e-04,  2.7901e-04,  4.4564e-02],\n",
            "        [ 2.5691e-02,  2.0719e-02, -2.0719e-02],\n",
            "        [-2.1051e-03,  2.1051e-03,  6.1596e-02],\n",
            "        [ 1.0807e-01, -4.2375e-02,  4.2375e-02],\n",
            "        [ 4.2615e-02, -4.2615e-02,  6.7101e-02],\n",
            "        [ 5.0871e-02, -2.9933e-02,  2.9933e-02],\n",
            "        [ 1.1523e-01, -1.1295e-01,  1.1295e-01],\n",
            "        [-1.9526e-02,  6.0941e-02,  1.9526e-02],\n",
            "        [ 5.0677e-02, -4.6681e-02,  4.6681e-02],\n",
            "        [ 2.7219e-02, -2.7219e-02,  1.4128e-01],\n",
            "        [ 4.1224e-02, -1.1176e-03,  1.1176e-03],\n",
            "        [ 1.2482e-02, -1.2482e-02,  7.7540e-01],\n",
            "        [ 6.7582e-02, -5.3627e-03,  5.3627e-03],\n",
            "        [ 4.4156e-02, -4.4156e-02,  1.7532e-01],\n",
            "        [ 1.0020e-01, -1.0020e-01,  1.0889e-01],\n",
            "        [ 2.1757e-02, -5.9367e-03,  5.9367e-03],\n",
            "        [ 3.8698e-02, -3.8698e-02,  4.4819e-02],\n",
            "        [ 5.5988e-02, -4.2740e-02,  4.2740e-02],\n",
            "        [ 5.2077e-02,  1.3691e-02, -1.3691e-02],\n",
            "        [ 2.5762e-02, -2.3259e-02,  2.3259e-02],\n",
            "        [ 2.2087e-02, -2.2087e-02,  7.7608e-01],\n",
            "        [ 4.8678e-02, -4.8678e-02,  7.4762e-02],\n",
            "        [ 3.4463e-02, -2.7489e-02,  2.7489e-02],\n",
            "        [ 9.3282e-02, -4.4639e-02,  4.4639e-02],\n",
            "        [ 1.1332e-01, -1.1136e-01,  1.1136e-01],\n",
            "        [ 4.1848e-02, -4.1848e-02,  5.0005e-02],\n",
            "        [ 7.1698e-02, -7.1698e-02,  1.5733e-01],\n",
            "        [-1.0318e-02,  1.0318e-02,  6.1486e-02],\n",
            "        [ 2.9000e-02, -2.9000e-02,  7.4436e-02],\n",
            "        [-2.6469e-02,  2.6469e-02,  5.4286e-02],\n",
            "        [ 7.1543e-02, -7.1543e-02,  1.5865e-01],\n",
            "        [ 7.3795e-02, -6.0308e-02,  6.0308e-02],\n",
            "        [ 4.6103e-02, -4.6103e-02,  6.6505e-02],\n",
            "        [ 2.6556e-02, -2.6556e-02,  5.1430e-02],\n",
            "        [-6.9702e-02,  6.9702e-02,  1.4710e-01],\n",
            "        [ 4.0176e-02, -3.2938e-02,  3.2938e-02],\n",
            "        [ 1.3652e-01, -7.4601e-02,  7.4601e-02],\n",
            "        [ 1.8329e-02, -1.8329e-02,  4.6495e-02],\n",
            "        [ 5.1384e-02, -2.8849e-02,  2.8849e-02],\n",
            "        [ 7.0500e-02, -7.0500e-02,  1.5870e-01],\n",
            "        [ 2.2459e-02, -2.2459e-02,  6.4063e-02],\n",
            "        [ 2.7024e-02, -2.7024e-02,  7.1931e-02],\n",
            "        [ 9.5766e-02,  1.7281e-02, -1.7281e-02],\n",
            "        [ 2.6579e-02, -2.6579e-02,  4.5180e-02],\n",
            "        [ 1.2917e-01, -1.2917e-01,  1.5781e-01],\n",
            "        [ 5.9627e-02, -5.9627e-02,  8.8385e-02],\n",
            "        [ 1.5438e-01, -7.3545e-02,  7.3545e-02],\n",
            "        [-6.4269e-03,  6.4269e-03,  6.6489e-02],\n",
            "        [ 1.5549e-02,  6.3376e-02, -1.5548e-02],\n",
            "        [-1.9183e-02,  2.0758e-02,  1.9183e-02],\n",
            "        [ 1.4257e-01, -1.0634e-01,  1.0634e-01],\n",
            "        [ 5.8488e-02, -4.1424e-02,  4.1424e-02],\n",
            "        [ 3.5951e-02,  1.1835e-02, -1.1835e-02],\n",
            "        [-2.3906e-02,  3.0378e-02,  2.3906e-02],\n",
            "        [ 1.8694e-01, -8.0878e-02,  8.0878e-02],\n",
            "        [-1.3793e-03,  1.3793e-03,  6.9733e-02],\n",
            "        [-2.4065e-03,  5.6272e-02,  2.4065e-03],\n",
            "        [ 3.9897e-02, -3.0460e-02,  3.0460e-02],\n",
            "        [ 1.6814e-01, -1.1587e-01,  1.1587e-01],\n",
            "        [ 4.4776e-02, -4.4776e-02,  6.3963e-02],\n",
            "        [ 1.0935e-01, -1.0935e-01,  1.2110e-01],\n",
            "        [ 7.1621e-02, -3.4645e-02,  3.4644e-02],\n",
            "        [ 5.9730e-02, -5.9730e-02,  6.8035e-02],\n",
            "        [ 6.8829e-02, -3.9947e-02,  3.9947e-02],\n",
            "        [ 1.1270e-01, -1.1197e-01,  1.1197e-01],\n",
            "        [ 2.9841e-02, -2.9841e-02,  4.2675e-02],\n",
            "        [-1.5291e-02,  1.5916e-02,  1.5291e-02],\n",
            "        [ 2.9041e-02, -1.2695e-02,  1.2695e-02],\n",
            "        [ 7.4562e-02, -7.4562e-02,  1.0121e-01],\n",
            "        [ 4.5370e-02, -4.5370e-02,  7.0350e-02],\n",
            "        [ 5.5601e-02, -5.5601e-02,  7.1181e-02],\n",
            "        [ 7.9599e-02, -3.3089e-02,  3.3089e-02],\n",
            "        [ 9.9809e-02, -9.9809e-02,  1.8978e-01],\n",
            "        [ 3.4633e-02, -3.4633e-02,  3.8084e-02],\n",
            "        [ 5.1443e-02, -5.1443e-02,  6.3988e-02],\n",
            "        [ 2.6469e-02, -2.6469e-02,  1.0262e-01],\n",
            "        [ 5.0708e-02, -4.3730e-02,  4.3730e-02],\n",
            "        [ 7.6836e-04,  5.3940e-02, -7.6839e-04],\n",
            "        [ 2.7030e-02, -2.7030e-02,  4.8401e-02],\n",
            "        [ 1.5392e-02,  8.3564e-02, -1.5392e-02],\n",
            "        [ 4.7659e-02, -1.7420e-02,  1.7420e-02],\n",
            "        [ 8.0962e-02,  1.6314e-02, -1.6314e-02],\n",
            "        [ 4.3500e-02, -4.3500e-02,  1.7353e-01],\n",
            "        [ 2.4578e-02, -2.4578e-02,  8.1400e-02],\n",
            "        [ 1.1038e-01, -1.1038e-01,  1.1728e-01],\n",
            "        [-2.2885e-02,  2.2885e-02,  2.4515e-01],\n",
            "        [ 5.1323e-02, -9.9688e-03,  9.9688e-03],\n",
            "        [ 9.6984e-02,  5.6681e-03, -5.6682e-03],\n",
            "        [ 5.2969e-02, -3.1099e-02,  3.1099e-02],\n",
            "        [ 1.5194e-01, -1.0467e-01,  1.0467e-01],\n",
            "        [ 3.9646e-02, -3.9646e-02,  1.0711e-01],\n",
            "        [ 3.5189e-02,  9.1138e-02, -3.5189e-02],\n",
            "        [ 7.2936e-02, -3.5155e-02,  3.5155e-02],\n",
            "        [ 1.8761e-02, -1.8761e-02,  7.7901e-01],\n",
            "        [ 4.6501e-02, -4.6501e-02,  7.9304e-02],\n",
            "        [-3.0324e-02,  3.0324e-02,  3.1762e-02],\n",
            "        [ 8.5456e-02,  5.1707e-05, -5.1677e-05],\n",
            "        [ 2.0935e-01, -7.7970e-02,  7.7970e-02],\n",
            "        [ 4.5279e-02, -4.5279e-02,  6.7303e-02],\n",
            "        [ 4.0601e-02, -4.0601e-02,  4.2292e-02],\n",
            "        [ 3.2263e-02, -3.2263e-02,  4.8916e-02],\n",
            "        [ 4.5188e-02, -4.5188e-02,  7.2005e-02],\n",
            "        [ 3.7344e-02, -3.7344e-02,  3.9083e-02],\n",
            "        [ 4.2257e-02, -4.2257e-02,  1.7369e-01],\n",
            "        [ 1.2584e-01, -1.6180e-02,  1.6180e-02],\n",
            "        [ 7.8346e-02, -3.8559e-02,  3.8559e-02]], grad_fn=<SubBackward0>)\n"
          ],
          "name": "stdout"
        },
        {
          "output_type": "display_data",
          "data": {
            "text/html": [
              "<span style=\"background: rgb(243.56504821777344, 243.70736694335938, 255.0)\">хотела</span> <span style=\"background: rgb(255.0, 253.73223876953125, 243.16558837890625)\">наконец</span> <span style=\"background: rgb(238.7562713623047, 239.8298797607422, 255.0)\">отдохнуть</span> <span style=\"background: rgb(255.0, 216.63539123535156, 238.24661254882812)\">и</span> <span style=\"background: rgb(248.75611877441406, 227.02236938476562, 254.99998474121094)\">тут</span> <span style=\"background: rgb(255.0, 234.39495849609375, 249.6607666015625)\">слышу</span> <span style=\"background: rgb(255.0, 196.8154296875, 254.4193115234375)\">за</span> <span style=\"background: rgb(234.48097229003906, 255.00003051757812, 244.43927001953125)\">дверью</span> <span style=\"background: rgb(254.99998474121094, 230.1736297607422, 253.98094177246094)\">топ</span> <span style=\"background: rgb(225.91468811035156, 212.03297424316406, 254.99998474121094)\">топ</span> <span style=\"background: rgb(255.0, 244.20298767089844, 244.77294921875)\">топ</span> <span style=\"background: rgb(60.45542526245117, 54.08967208862305, 254.99998474121094)\">и</span> <span style=\"background: rgb(255.0, 236.3990936279297, 239.13406372070312)\">тут</span> <span style=\"background: rgb(221.55355834960938, 199.033935546875, 254.99998474121094)\">она</span> <span style=\"background: rgb(252.78353881835938, 201.68125915527344, 254.99998474121094)\">уже</span> <span style=\"background: rgb(254.99998474121094, 247.93814086914062, 250.96583557128906)\">на</span> <span style=\"background: rgb(253.4390411376953, 233.7032928466797, 254.99998474121094)\">пороге</span> <span style=\"background: rgb(254.99998474121094, 229.8243865966797, 251.6219940185547)\">в</span> <span style=\"background: rgb(255.00003051757812, 245.21151733398438, 238.22915649414062)\">моей</span> <span style=\"background: rgb(254.99998474121094, 242.49960327148438, 254.36172485351562)\">комнате</span> <span style=\"background: rgb(62.73165512084961, 51.46731185913086, 255.0)\">люблю</span> <span style=\"background: rgb(248.3485565185547, 223.52273559570312, 255.00003051757812)\">ее</span>"
            ],
            "text/plain": [
              "<IPython.core.display.HTML object>"
            ]
          },
          "metadata": {
            "tags": []
          }
        },
        {
          "output_type": "stream",
          "text": [
            "tensor([[ 1.3816e-02, -1.3816e-02,  7.1274e-02],\n",
            "        [ 5.9078e-02, -3.8314e-02,  3.8314e-02],\n",
            "        [ 3.6242e-02, -3.6242e-02,  4.1810e-02],\n",
            "        [ 2.8029e-02, -2.8029e-02,  1.0843e-01],\n",
            "        [ 2.0622e-02, -2.0622e-02,  4.2087e-02],\n",
            "        [ 1.5640e-02,  8.9329e-02, -1.5640e-02],\n",
            "        [ 7.9531e-02,  2.2915e-02, -2.2915e-02],\n",
            "        [ 2.1853e-02, -1.7523e-02,  1.7523e-02],\n",
            "        [ 4.1889e-02, -3.1244e-02,  3.1244e-02],\n",
            "        [ 5.1146e-02, -2.1800e-02,  2.1800e-02],\n",
            "        [ 8.8161e-02, -1.2308e-02,  1.2308e-02],\n",
            "        [ 4.2137e-02, -3.0462e-02,  3.0462e-02],\n",
            "        [ 1.4491e-01, -7.3276e-02,  7.3276e-02],\n",
            "        [ 1.6183e-02, -1.6183e-02,  7.7596e-01],\n",
            "        [ 2.6319e-02,  2.1171e-02, -2.1171e-02],\n",
            "        [ 5.2036e-02, -5.2036e-02,  1.0690e-01],\n",
            "        [ 8.9241e-03,  1.5503e-02, -8.9241e-03],\n",
            "        [ 1.5959e-02, -1.5959e-02,  1.2327e-01],\n",
            "        [ 5.4879e-02, -3.6037e-02,  3.6037e-02],\n",
            "        [ 3.2589e-02, -3.2589e-02,  9.1322e-02],\n",
            "        [ 4.7233e-02, -4.7233e-02,  5.8828e-02],\n",
            "        [ 3.7886e-02, -3.7886e-02,  6.5310e-02],\n",
            "        [ 1.0290e-01, -1.0290e-01,  1.8127e-01],\n",
            "        [ 3.8996e-02, -3.8996e-02,  1.4113e-01],\n",
            "        [ 1.6309e-02, -1.6309e-02,  7.7527e-01],\n",
            "        [ 3.6821e-01, -4.2095e-02,  4.2095e-02],\n",
            "        [ 3.4859e-02, -3.4859e-02,  6.0421e-02],\n",
            "        [ 1.2832e-01, -1.2832e-01,  1.5933e-01],\n",
            "        [ 2.0134e-01, -8.1413e-02,  8.1413e-02],\n",
            "        [ 6.3564e-02, -3.7984e-02,  3.7984e-02],\n",
            "        [-8.6389e-03,  8.6390e-03,  1.2745e-02],\n",
            "        [ 2.6479e-02, -2.6479e-02,  5.1532e-02],\n",
            "        [ 2.3611e-02, -2.3611e-02,  2.7421e-02],\n",
            "        [ 9.4909e-02, -8.4259e-03,  8.4258e-03],\n",
            "        [ 1.4545e-01, -8.2819e-02,  8.2819e-02],\n",
            "        [ 4.3830e-02, -3.7901e-02,  3.7901e-02],\n",
            "        [ 6.1878e-02, -2.0148e-02,  2.0148e-02],\n",
            "        [ 3.4655e-02,  9.4131e-02, -3.4655e-02],\n",
            "        [-1.6891e-02,  1.6891e-02,  4.8131e-02],\n",
            "        [ 2.7664e-02, -2.7664e-02,  3.3021e-02],\n",
            "        [ 1.9678e-02,  1.0348e-01, -1.9678e-02],\n",
            "        [ 1.7253e-02, -1.7253e-02,  4.5371e-02],\n",
            "        [ 3.5743e-02, -2.9076e-02,  2.9076e-02],\n",
            "        [ 2.5408e-02, -2.5408e-02,  7.8518e-01],\n",
            "        [ 4.0002e-02, -4.0002e-02,  1.7664e-01],\n",
            "        [ 6.6395e-03, -6.6395e-03,  7.6454e-02],\n",
            "        [ 3.9434e-02, -3.9434e-02,  4.4539e-02],\n",
            "        [ 3.0240e-02, -3.0240e-02,  1.9624e-01],\n",
            "        [ 2.2969e-02,  2.0808e-02, -2.0808e-02],\n",
            "        [ 2.6298e-02, -2.6298e-02,  7.7633e-01],\n",
            "        [ 5.5455e-02, -5.0928e-02,  5.0928e-02],\n",
            "        [ 1.3838e-01, -1.0701e-01,  1.0701e-01],\n",
            "        [-2.5012e-02,  2.5012e-02,  5.3958e-02],\n",
            "        [ 2.9821e-02,  1.4780e-02, -1.4780e-02],\n",
            "        [ 2.9026e-02, -2.9026e-02,  7.6691e-02],\n",
            "        [ 7.4895e-02, -2.3618e-02,  2.3618e-02],\n",
            "        [ 2.2028e-02, -2.2028e-02,  2.9577e-02],\n",
            "        [-9.2415e-02,  9.2415e-02,  1.6051e-01],\n",
            "        [ 1.7777e-01, -3.8205e-03,  3.8204e-03],\n",
            "        [ 8.6862e-03, -8.6863e-03,  7.7015e-01],\n",
            "        [ 1.1161e-02, -1.1161e-02,  7.7862e-01],\n",
            "        [ 9.1245e-03,  4.2309e-02, -9.1245e-03],\n",
            "        [ 1.4444e-01, -7.2550e-02,  7.2550e-02],\n",
            "        [ 8.0257e-02, -1.9501e-02,  1.9501e-02],\n",
            "        [-5.0452e-04,  5.0452e-04,  2.0122e-02],\n",
            "        [ 3.7074e-02, -3.5675e-02,  3.5676e-02],\n",
            "        [ 5.4612e-02, -5.4612e-02,  7.8205e-02],\n",
            "        [ 4.4626e-02, -3.1245e-02,  3.1245e-02],\n",
            "        [ 6.3671e-02, -8.5004e-03,  8.5004e-03],\n",
            "        [ 2.3622e-02, -2.3622e-02,  3.6425e-02],\n",
            "        [ 4.6805e-02, -3.3720e-02,  3.3720e-02],\n",
            "        [ 4.8443e-02, -3.4650e-02,  3.4650e-02],\n",
            "        [ 6.3536e-02, -6.0942e-02,  6.0942e-02],\n",
            "        [ 5.8803e-02,  1.5534e-02, -1.5534e-02],\n",
            "        [ 5.8681e-02, -5.8681e-02,  8.6909e-02],\n",
            "        [ 1.5309e-02, -1.5309e-02,  3.7631e-02],\n",
            "        [ 1.7901e-02,  7.3795e-02, -1.7901e-02],\n",
            "        [ 4.2586e-02, -3.3931e-02,  3.3931e-02],\n",
            "        [ 7.0886e-02, -1.6521e-02,  1.6521e-02],\n",
            "        [ 6.0037e-02, -2.0919e-02,  2.0919e-02],\n",
            "        [ 5.4431e-02, -1.8646e-02,  1.8646e-02],\n",
            "        [ 4.0379e-02,  9.1718e-03, -9.1718e-03],\n",
            "        [ 5.2165e-02, -3.6649e-02,  3.6649e-02],\n",
            "        [ 1.4339e-01, -1.0713e-01,  1.0713e-01],\n",
            "        [ 1.5615e-02, -1.5615e-02,  9.5450e-02],\n",
            "        [ 5.3796e-02, -2.6798e-02,  2.6798e-02],\n",
            "        [ 2.9370e-02,  9.4944e-02, -2.9370e-02],\n",
            "        [ 9.6782e-02, -4.5533e-02,  4.5533e-02],\n",
            "        [ 4.9428e-02, -3.7328e-02,  3.7328e-02],\n",
            "        [ 7.9541e-02, -3.7313e-02,  3.7313e-02],\n",
            "        [ 3.7522e-02, -2.9913e-02,  2.9913e-02],\n",
            "        [ 3.8649e-02, -3.8649e-02,  6.6559e-02],\n",
            "        [ 1.5651e-01, -1.1703e-01,  1.1703e-01],\n",
            "        [ 3.0560e-02, -3.0560e-02,  3.2078e-02],\n",
            "        [ 5.1748e-02, -5.1748e-02,  8.5270e-02],\n",
            "        [-5.8605e-02,  6.3114e-02,  5.8605e-02],\n",
            "        [ 4.0631e-02, -4.0631e-02,  7.1795e-02],\n",
            "        [ 3.6295e-02, -3.6295e-02,  4.4204e-02],\n",
            "        [ 9.7530e-02, -4.6605e-02,  4.6605e-02],\n",
            "        [ 4.3722e-02, -3.3776e-02,  3.3776e-02],\n",
            "        [ 4.9920e-02, -4.9920e-02,  7.1667e-02],\n",
            "        [ 7.7357e-02,  1.8837e-02, -1.8837e-02],\n",
            "        [ 1.4047e-01, -1.0760e-01,  1.0760e-01],\n",
            "        [ 4.7379e-03, -4.7380e-03,  6.3850e-02],\n",
            "        [ 4.2852e-02, -4.2852e-02,  7.5642e-02],\n",
            "        [ 2.9558e-02, -2.2229e-02,  2.2229e-02],\n",
            "        [ 1.4489e-02, -1.4489e-02,  1.6565e-01],\n",
            "        [ 3.6704e-02, -3.6704e-02,  1.3581e-01],\n",
            "        [ 3.6595e-02, -3.6595e-02,  4.7808e-02],\n",
            "        [ 3.9258e-02,  2.2517e-02, -2.2517e-02],\n",
            "        [ 1.2857e-01, -1.2857e-01,  1.5850e-01],\n",
            "        [ 5.1471e-02, -5.1203e-02,  5.1203e-02],\n",
            "        [ 6.6880e-02, -1.5836e-02,  1.5836e-02],\n",
            "        [ 4.2939e-02, -4.2939e-02,  7.3404e-02],\n",
            "        [ 5.3032e-02, -4.7996e-03,  4.7996e-03],\n",
            "        [ 7.5556e-03, -7.5556e-03,  1.1505e-01],\n",
            "        [ 4.0875e-02, -1.7321e-02,  1.7321e-02],\n",
            "        [ 1.5216e-01, -7.3826e-02,  7.3826e-02],\n",
            "        [ 2.9620e-01, -4.4084e-02,  4.4084e-02],\n",
            "        [ 1.4710e-01, -1.0785e-01,  1.0785e-01],\n",
            "        [ 4.8803e-02, -4.8803e-02,  1.0185e-01],\n",
            "        [ 2.3066e-02, -2.3066e-02,  3.3486e-02],\n",
            "        [-8.7114e-03,  8.7115e-03,  2.0619e-01],\n",
            "        [ 5.0222e-02, -1.0915e-02,  1.0915e-02],\n",
            "        [ 3.6869e-02, -3.6869e-02,  6.3312e-02],\n",
            "        [ 4.9065e-02, -4.9065e-02,  1.0899e-01],\n",
            "        [ 3.7565e-02, -2.7066e-02,  2.7066e-02],\n",
            "        [-2.3057e-02,  4.5190e-02,  2.3057e-02],\n",
            "        [ 5.2653e-02, -9.5687e-03,  9.5686e-03],\n",
            "        [ 6.8235e-02, -6.8235e-02,  1.6370e-01],\n",
            "        [ 4.3301e-02, -3.2181e-02,  3.2181e-02],\n",
            "        [ 2.5549e-02, -2.5549e-02,  4.1654e-02],\n",
            "        [ 4.3335e-02, -4.3335e-02,  8.8962e-02],\n",
            "        [ 5.3559e-02, -5.3559e-02,  5.7261e-02],\n",
            "        [ 1.7694e-02, -1.7694e-02,  7.7448e-01],\n",
            "        [ 2.7303e-02,  1.1768e-01, -2.7303e-02],\n",
            "        [ 8.0870e-02, -8.0870e-02,  8.8706e-02],\n",
            "        [ 3.5357e-02, -3.5357e-02,  4.9148e-02],\n",
            "        [ 6.7058e-02, -3.7527e-02,  3.7527e-02],\n",
            "        [ 5.0478e-02, -5.0478e-02,  6.1299e-02],\n",
            "        [ 6.3214e-02,  1.6680e-03, -1.6680e-03],\n",
            "        [ 5.4297e-02, -5.4297e-02,  7.4076e-02],\n",
            "        [ 1.0976e-01, -1.0976e-01,  1.1877e-01],\n",
            "        [ 1.8669e-02, -1.8669e-02,  2.2110e-02],\n",
            "        [ 3.5060e-02,  1.0854e-01, -3.5060e-02],\n",
            "        [ 2.5877e-02, -2.5878e-02,  4.0540e-02],\n",
            "        [ 8.6135e-03, -8.6135e-03,  9.9628e-02],\n",
            "        [ 1.5556e-02, -1.5556e-02,  3.0682e-02],\n",
            "        [ 5.7897e-02, -5.6159e-02,  5.6159e-02],\n",
            "        [-2.2279e-02,  2.2279e-02,  5.0467e-02],\n",
            "        [ 3.4144e-02, -2.8096e-02,  2.8096e-02],\n",
            "        [-2.3498e-02,  2.3498e-02,  4.4124e-02],\n",
            "        [ 2.0160e-01, -7.9483e-02,  7.9483e-02],\n",
            "        [-2.7199e-02,  2.7199e-02,  3.1781e-02],\n",
            "        [ 3.7001e-01,  1.0596e-02, -1.0595e-02],\n",
            "        [ 2.0630e-01, -7.8292e-02,  7.8292e-02],\n",
            "        [ 3.9758e-02, -3.9758e-02,  9.7419e-02],\n",
            "        [ 1.6037e-01, -1.1564e-01,  1.1564e-01],\n",
            "        [ 5.8363e-02, -3.0835e-02,  3.0835e-02],\n",
            "        [-3.0812e-02,  3.5976e-02,  3.0812e-02],\n",
            "        [ 3.2880e-02, -2.4622e-02,  2.4622e-02],\n",
            "        [ 4.3023e-02, -3.8641e-02,  3.8641e-02],\n",
            "        [ 3.0278e-02,  7.9875e-02, -3.0278e-02],\n",
            "        [-4.2860e-02,  4.2860e-02,  2.4655e-01],\n",
            "        [ 3.8372e-02, -3.8372e-02,  4.4030e-02]], grad_fn=<SubBackward0>)\n"
          ],
          "name": "stdout"
        },
        {
          "output_type": "display_data",
          "data": {
            "text/html": [
              "<span style=\"background: rgb(240.34805297851562, 233.30209350585938, 254.99996948242188)\">это</span> <span style=\"background: rgb(255.0, 230.16505432128906, 249.70530700683594)\">сомнительно</span> <span style=\"background: rgb(253.58001708984375, 235.0966796875, 254.99998474121094)\">сказал</span> <span style=\"background: rgb(234.4966583251953, 220.20164489746094, 255.0)\">князь</span> <span style=\"background: rgb(249.5264129638672, 239.00942993164062, 255.0)\">андрей</span> <span style=\"background: rgb(236.20933532714844, 255.0, 228.2327117919922)\">господин</span> <span style=\"background: rgb(255.0, 240.56292724609375, 228.87615966796875)\">виконт</span> <span style=\"background: rgb(255.0, 244.95924377441406, 253.8958740234375)\">совершенно</span> <span style=\"background: rgb(255.0, 236.35101318359375, 252.2854461669922)\">справедливо</span> <span style=\"background: rgb(254.99996948242188, 236.3988494873047, 247.5167694091797)\">полагает</span> <span style=\"background: rgb(254.99998474121094, 229.38038635253906, 235.65756225585938)\">что</span> <span style=\"background: rgb(255.0, 236.487060546875, 252.0228729248047)\">дела</span> <span style=\"background: rgb(255.0, 199.3637237548828, 236.7342529296875)\">зашли</span> <span style=\"background: rgb(61.257652282714844, 53.00425338745117, 255.0)\">уже</span> <span style=\"background: rgb(255.0, 253.68743896484375, 242.89010620117188)\">слишком</span> <span style=\"background: rgb(241.00978088378906, 214.4713897705078, 255.0)\">далеко</span> <span style=\"background: rgb(253.322265625, 254.99998474121094, 248.77098083496094)\">я</span> <span style=\"background: rgb(227.6359405517578, 219.49688720703125, 255.0)\">думаю</span> <span style=\"background: rgb(255.0, 231.81661987304688, 250.1953582763672)\">что</span> <span style=\"background: rgb(240.02325439453125, 223.4026336669922, 255.0)\">трудно</span> <span style=\"background: rgb(252.04324340820312, 227.95436096191406, 255.0)\">будет</span> <span style=\"background: rgb(248.0069122314453, 228.6851043701172, 255.0)\">возвратиться</span> <span style=\"background: rgb(235.01626586914062, 182.53549194335938, 255.0)\">к</span> <span style=\"background: rgb(228.9552001953125, 209.06748962402344, 255.0)\">старому</span>"
            ],
            "text/plain": [
              "<IPython.core.display.HTML object>"
            ]
          },
          "metadata": {
            "tags": []
          }
        },
        {
          "output_type": "stream",
          "text": [
            "tensor([[-0.0086,  0.0086,  0.0181],\n",
            "        [ 0.0240, -0.0240,  0.0423],\n",
            "        [ 0.0420, -0.0420,  0.0555],\n",
            "        [ 0.0279, -0.0279,  0.0712],\n",
            "        [ 0.0433, -0.0283,  0.0283],\n",
            "        [ 0.0407, -0.0407,  0.0675],\n",
            "        [ 0.1342, -0.0749,  0.0749],\n",
            "        [ 0.0227, -0.0227,  0.0520],\n",
            "        [ 0.0378, -0.0378,  0.0406],\n",
            "        [-0.0156,  0.0156,  0.0240],\n",
            "        [ 0.0417, -0.0417,  0.0633],\n",
            "        [ 0.0139, -0.0139,  0.0247],\n",
            "        [ 0.0297, -0.0297,  0.1895],\n",
            "        [ 0.0470, -0.0200,  0.0200],\n",
            "        [ 0.0319, -0.0319,  0.0372],\n",
            "        [ 0.1032, -0.1032,  0.1767],\n",
            "        [ 0.0282, -0.0282,  0.0596],\n",
            "        [ 0.0555, -0.0167,  0.0167],\n",
            "        [ 0.0286, -0.0286,  0.1558],\n",
            "        [ 0.0590, -0.0184,  0.0184],\n",
            "        [ 0.2538, -0.0744,  0.0744],\n",
            "        [ 0.0975, -0.0443,  0.0443],\n",
            "        [ 0.0673, -0.0413,  0.0413],\n",
            "        [ 0.0591,  0.0139, -0.0139],\n",
            "        [ 0.0503, -0.0365,  0.0365],\n",
            "        [ 0.0390, -0.0390,  0.0512],\n",
            "        [ 0.0437, -0.0437,  0.0771],\n",
            "        [ 0.0224, -0.0224,  0.7704],\n",
            "        [ 0.0626, -0.0149,  0.0149],\n",
            "        [ 0.0438, -0.0404,  0.0404],\n",
            "        [ 0.0958, -0.0461,  0.0461],\n",
            "        [ 0.0197, -0.0197,  0.0899],\n",
            "        [ 0.0404, -0.0404,  0.0431],\n",
            "        [-0.0264,  0.0731,  0.0264],\n",
            "        [ 0.0428, -0.0428,  0.0647],\n",
            "        [ 0.1358, -0.0741,  0.0741],\n",
            "        [-0.0245,  0.0245,  0.0304],\n",
            "        [ 0.0415, -0.0415,  0.0669],\n",
            "        [ 0.0143, -0.0143,  0.0702],\n",
            "        [ 0.0313,  0.1337, -0.0313],\n",
            "        [ 0.0490, -0.0022,  0.0022],\n",
            "        [ 0.0208, -0.0152,  0.0152],\n",
            "        [ 0.0262, -0.0262,  0.1068],\n",
            "        [ 0.0506, -0.0463,  0.0463],\n",
            "        [ 0.0016,  0.0511, -0.0016],\n",
            "        [ 0.0188, -0.0188,  0.7794],\n",
            "        [ 0.0088, -0.0088,  0.7718],\n",
            "        [ 0.0467, -0.0322,  0.0322],\n",
            "        [ 0.0320, -0.0320,  0.0763],\n",
            "        [ 0.0933, -0.0316,  0.0316],\n",
            "        [-0.0320,  0.0320,  0.2279],\n",
            "        [ 0.0486, -0.0341,  0.0341],\n",
            "        [ 0.0320,  0.0975, -0.0320],\n",
            "        [ 0.0035, -0.0035,  0.0204],\n",
            "        [ 0.0562, -0.0181,  0.0181],\n",
            "        [ 0.0841, -0.0463,  0.0463],\n",
            "        [-0.0017,  0.0017,  0.0292],\n",
            "        [ 0.0327, -0.0327,  0.0446],\n",
            "        [ 0.0388, -0.0384,  0.0384],\n",
            "        [ 0.0522,  0.0330, -0.0330],\n",
            "        [ 0.0433, -0.0433,  0.0689],\n",
            "        [ 0.2795, -0.0417,  0.0417],\n",
            "        [ 0.0830, -0.0173,  0.0173],\n",
            "        [-0.0075,  0.0075,  0.0785],\n",
            "        [ 0.0443, -0.0443,  0.0456],\n",
            "        [ 0.3538, -0.0299,  0.0299],\n",
            "        [ 0.0652, -0.0652,  0.1716],\n",
            "        [-0.0146,  0.0146,  0.0426],\n",
            "        [ 0.0153, -0.0153,  0.0393],\n",
            "        [ 0.1201, -0.0289,  0.0289],\n",
            "        [ 0.0495, -0.0495,  0.0781],\n",
            "        [ 0.0315, -0.0315,  0.0318],\n",
            "        [ 0.1756, -0.1145,  0.1145],\n",
            "        [ 0.0543, -0.0543,  0.0554],\n",
            "        [ 0.0326, -0.0218,  0.0218],\n",
            "        [ 0.0435, -0.0201,  0.0201],\n",
            "        [ 0.1339, -0.0217,  0.0217],\n",
            "        [ 0.0089, -0.0089,  0.0315],\n",
            "        [ 0.0339, -0.0339,  0.0970],\n",
            "        [ 0.0622, -0.0562,  0.0562],\n",
            "        [ 0.0473, -0.0473,  0.0638],\n",
            "        [ 0.0298, -0.0298,  0.0565],\n",
            "        [ 0.0300, -0.0300,  0.0322],\n",
            "        [ 0.0883, -0.0244,  0.0244],\n",
            "        [ 0.0968, -0.0968,  0.1903],\n",
            "        [ 0.0474, -0.0352,  0.0352],\n",
            "        [ 0.1092,  0.0068, -0.0068]], grad_fn=<SubBackward0>)\n"
          ],
          "name": "stdout"
        },
        {
          "output_type": "display_data",
          "data": {
            "text/html": [
              "<span style=\"background: rgb(248.19692993164062, 252.56797790527344, 255.0)\">скачал</span> <span style=\"background: rgb(250.34024047851562, 238.0980224609375, 255.0)\">послушал</span> <span style=\"background: rgb(251.56861877441406, 230.1317138671875, 255.0)\">какая</span> <span style=\"background: rgb(243.95883178710938, 229.71971130371094, 255.00003051757812)\">то</span> <span style=\"background: rgb(255.0, 236.74659729003906, 251.18084716796875)\">банальщина</span> <span style=\"background: rgb(248.18310546875, 227.40921020507812, 254.99998474121094)\">такого</span> <span style=\"background: rgb(255.0, 201.692138671875, 239.885986328125)\">тоннычем</span> <span style=\"background: rgb(247.51968383789062, 235.95948791503906, 255.0)\">она</span> <span style=\"background: rgb(254.29400634765625, 235.02110290527344, 255.0)\">выделяется</span> <span style=\"background: rgb(244.87977600097656, 252.86093139648438, 255.0)\">среди</span> <span style=\"background: rgb(249.50144958496094, 228.2191925048828, 255.0)\">тысяч</span> <span style=\"background: rgb(252.2335662841797, 245.16844177246094, 254.99998474121094)\">таких</span> <span style=\"background: rgb(214.2506103515625, 199.0930938720703, 254.99998474121094)\">же</span>"
            ],
            "text/plain": [
              "<IPython.core.display.HTML object>"
            ]
          },
          "metadata": {
            "tags": []
          }
        },
        {
          "output_type": "stream",
          "text": [
            "tensor([[ 4.8019e-02, -4.8019e-02,  7.0605e-02],\n",
            "        [ 1.2868e-01, -1.2868e-01,  1.5299e-01],\n",
            "        [ 4.6613e-02, -4.1276e-02,  4.1276e-02],\n",
            "        [ 8.8999e-02, -4.8874e-02,  4.8874e-02],\n",
            "        [ 2.3034e-02, -2.3034e-02,  5.3361e-02],\n",
            "        [ 2.9947e-02,  2.8471e-02, -2.8471e-02],\n",
            "        [ 1.3035e-01, -1.3035e-01,  1.5654e-01],\n",
            "        [ 1.2436e-01, -2.8750e-03,  2.8749e-03],\n",
            "        [ 1.0672e-02, -1.0672e-02,  2.9864e-02],\n",
            "        [-1.5878e-02,  1.5878e-02,  4.7379e-02],\n",
            "        [ 4.0388e-02, -3.6845e-02,  3.6845e-02],\n",
            "        [ 1.2082e-01, -1.1233e-01,  1.1233e-01],\n",
            "        [ 4.6025e-02, -4.6025e-02,  7.8522e-02],\n",
            "        [ 3.8706e-02, -3.1697e-02,  3.1698e-02],\n",
            "        [ 7.3344e-02, -2.4711e-02,  2.4711e-02],\n",
            "        [ 4.9649e-02, -4.9649e-02,  7.4527e-02],\n",
            "        [ 3.2413e-02, -3.2413e-02,  3.6172e-02],\n",
            "        [ 9.3048e-02, -4.6378e-02,  4.6378e-02],\n",
            "        [-8.5193e-03,  8.5193e-03,  1.8151e-02],\n",
            "        [ 7.4525e-02,  2.3180e-02, -2.3180e-02],\n",
            "        [-2.6025e-02,  2.6025e-02,  4.9457e-02],\n",
            "        [ 1.6636e-01, -1.1504e-01,  1.1504e-01],\n",
            "        [ 1.9332e-02, -1.9332e-02,  3.2655e-01],\n",
            "        [ 1.9354e-02,  7.4863e-02, -1.9354e-02],\n",
            "        [ 4.4129e-02, -3.0477e-02,  3.0477e-02],\n",
            "        [ 1.0136e-01, -1.0136e-01,  1.8330e-01],\n",
            "        [ 1.8366e-02, -1.8366e-02,  2.3920e-02],\n",
            "        [ 2.5592e-03, -2.5592e-03,  1.3035e-01],\n",
            "        [ 4.8502e-02, -1.9089e-02,  1.9089e-02],\n",
            "        [ 6.2224e-02, -6.2224e-02,  8.3646e-02],\n",
            "        [-6.8686e-03,  6.8685e-03,  1.0819e-02],\n",
            "        [ 1.1824e-01,  1.9691e-02, -1.9691e-02],\n",
            "        [ 3.6047e-02, -3.5767e-02,  3.5767e-02],\n",
            "        [ 3.4653e-02, -3.4654e-02,  1.6336e-01],\n",
            "        [ 5.5823e-02, -5.5823e-02,  5.6384e-02],\n",
            "        [ 3.4217e-02, -3.0836e-02,  3.0836e-02],\n",
            "        [ 3.5137e-02, -3.5137e-02,  3.6611e-02],\n",
            "        [ 7.9194e-03, -7.9194e-03,  7.6916e-01],\n",
            "        [ 1.1827e-01,  1.0277e-02, -1.0277e-02],\n",
            "        [ 6.5152e-02, -6.5152e-02,  1.6478e-01],\n",
            "        [ 4.0393e-02, -4.0393e-02,  4.2966e-02],\n",
            "        [ 1.5496e-02, -1.5496e-02,  2.3533e-02],\n",
            "        [ 4.0405e-02, -2.8932e-02,  2.8932e-02],\n",
            "        [ 1.0510e-01, -4.3372e-02,  4.3372e-02],\n",
            "        [ 2.8815e-02, -2.8815e-02,  4.1313e-02],\n",
            "        [ 8.0130e-02, -2.7666e-02,  2.7665e-02],\n",
            "        [ 3.6282e-02, -3.6282e-02,  1.3523e-01],\n",
            "        [ 1.4497e-01, -1.0782e-01,  1.0782e-01],\n",
            "        [ 3.8781e-02,  1.5831e-02, -1.5831e-02],\n",
            "        [ 1.7736e-03,  5.2313e-02, -1.7736e-03],\n",
            "        [ 5.6572e-02, -4.6759e-02,  4.6759e-02],\n",
            "        [ 2.3995e-02, -2.3995e-02,  7.7983e-01],\n",
            "        [ 4.0708e-02, -1.8918e-02,  1.8918e-02],\n",
            "        [ 1.7321e-01, -1.1520e-01,  1.1520e-01],\n",
            "        [ 3.0226e-02, -3.0226e-02,  4.9499e-02],\n",
            "        [ 2.8370e-02, -2.5079e-02,  2.5079e-02],\n",
            "        [ 5.6405e-02, -2.9168e-02,  2.9168e-02],\n",
            "        [ 4.5788e-02, -3.4633e-02,  3.4633e-02],\n",
            "        [ 1.4913e-01, -7.3817e-02,  7.3817e-02],\n",
            "        [ 2.5309e-02, -2.5309e-02,  7.6315e-02],\n",
            "        [ 2.0573e-02, -2.0573e-02,  4.3973e-02],\n",
            "        [ 5.1321e-03,  2.8940e-02, -5.1321e-03],\n",
            "        [ 2.6869e-02, -2.6868e-02,  4.4363e-02],\n",
            "        [ 1.3781e-02,  7.8522e-02, -1.3781e-02],\n",
            "        [ 5.4135e-02, -5.4135e-02,  7.4015e-02],\n",
            "        [ 1.5385e-02,  7.2147e-02, -1.5384e-02],\n",
            "        [ 4.7503e-02, -4.2215e-02,  4.2215e-02],\n",
            "        [ 1.3313e-01, -1.0844e-01,  1.0844e-01],\n",
            "        [ 4.0834e-02, -4.0833e-02,  1.3754e-01],\n",
            "        [ 3.7167e-02, -2.4878e-02,  2.4878e-02],\n",
            "        [ 5.8886e-02, -1.7163e-02,  1.7163e-02],\n",
            "        [ 1.7380e-02, -1.7380e-02,  2.6480e-02],\n",
            "        [ 5.3182e-02, -1.4055e-02,  1.4055e-02],\n",
            "        [ 1.4523e-01, -7.4857e-02,  7.4857e-02],\n",
            "        [ 1.4092e-02, -1.4092e-02,  7.7264e-01],\n",
            "        [ 2.4798e-02, -2.4798e-02,  3.7760e-02],\n",
            "        [ 6.8433e-02, -1.7399e-02,  1.7399e-02],\n",
            "        [ 4.6724e-02, -4.6724e-02,  7.5583e-02],\n",
            "        [-1.3154e-02,  1.3154e-02,  5.1209e-02],\n",
            "        [ 5.3046e-02, -2.0687e-02,  2.0687e-02],\n",
            "        [ 3.6262e-03, -3.6262e-03,  3.7006e-02],\n",
            "        [ 1.3277e-01,  1.2031e-02, -1.2030e-02],\n",
            "        [ 1.8211e-02, -1.8211e-02,  7.7640e-01],\n",
            "        [ 9.2852e-03, -9.2853e-03,  7.7019e-01],\n",
            "        [ 1.2554e-02,  8.4984e-02, -1.2554e-02],\n",
            "        [ 1.2245e-01, -1.1287e-01,  1.1287e-01],\n",
            "        [-1.9349e-02,  5.6258e-02,  1.9349e-02],\n",
            "        [-2.1469e-02,  2.1469e-02,  4.5205e-02],\n",
            "        [ 1.6351e-02, -1.6351e-02,  3.1042e-02],\n",
            "        [ 5.2835e-02, -1.5475e-02,  1.5476e-02],\n",
            "        [ 5.8223e-02, -4.0742e-02,  4.0742e-02],\n",
            "        [ 3.1388e-02, -1.2088e-02,  1.2088e-02],\n",
            "        [ 9.7401e-02, -3.5723e-02,  3.5723e-02],\n",
            "        [-8.2540e-03,  8.2540e-03,  1.3426e-01],\n",
            "        [ 2.9029e-02, -2.9029e-02,  1.0560e-01],\n",
            "        [ 6.2869e-02, -6.2869e-02,  8.4949e-02],\n",
            "        [ 1.4050e-02, -1.4050e-02,  3.4840e-02],\n",
            "        [ 4.4049e-02, -4.4049e-02,  7.2701e-02],\n",
            "        [ 2.7763e-02, -2.7763e-02,  6.3049e-02],\n",
            "        [ 2.7274e-02, -1.9862e-02,  1.9862e-02],\n",
            "        [ 1.0119e-01, -4.7999e-02,  4.7999e-02],\n",
            "        [ 4.4578e-02, -4.4577e-02,  1.7265e-01],\n",
            "        [-2.2994e-02,  2.2994e-02,  2.3413e-01],\n",
            "        [ 2.2721e-04,  6.2110e-02, -2.2718e-04],\n",
            "        [ 4.2697e-02, -4.2697e-02,  4.6298e-02],\n",
            "        [ 1.3438e-02, -1.3439e-02,  7.7631e-01],\n",
            "        [ 2.3744e-02,  7.6448e-02, -2.3744e-02],\n",
            "        [ 4.0425e-02, -4.0425e-02,  1.7832e-01],\n",
            "        [ 1.0514e-02,  9.2617e-02, -1.0514e-02],\n",
            "        [ 7.0289e-02, -3.4326e-02,  3.4326e-02],\n",
            "        [ 4.9182e-02, -1.6912e-02,  1.6913e-02],\n",
            "        [ 4.9814e-02, -4.6954e-02,  4.6954e-02],\n",
            "        [ 1.3857e-02, -1.3857e-02,  7.6637e-02],\n",
            "        [ 3.8711e-02, -3.1509e-02,  3.1508e-02],\n",
            "        [ 3.6934e-02, -1.8134e-02,  1.8134e-02],\n",
            "        [ 9.4738e-02, -4.5127e-02,  4.5127e-02],\n",
            "        [ 4.8194e-02, -4.8194e-02,  4.9730e-02],\n",
            "        [ 4.1182e-01, -1.8844e-02,  1.8844e-02],\n",
            "        [ 1.5161e-01, -1.0576e-01,  1.0576e-01],\n",
            "        [ 1.0242e-02, -1.0242e-02,  5.4168e-02],\n",
            "        [-1.3770e-02,  1.3770e-02,  1.9294e-02],\n",
            "        [ 5.5469e-02,  9.1304e-03, -9.1304e-03],\n",
            "        [ 3.2490e-02, -3.2490e-02,  1.5001e-01],\n",
            "        [ 4.3847e-02, -6.7782e-03,  6.7782e-03],\n",
            "        [ 1.8462e-01, -5.3141e-02,  5.3141e-02],\n",
            "        [ 9.6340e-03, -9.6340e-03,  7.7396e-01],\n",
            "        [ 1.6357e-02,  7.4789e-02, -1.6357e-02],\n",
            "        [ 3.8109e-02, -3.0965e-02,  3.0965e-02],\n",
            "        [ 4.7216e-02, -3.6276e-02,  3.6276e-02],\n",
            "        [ 2.1460e-02, -2.1460e-02,  9.3828e-02],\n",
            "        [ 4.5329e-02, -3.3287e-02,  3.3287e-02],\n",
            "        [-1.8216e-02,  1.8327e-02,  1.8216e-02],\n",
            "        [ 3.3968e-02, -3.2637e-02,  3.2637e-02],\n",
            "        [ 7.6727e-03, -7.6728e-03,  4.5098e-02],\n",
            "        [ 4.4168e-02, -2.9659e-02,  2.9659e-02],\n",
            "        [ 7.0892e-02, -7.0892e-02,  1.5645e-01],\n",
            "        [ 2.4006e-02, -2.4006e-02,  8.0383e-02],\n",
            "        [ 2.2654e-02, -2.2654e-02,  4.1166e-02],\n",
            "        [ 9.3507e-02, -4.1409e-03,  4.1409e-03],\n",
            "        [ 4.5208e-03, -4.5208e-03,  3.5379e-01],\n",
            "        [ 2.9302e-01, -3.0581e-02,  3.0581e-02],\n",
            "        [ 1.1889e-01, -1.1023e-01,  1.1023e-01],\n",
            "        [ 1.6998e-02, -1.6998e-02,  7.2956e-02],\n",
            "        [ 5.4601e-02, -9.8086e-03,  9.8085e-03],\n",
            "        [ 6.0972e-02, -2.7828e-02,  2.7828e-02],\n",
            "        [ 4.1784e-02, -4.1784e-02,  6.3774e-02],\n",
            "        [ 7.0303e-02, -2.1945e-02,  2.1945e-02],\n",
            "        [ 5.0984e-02, -5.0984e-02,  1.0481e-01],\n",
            "        [ 4.3199e-02, -2.6521e-02,  2.6521e-02],\n",
            "        [ 3.7469e-02, -3.2245e-02,  3.2245e-02],\n",
            "        [ 4.2024e-02, -2.5555e-02,  2.5555e-02],\n",
            "        [ 4.1131e-02, -4.1131e-02,  1.8050e-01],\n",
            "        [ 1.2545e-01, -1.2545e-01,  1.6131e-01],\n",
            "        [ 7.1363e-02, -3.9979e-02,  3.9979e-02],\n",
            "        [ 1.4701e-01, -7.5822e-02,  7.5822e-02],\n",
            "        [ 1.2975e-02, -1.2975e-02,  1.1130e-01],\n",
            "        [ 5.5563e-02,  1.5177e-02, -1.5177e-02],\n",
            "        [ 4.8398e-02, -4.8398e-02,  7.2231e-02],\n",
            "        [ 3.3380e-02,  1.7313e-02, -1.7313e-02],\n",
            "        [ 1.1901e-02, -1.1901e-02,  8.5531e-02],\n",
            "        [ 5.3249e-02, -3.2017e-02,  3.2017e-02],\n",
            "        [ 2.7032e-02, -2.7032e-02,  1.9617e-01],\n",
            "        [ 5.6773e-02, -2.5548e-02,  2.5548e-02],\n",
            "        [ 6.5900e-02, -6.5900e-02,  1.6844e-01],\n",
            "        [ 1.6299e-02, -1.6299e-02,  3.5583e-02],\n",
            "        [ 2.0435e-02, -2.0435e-02,  3.2041e-02],\n",
            "        [ 5.4653e-02, -3.6046e-02,  3.6046e-02],\n",
            "        [ 3.7228e-02, -3.7228e-02,  4.7648e-02],\n",
            "        [ 6.1055e-02, -2.9716e-02,  2.9716e-02],\n",
            "        [ 1.2809e-02, -1.2809e-02,  2.4857e-02],\n",
            "        [ 2.2216e-02,  8.0767e-02, -2.2216e-02],\n",
            "        [ 1.0279e-01, -1.0279e-01,  1.8214e-01],\n",
            "        [ 1.7817e-02, -8.4858e-03,  8.4858e-03],\n",
            "        [ 4.9736e-02, -4.9736e-02,  8.6717e-02],\n",
            "        [ 5.2085e-02, -5.2085e-02,  7.5000e-02],\n",
            "        [ 1.7895e-02, -1.7895e-02,  6.0904e-02],\n",
            "        [ 3.4842e-02, -3.4842e-02,  6.1796e-02],\n",
            "        [ 4.6171e-02, -4.6171e-02,  7.1146e-02],\n",
            "        [ 5.9331e-02, -3.4520e-02,  3.4520e-02],\n",
            "        [ 1.8528e-01, -8.1762e-02,  8.1762e-02],\n",
            "        [ 5.7370e-02, -1.9764e-02,  1.9764e-02],\n",
            "        [-1.6557e-02,  3.6179e-02,  1.6557e-02],\n",
            "        [ 2.9157e-02, -2.9157e-02,  3.0527e-02],\n",
            "        [ 4.2840e-02, -4.2840e-02,  7.8113e-02],\n",
            "        [ 1.3329e-01, -1.0963e-01,  1.0963e-01],\n",
            "        [-2.8717e-02,  2.9618e-02,  2.8717e-02],\n",
            "        [ 6.4399e-02, -1.8980e-02,  1.8980e-02],\n",
            "        [ 1.1757e-02, -1.1757e-02,  7.8721e-02],\n",
            "        [ 3.6924e-02, -3.6924e-02,  3.8110e-02],\n",
            "        [ 2.8173e-02,  1.6357e-02, -1.6357e-02],\n",
            "        [ 5.2752e-02, -5.1403e-02,  5.1403e-02],\n",
            "        [-2.9285e-02,  5.8914e-02,  2.9285e-02],\n",
            "        [ 5.3775e-02, -5.3775e-02,  5.6377e-02],\n",
            "        [ 4.6890e-02, -3.3801e-02,  3.3801e-02],\n",
            "        [ 4.7845e-02, -4.7845e-02,  7.6256e-02],\n",
            "        [ 2.5236e-02, -1.2816e-02,  1.2816e-02],\n",
            "        [ 7.6186e-02, -7.6186e-02,  9.3201e-02],\n",
            "        [ 2.4763e-03, -2.4763e-03,  4.0950e-02],\n",
            "        [ 9.4054e-02,  2.5406e-02, -2.5406e-02],\n",
            "        [ 4.2050e-03, -4.2050e-03,  6.4130e-03],\n",
            "        [ 6.4430e-02, -6.4429e-02,  8.8233e-02],\n",
            "        [ 3.2685e-02, -3.2685e-02,  9.8722e-02],\n",
            "        [ 4.4590e-02, -2.9198e-02,  2.9198e-02],\n",
            "        [ 3.3815e-02,  1.4684e-02, -1.4684e-02],\n",
            "        [ 1.7338e-02, -1.7338e-02,  6.6586e-02],\n",
            "        [ 1.1849e-01, -2.3644e-02,  2.3644e-02],\n",
            "        [ 2.7885e-02, -2.7885e-02,  3.6012e-02],\n",
            "        [ 4.7016e-02, -3.4777e-02,  3.4777e-02],\n",
            "        [ 4.3598e-02, -4.3598e-02,  8.1258e-02],\n",
            "        [ 7.6695e-02, -7.6695e-02,  9.9021e-02],\n",
            "        [-2.6602e-02,  2.6602e-02,  2.2532e-01],\n",
            "        [ 1.0684e-01,  1.9177e-02, -1.9177e-02],\n",
            "        [ 2.0469e-02, -2.0308e-02,  2.0308e-02],\n",
            "        [ 3.8748e-02,  7.9423e-03, -7.9422e-03],\n",
            "        [ 5.1501e-02, -5.1501e-02,  1.0276e-01],\n",
            "        [ 1.4534e-02, -1.4534e-02,  7.7986e-01],\n",
            "        [ 4.4835e-02, -4.4835e-02,  7.3780e-02],\n",
            "        [ 3.8674e-02, -3.8673e-02,  5.6924e-02],\n",
            "        [ 1.2737e-01, -1.1931e-02,  1.1932e-02],\n",
            "        [ 4.5152e-02, -4.5152e-02,  1.0726e-01],\n",
            "        [ 7.0614e-02, -5.9228e-02,  5.9228e-02],\n",
            "        [ 9.5123e-02, -9.5123e-02,  1.1437e-01],\n",
            "        [ 1.7678e-01, -1.1175e-01,  1.1175e-01],\n",
            "        [ 2.3578e-02, -2.3578e-02,  1.0491e-01],\n",
            "        [ 5.5570e-02, -2.1588e-02,  2.1588e-02],\n",
            "        [ 1.9165e-03, -1.9164e-03,  1.0192e-01],\n",
            "        [ 1.6080e-02,  5.4698e-02, -1.6079e-02],\n",
            "        [ 4.0939e-02, -4.0939e-02,  5.0216e-02],\n",
            "        [ 2.5612e-02, -2.5612e-02,  4.8226e-02],\n",
            "        [ 1.7534e-01, -1.1409e-01,  1.1409e-01],\n",
            "        [ 9.8029e-03, -9.8029e-03,  3.9329e-02],\n",
            "        [ 4.7480e-02, -4.7480e-02,  5.0723e-02],\n",
            "        [ 1.7264e-01, -1.1506e-01,  1.1506e-01],\n",
            "        [ 2.6214e-02, -1.6827e-02,  1.6827e-02],\n",
            "        [ 1.7407e-02, -1.7407e-02,  3.7742e-02],\n",
            "        [ 3.8889e-02, -1.6394e-02,  1.6394e-02],\n",
            "        [ 3.9106e-02, -3.9106e-02,  7.3100e-02],\n",
            "        [ 3.8606e-02,  1.0238e-02, -1.0238e-02],\n",
            "        [-2.9854e-03,  2.9854e-03,  2.6890e-02],\n",
            "        [ 2.9555e-02, -2.9555e-02,  3.2552e-02],\n",
            "        [ 2.6898e-02, -2.6898e-02,  5.3975e-02],\n",
            "        [ 2.9254e-02,  8.5770e-02, -2.9254e-02],\n",
            "        [ 7.0467e-02, -9.2507e-03,  9.2507e-03],\n",
            "        [ 8.8543e-02, -4.2507e-02,  4.2507e-02],\n",
            "        [-1.4166e-02,  2.7223e-02,  1.4166e-02],\n",
            "        [ 5.8955e-02, -2.0055e-02,  2.0055e-02],\n",
            "        [ 6.5302e-02, -6.5302e-02,  1.6374e-01],\n",
            "        [ 1.1199e-03, -1.1199e-03,  3.3341e-02],\n",
            "        [ 4.0152e-02,  1.8920e-02, -1.8920e-02],\n",
            "        [ 7.3096e-02, -4.6750e-02,  4.6750e-02],\n",
            "        [ 3.5741e-02, -3.5741e-02,  3.8179e-02],\n",
            "        [ 2.0764e-02,  7.8052e-02, -2.0764e-02],\n",
            "        [ 5.8351e-02, -2.3225e-02,  2.3225e-02],\n",
            "        [-1.5393e-02,  1.5393e-02,  1.7626e-02],\n",
            "        [ 4.8180e-02, -3.3843e-02,  3.3843e-02],\n",
            "        [ 1.2600e-02,  6.5038e-02, -1.2600e-02],\n",
            "        [ 2.8451e-02, -2.6051e-02,  2.6051e-02],\n",
            "        [ 9.8259e-02, -4.5230e-02,  4.5230e-02],\n",
            "        [ 3.8303e-01,  1.5602e-02, -1.5602e-02],\n",
            "        [ 4.3778e-02, -4.3778e-02,  4.6483e-02],\n",
            "        [ 2.1239e-02, -2.1239e-02,  7.7943e-01],\n",
            "        [ 1.1696e-02,  4.3500e-02, -1.1696e-02],\n",
            "        [ 5.2507e-02, -5.2507e-02,  1.0447e-01],\n",
            "        [ 3.5041e-02, -3.5041e-02,  5.4314e-02],\n",
            "        [ 3.9972e-02, -3.9972e-02,  7.0248e-02],\n",
            "        [ 3.7525e-01, -1.3265e-02,  1.3265e-02],\n",
            "        [ 6.9881e-02, -4.0982e-02,  4.0982e-02],\n",
            "        [ 1.2152e-01, -1.1146e-01,  1.1146e-01],\n",
            "        [ 1.9042e-01, -8.1685e-02,  8.1685e-02],\n",
            "        [ 7.2879e-04,  7.4717e-02, -7.2873e-04],\n",
            "        [-1.2690e-02,  3.0811e-02,  1.2690e-02],\n",
            "        [ 3.8315e-01, -4.9718e-03,  4.9719e-03],\n",
            "        [-2.5907e-02,  2.5907e-02,  3.7731e-02],\n",
            "        [ 9.7718e-02, -9.7718e-02,  1.1063e-01],\n",
            "        [ 1.2387e-01, -1.2387e-01,  1.6231e-01],\n",
            "        [ 1.6737e-02, -1.6737e-02,  5.5357e-02],\n",
            "        [ 4.5837e-02, -2.7020e-02,  2.7020e-02],\n",
            "        [ 4.3263e-02, -3.0314e-02,  3.0314e-02],\n",
            "        [ 7.9952e-02, -7.9952e-02,  9.4501e-02],\n",
            "        [ 2.1611e-02, -2.1611e-02,  4.6679e-02],\n",
            "        [ 2.1617e-02, -2.1617e-02,  2.9660e-02],\n",
            "        [ 3.6154e-02, -3.6154e-02,  4.3206e-02],\n",
            "        [ 1.9261e-02, -1.9261e-02,  7.8102e-01],\n",
            "        [ 3.4975e-02,  1.1509e-01, -3.4975e-02],\n",
            "        [ 3.0645e-02, -3.0645e-02,  5.2746e-02],\n",
            "        [ 2.7919e-02, -1.3787e-02,  1.3787e-02],\n",
            "        [ 4.4258e-02, -4.4259e-02,  7.5940e-02],\n",
            "        [ 3.9433e-02, -2.9116e-02,  2.9116e-02],\n",
            "        [ 5.1246e-02, -2.3927e-02,  2.3927e-02],\n",
            "        [ 4.7640e-02, -4.7640e-02,  1.0649e-01],\n",
            "        [ 1.1854e-02, -1.1854e-02,  4.2887e-02],\n",
            "        [ 4.8675e-02, -4.8675e-02,  7.7336e-02],\n",
            "        [ 3.8165e-03, -3.8165e-03,  6.0158e-02],\n",
            "        [-1.2857e-02,  4.3328e-02,  1.2857e-02],\n",
            "        [ 3.5002e-02, -3.5002e-02,  9.1296e-02],\n",
            "        [ 3.8592e-02, -3.7109e-02,  3.7109e-02],\n",
            "        [ 3.9754e-02,  1.8575e-02, -1.8575e-02],\n",
            "        [ 1.1052e-01, -1.1052e-01,  1.1734e-01],\n",
            "        [ 3.7934e-02, -3.7934e-02,  3.9185e-02],\n",
            "        [ 3.1699e-02, -3.1699e-02,  6.9253e-02],\n",
            "        [ 4.9725e-02, -2.2357e-02,  2.2357e-02],\n",
            "        [ 2.7620e-02,  1.2005e-01, -2.7620e-02],\n",
            "        [ 3.3621e-02, -3.3621e-02,  3.9947e-02],\n",
            "        [ 1.2861e-01, -1.2861e-01,  1.5981e-01],\n",
            "        [ 4.1681e-02, -4.1681e-02,  1.1148e-01],\n",
            "        [ 3.9564e-02, -3.9564e-02,  6.2974e-02],\n",
            "        [ 3.5891e-02, -3.5891e-02,  6.8730e-02],\n",
            "        [ 6.0871e-02, -3.4330e-02,  3.4330e-02],\n",
            "        [ 6.2374e-02, -3.7892e-02,  3.7891e-02],\n",
            "        [ 4.4112e-02, -1.9075e-02,  1.9075e-02]], grad_fn=<SubBackward0>)\n"
          ],
          "name": "stdout"
        },
        {
          "output_type": "display_data",
          "data": {
            "text/html": [
              "<span style=\"background: rgb(249.2406463623047, 224.7509307861328, 255.0)\">у</span> <span style=\"background: rgb(248.8018341064453, 183.172607421875, 255.0)\">тебя</span> <span style=\"background: rgb(254.99996948242188, 232.5882568359375, 253.63897705078125)\">есть</span> <span style=\"background: rgb(255.00003051757812, 219.842529296875, 244.76812744140625)\">ухажр</span> <span style=\"background: rgb(247.2664794921875, 235.5193634033203, 255.0)\">нет</span> <span style=\"background: rgb(254.99996948242188, 254.6236114501953, 240.1033477783203)\">мои</span> <span style=\"background: rgb(248.32029724121094, 181.8440399169922, 255.0)\">уши</span> <span style=\"background: rgb(255.0, 222.55471801757812, 224.02093505859375)\">не</span> <span style=\"background: rgb(250.10581970214844, 244.66329956054688, 255.0)\">кто</span> <span style=\"background: rgb(238.8695068359375, 246.96731567382812, 255.0)\">не</span> <span style=\"background: rgb(255.00003051757812, 235.30557250976562, 254.09632873535156)\">жрт</span> <span style=\"background: rgb(255.0, 195.5475311279297, 252.83609008789062)\">как</span> <span style=\"background: rgb(246.71334838867188, 223.24050903320312, 255.0)\">можно</span> <span style=\"background: rgb(255.0, 237.047119140625, 253.21282958984375)\">быть</span> <span style=\"background: rgb(254.99996948242188, 229.99588012695312, 242.59848022460938)\">здоровой</span> <span style=\"background: rgb(248.656005859375, 223.33499145507812, 255.0)\">когда</span> <span style=\"background: rgb(254.04159545898438, 237.5107879638672, 255.0)\">нравственно</span> <span style=\"background: rgb(255.0, 219.4463653564453, 243.0990447998047)\">страдаешь</span> <span style=\"background: rgb(248.1990509033203, 252.54388427734375, 255.0)\">разве</span> <span style=\"background: rgb(255.0, 241.90695190429688, 230.08518981933594)\">можно</span> <span style=\"background: rgb(235.7522430419922, 249.02481079101562, 254.99998474121094)\">оставаться</span> <span style=\"background: rgb(255.0, 183.24398803710938, 241.91343688964844)\">спокойною</span> <span style=\"background: rgb(176.6605224609375, 166.80104064941406, 255.0)\">в</span> <span style=\"background: rgb(240.84519958496094, 255.0, 230.9745635986328)\">наше</span> <span style=\"background: rgb(255.00003051757812, 235.97544860839844, 251.51870727539062)\">время</span> <span style=\"background: rgb(234.1051025390625, 182.4124755859375, 254.99996948242188)\">когда</span> <span style=\"background: rgb(253.5838623046875, 244.2169952392578, 254.99996948242188)\">есть</span> <span style=\"background: rgb(222.4141387939453, 221.10894775390625, 255.0)\">у</span> <span style=\"background: rgb(254.99998474121094, 237.76441955566406, 247.49969482421875)\">человека</span> <span style=\"background: rgb(249.537353515625, 217.80325317382812, 255.0)\">чувство</span> <span style=\"background: rgb(250.48976135253906, 253.9927215576172, 255.0)\">сказала</span> <span style=\"background: rgb(255.0, 229.87091064453125, 219.8286590576172)\">анна</span> <span style=\"background: rgb(255.0, 236.6876220703125, 254.92864990234375)\">павловна</span> <span style=\"background: rgb(222.17884826660156, 204.5055694580078, 255.0)\">вы</span> <span style=\"background: rgb(254.8570098876953, 226.3870849609375, 255.0)\">весь</span> <span style=\"background: rgb(254.99996948242188, 238.41163635253906, 254.1378631591797)\">вечер</span> <span style=\"background: rgb(254.6240692138672, 236.70416259765625, 255.0)\">у</span> <span style=\"background: rgb(60.8836784362793, 56.84481430053711, 255.0)\">меня</span> <span style=\"background: rgb(255.0, 227.46263122558594, 222.2215118408203)\">надеюсь</span> <span style=\"background: rgb(229.59371948242188, 196.3661346435547, 255.0)\">кошмар</span> <span style=\"background: rgb(254.3437957763672, 233.7433624267578, 255.0)\">на</span> <span style=\"background: rgb(252.95057678222656, 245.04736328125, 254.99998474121094)\">хохловской</span> <span style=\"background: rgb(255.0, 237.31912231445312, 252.07423400878906)\">на</span> <span style=\"background: rgb(254.99996948242188, 217.13882446289062, 239.2584228515625)\">хохловской</span> <span style=\"background: rgb(251.81307983398438, 237.11720275878906, 255.0)\">ясно</span> <span style=\"background: rgb(255.00003051757812, 227.51223754882812, 241.6216583251953)\">блять</span> <span style=\"background: rgb(229.76910400390625, 211.26544189453125, 255.0)\">опять</span> <span style=\"background: rgb(255.0, 190.53817749023438, 245.52626037597656)\">эти</span> <span style=\"background: rgb(255.0, 249.14791870117188, 241.0739288330078)\">свинорылые</span> <span style=\"background: rgb(242.11248779296875, 255.0, 241.20797729492188)\">русские</span> <span style=\"background: rgb(254.99996948242188, 228.6505126953125, 252.49757385253906)\">устои</span> <span style=\"background: rgb(62.261268615722656, 50.02384567260742, 254.99998474121094)\">качают</span>"
            ],
            "text/plain": [
              "<IPython.core.display.HTML object>"
            ]
          },
          "metadata": {
            "tags": []
          }
        }
      ]
    },
    {
      "cell_type": "code",
      "metadata": {
        "id": "N9mHKg8TT6W8",
        "colab_type": "code",
        "colab": {}
      },
      "source": [
        ""
      ],
      "execution_count": 0,
      "outputs": []
    }
  ]
}